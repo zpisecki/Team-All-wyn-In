{
 "cells": [
  {
   "cell_type": "code",
   "execution_count": 194,
   "metadata": {},
   "outputs": [],
   "source": [
    "from numpy import mean,std \n",
    "import numpy as np\n",
    "import pandas as pd\n",
    "import matplotlib.pyplot as plt\n",
    "import sqlite3\n",
    "import os\n",
    "from sklearn import linear_model\n",
    "from sklearn.model_selection import train_test_split\n",
    "from sklearn.ensemble import RandomForestRegressor\n",
    "from skmultilearn.adapt import MLkNN\n",
    "from IPython.display import display \n",
    "import xgboost as xgb \n",
    "import plotly.express as px\n",
    "import plotly.graph_objects as go \n",
    "import sklearn.metrics as metrics \n",
    "from sklearn.linear_model import LinearRegression\n",
    "\n",
    "# Data preprocessing \n",
    "# Identify outliers\n",
    "def findOutlier(list_name): \n",
    "    s1 = [list_name[i][6] for i in range(len(list_name))]\n",
    "    data_mean = mean(s1)\n",
    "    data_std = std(s1)\n",
    "    cut_off = data_std * 3\n",
    "    lower = data_mean - cut_off \n",
    "    upper = data_mean + cut_off    \n",
    "    df = pd.DataFrame(list_name, columns=['row_id', 'c_labor', 'begin_date', 'end_date', 'education', 'years_experience', 'current_year', 'next_year', 'second_year', 'allwyn_job'])\n",
    "    df = df.drop(df[(df.current_year > upper) | (df.current_year < lower)].index)\n",
    "    return df\n",
    "\n",
    "\n",
    "conn = sqlite3.connect('calc.db')\n",
    "c = conn.cursor()\n",
    "\n",
    "# Get data \n",
    "test = c.execute(\"SELECT * FROM predictive_modeling_tbl;\").fetchall()\n",
    "s1 = c.execute(\"SELECT * FROM predictive_modeling_tbl WHERE jd_matching_allwyn = 'IT Project Manager I';\").fetchall()\n",
    "s2 = c.execute(\"SELECT * FROM predictive_modeling_tbl WHERE jd_matching_allwyn = 'IT Project Manager III';\").fetchall()\n",
    "s3 = c.execute(\"SELECT * FROM predictive_modeling_tbl WHERE jd_matching_allwyn = 'Senior Computer Security Systems Specialist';\").fetchall()\n",
    "s4 = c.execute(\"SELECT * FROM predictive_modeling_tbl WHERE jd_matching_allwyn = 'Senior Security Analyst';\").fetchall()\n",
    "s5 = c.execute(\"SELECT * FROM predictive_modeling_tbl WHERE jd_matching_allwyn = 'Cloud Engineer';\").fetchall()\n",
    "s6 = c.execute(\"SELECT * FROM predictive_modeling_tbl WHERE jd_matching_allwyn = 'Senior Data Scientist';\").fetchall()\n",
    "s7 = c.execute(\"SELECT * FROM predictive_modeling_tbl WHERE jd_matching_allwyn = 'User Experience (UX) Developer';\").fetchall()\n",
    "s8 = c.execute(\"SELECT * FROM predictive_modeling_tbl WHERE jd_matching_allwyn = 'Software Developer I';\").fetchall()\n",
    "s9 = c.execute(\"SELECT * FROM predictive_modeling_tbl WHERE jd_matching_allwyn = 'Test Automation Engineer ';\").fetchall()\n",
    "s10 = c.execute(\"SELECT * FROM predictive_modeling_tbl WHERE jd_matching_allwyn = 'Senior Java Developer';\").fetchall()\n",
    "s11 = c.execute(\"SELECT * FROM predictive_modeling_tbl WHERE jd_matching_allwyn = 'Software Developer III';\").fetchall()\n",
    "\n",
    "\n",
    "d1 = findOutlier(s1)\n",
    "d2 = findOutlier(s2)\n",
    "d3 = findOutlier(s3)\n",
    "d4 = findOutlier(s4)\n",
    "d5 = findOutlier(s5)\n",
    "d6 = findOutlier(s6)\n",
    "d7 = findOutlier(s7)\n",
    "d8 = findOutlier(s8)\n",
    "d9 = findOutlier(s9)\n",
    "d10 = findOutlier(s10)\n",
    "d11 = findOutlier(s11)\n",
    "\n",
    "df = pd.concat([d1,d2,d3,d4,d5,d6,d7,d8,d9,d10,d11])\n",
    "\n",
    "\n",
    "df['next_year'] = pd.to_numeric(df['next_year'], errors='coerce')\n",
    "df['next_year'] = df['next_year'].fillna(df['next_year'].median())\n",
    "df['second_year'] = pd.to_numeric(df['second_year'], errors='coerce')\n",
    "df['second_year'] = df['second_year'].fillna(df['second_year'].median()) "
   ]
  },
  {
   "cell_type": "code",
   "execution_count": 195,
   "metadata": {},
   "outputs": [
    {
     "data": {
      "text/html": [
       "<div>\n",
       "<style scoped>\n",
       "    .dataframe tbody tr th:only-of-type {\n",
       "        vertical-align: middle;\n",
       "    }\n",
       "\n",
       "    .dataframe tbody tr th {\n",
       "        vertical-align: top;\n",
       "    }\n",
       "\n",
       "    .dataframe thead th {\n",
       "        text-align: right;\n",
       "    }\n",
       "</style>\n",
       "<table border=\"1\" class=\"dataframe\">\n",
       "  <thead>\n",
       "    <tr style=\"text-align: right;\">\n",
       "      <th></th>\n",
       "      <th>row_id</th>\n",
       "      <th>c_labor</th>\n",
       "      <th>begin_date</th>\n",
       "      <th>end_date</th>\n",
       "      <th>education</th>\n",
       "      <th>years_experience</th>\n",
       "      <th>current_year</th>\n",
       "      <th>next_year</th>\n",
       "      <th>second_year</th>\n",
       "      <th>allwyn_job</th>\n",
       "    </tr>\n",
       "  </thead>\n",
       "  <tbody>\n",
       "    <tr>\n",
       "      <th>0</th>\n",
       "      <td>32</td>\n",
       "      <td>Assistant Project Coordinator</td>\n",
       "      <td>6/7/18</td>\n",
       "      <td>6/6/23</td>\n",
       "      <td>Bachelors</td>\n",
       "      <td>2</td>\n",
       "      <td>27.21</td>\n",
       "      <td></td>\n",
       "      <td></td>\n",
       "      <td>IT Project Manager I</td>\n",
       "    </tr>\n",
       "    <tr>\n",
       "      <th>1</th>\n",
       "      <td>181</td>\n",
       "      <td>Department Manager I</td>\n",
       "      <td>7/5/18</td>\n",
       "      <td>7/4/23</td>\n",
       "      <td>Bachelors</td>\n",
       "      <td>8</td>\n",
       "      <td>36.30</td>\n",
       "      <td>37.1</td>\n",
       "      <td>37.92</td>\n",
       "      <td>IT Project Manager I</td>\n",
       "    </tr>\n",
       "    <tr>\n",
       "      <th>2</th>\n",
       "      <td>247</td>\n",
       "      <td>Project Administrator I</td>\n",
       "      <td>6/7/18</td>\n",
       "      <td>6/6/23</td>\n",
       "      <td>Bachelors</td>\n",
       "      <td>4</td>\n",
       "      <td>38.07</td>\n",
       "      <td></td>\n",
       "      <td></td>\n",
       "      <td>IT Project Manager I</td>\n",
       "    </tr>\n",
       "    <tr>\n",
       "      <th>3</th>\n",
       "      <td>502</td>\n",
       "      <td>Buyer III</td>\n",
       "      <td>3/13/12</td>\n",
       "      <td>3/12/23</td>\n",
       "      <td>Bachelors</td>\n",
       "      <td>5</td>\n",
       "      <td>43.29</td>\n",
       "      <td></td>\n",
       "      <td></td>\n",
       "      <td>IT Project Manager I</td>\n",
       "    </tr>\n",
       "    <tr>\n",
       "      <th>4</th>\n",
       "      <td>554</td>\n",
       "      <td>Engineer I</td>\n",
       "      <td>10/23/19</td>\n",
       "      <td>10/22/24</td>\n",
       "      <td>Bachelors</td>\n",
       "      <td>0</td>\n",
       "      <td>44.10</td>\n",
       "      <td>44.98</td>\n",
       "      <td>45.88</td>\n",
       "      <td>IT Project Manager I</td>\n",
       "    </tr>\n",
       "  </tbody>\n",
       "</table>\n",
       "</div>"
      ],
      "text/plain": [
       "   row_id                        c_labor begin_date  end_date  education  \\\n",
       "0      32  Assistant Project Coordinator     6/7/18    6/6/23  Bachelors   \n",
       "1     181           Department Manager I     7/5/18    7/4/23  Bachelors   \n",
       "2     247        Project Administrator I     6/7/18    6/6/23  Bachelors   \n",
       "3     502                      Buyer III    3/13/12   3/12/23  Bachelors   \n",
       "4     554                     Engineer I   10/23/19  10/22/24  Bachelors   \n",
       "\n",
       "   years_experience  current_year next_year second_year            allwyn_job  \n",
       "0                 2         27.21                        IT Project Manager I  \n",
       "1                 8         36.30      37.1       37.92  IT Project Manager I  \n",
       "2                 4         38.07                        IT Project Manager I  \n",
       "3                 5         43.29                        IT Project Manager I  \n",
       "4                 0         44.10     44.98       45.88  IT Project Manager I  "
      ]
     },
     "execution_count": 195,
     "metadata": {},
     "output_type": "execute_result"
    }
   ],
   "source": [
    "d1.head(5)"
   ]
  },
  {
   "cell_type": "code",
   "execution_count": 196,
   "metadata": {},
   "outputs": [],
   "source": [
    "# Modeling\n",
    "X = d1[['allwyn_job','years_experience','education']]\n",
    "y = d1['current_year']\n",
    "\n",
    "X = pd.get_dummies(X)\n",
    "np.random.seed(2)\n",
    "X_train, X_test, y_train, y_test = train_test_split(X,y,test_size = 0.3)\n",
    "\n",
    "#'next_year','second_year'\n",
    "#'allwyn_job','years_experience','education',\n",
    "\n",
    "#X = X.drop(['allwyn_job_Senior Java Developer'], axis=1) "
   ]
  },
  {
   "cell_type": "code",
   "execution_count": 197,
   "metadata": {},
   "outputs": [
    {
     "name": "stdout",
     "output_type": "stream",
     "text": [
      "Intercept:  115.34119510702719\n",
      "Coefficients:  [ 5.54509307e+00  7.99360578e-14 -2.88713544e+01 -1.31710544e+01\n",
      "  4.20424088e+01]\n",
      "RMSE:  37.22423039472113 $/hr\n",
      "MAE 29.3 $/hr\n",
      "accuracy:  74.1 %\n",
      "R-squared:  0.39393956414277054\n"
     ]
    }
   ],
   "source": [
    "lm = linear_model.LinearRegression()\n",
    "lm.fit(X_train, y_train)\n",
    "y_pred = lm.predict(X_test)\n",
    "\n",
    "print('Intercept: ', lm.intercept_)\n",
    "print('Coefficients: ', lm.coef_)\n",
    "\n",
    "\n",
    "print('RMSE: ', np.sqrt(np.mean((lm.predict(X_test) - y_test)**2)), '$/hr')\n",
    "errors = abs(lm.predict(X_test) - y_test)\n",
    "print('MAE', round(np.mean(errors),2), '$/hr')\n",
    "mape = 100 * (errors / y_test)\n",
    "\n",
    "accuracy = 100 - np.mean(mape)\n",
    "print('accuracy: ', round(accuracy, 2), '%')\n",
    "print('R-squared: ', lm.score(X_test, y_test))"
   ]
  },
  {
   "cell_type": "code",
   "execution_count": 198,
   "metadata": {},
   "outputs": [
    {
     "data": {
      "text/html": [
       "<div>\n",
       "<style scoped>\n",
       "    .dataframe tbody tr th:only-of-type {\n",
       "        vertical-align: middle;\n",
       "    }\n",
       "\n",
       "    .dataframe tbody tr th {\n",
       "        vertical-align: top;\n",
       "    }\n",
       "\n",
       "    .dataframe thead th {\n",
       "        text-align: right;\n",
       "    }\n",
       "</style>\n",
       "<table border=\"1\" class=\"dataframe\">\n",
       "  <thead>\n",
       "    <tr style=\"text-align: right;\">\n",
       "      <th></th>\n",
       "      <th>Coefficient</th>\n",
       "    </tr>\n",
       "  </thead>\n",
       "  <tbody>\n",
       "    <tr>\n",
       "      <th>years_experience</th>\n",
       "      <td>5.545093e+00</td>\n",
       "    </tr>\n",
       "    <tr>\n",
       "      <th>allwyn_job_IT Project Manager I</th>\n",
       "      <td>7.993606e-14</td>\n",
       "    </tr>\n",
       "    <tr>\n",
       "      <th>education_Bachelors</th>\n",
       "      <td>-2.887135e+01</td>\n",
       "    </tr>\n",
       "    <tr>\n",
       "      <th>education_Masters</th>\n",
       "      <td>-1.317105e+01</td>\n",
       "    </tr>\n",
       "    <tr>\n",
       "      <th>education_Ph.D.</th>\n",
       "      <td>4.204241e+01</td>\n",
       "    </tr>\n",
       "  </tbody>\n",
       "</table>\n",
       "</div>"
      ],
      "text/plain": [
       "                                  Coefficient\n",
       "years_experience                 5.545093e+00\n",
       "allwyn_job_IT Project Manager I  7.993606e-14\n",
       "education_Bachelors             -2.887135e+01\n",
       "education_Masters               -1.317105e+01\n",
       "education_Ph.D.                  4.204241e+01"
      ]
     },
     "execution_count": 198,
     "metadata": {},
     "output_type": "execute_result"
    }
   ],
   "source": [
    "coeff_df = pd.DataFrame(lm.coef_, X.columns, columns=['Coefficient'])\n",
    "coeff_df"
   ]
  },
  {
   "cell_type": "code",
   "execution_count": 199,
   "metadata": {},
   "outputs": [
    {
     "data": {
      "text/plain": [
       "115.34119510702719"
      ]
     },
     "execution_count": 199,
     "metadata": {},
     "output_type": "execute_result"
    }
   ],
   "source": [
    "ic = lm.intercept_\n",
    "ic "
   ]
  },
  {
   "cell_type": "markdown",
   "metadata": {},
   "source": [
    "Get input "
   ]
  },
  {
   "cell_type": "code",
   "execution_count": 200,
   "metadata": {},
   "outputs": [
    {
     "data": {
      "text/plain": [
       "((448, 5), (448,))"
      ]
     },
     "execution_count": 200,
     "metadata": {},
     "output_type": "execute_result"
    }
   ],
   "source": [
    "X.shape, y.shape"
   ]
  },
  {
   "cell_type": "code",
   "execution_count": 201,
   "metadata": {},
   "outputs": [],
   "source": [
    "new_input = [[3,1,1,0,0]]"
   ]
  },
  {
   "cell_type": "code",
   "execution_count": 202,
   "metadata": {},
   "outputs": [
    {
     "name": "stdout",
     "output_type": "stream",
     "text": [
      "current year: [103.10511993] $/hr\n"
     ]
    }
   ],
   "source": [
    "new_output = lm.predict(new_input)\n",
    "print('current year:',new_output, '$/hr')"
   ]
  },
  {
   "cell_type": "markdown",
   "metadata": {},
   "source": [
    "Future prediction "
   ]
  },
  {
   "cell_type": "code",
   "execution_count": 203,
   "metadata": {},
   "outputs": [],
   "source": [
    "nd1 = df[df['allwyn_job'] == 'IT Project Manager I']"
   ]
  },
  {
   "cell_type": "code",
   "execution_count": 204,
   "metadata": {},
   "outputs": [],
   "source": [
    "nd1 = nd1[['current_year','next_year','second_year']]"
   ]
  },
  {
   "cell_type": "code",
   "execution_count": 205,
   "metadata": {},
   "outputs": [
    {
     "data": {
      "text/html": [
       "<div>\n",
       "<style scoped>\n",
       "    .dataframe tbody tr th:only-of-type {\n",
       "        vertical-align: middle;\n",
       "    }\n",
       "\n",
       "    .dataframe tbody tr th {\n",
       "        vertical-align: top;\n",
       "    }\n",
       "\n",
       "    .dataframe thead th {\n",
       "        text-align: right;\n",
       "    }\n",
       "</style>\n",
       "<table border=\"1\" class=\"dataframe\">\n",
       "  <thead>\n",
       "    <tr style=\"text-align: right;\">\n",
       "      <th></th>\n",
       "      <th>current_year</th>\n",
       "      <th>next_year</th>\n",
       "      <th>second_year</th>\n",
       "    </tr>\n",
       "  </thead>\n",
       "  <tbody>\n",
       "    <tr>\n",
       "      <th>0</th>\n",
       "      <td>27.21</td>\n",
       "      <td>111.28</td>\n",
       "      <td>112.84</td>\n",
       "    </tr>\n",
       "    <tr>\n",
       "      <th>1</th>\n",
       "      <td>36.30</td>\n",
       "      <td>37.10</td>\n",
       "      <td>37.92</td>\n",
       "    </tr>\n",
       "    <tr>\n",
       "      <th>2</th>\n",
       "      <td>38.07</td>\n",
       "      <td>111.28</td>\n",
       "      <td>112.84</td>\n",
       "    </tr>\n",
       "    <tr>\n",
       "      <th>3</th>\n",
       "      <td>43.29</td>\n",
       "      <td>111.28</td>\n",
       "      <td>112.84</td>\n",
       "    </tr>\n",
       "    <tr>\n",
       "      <th>4</th>\n",
       "      <td>44.10</td>\n",
       "      <td>44.98</td>\n",
       "      <td>45.88</td>\n",
       "    </tr>\n",
       "  </tbody>\n",
       "</table>\n",
       "</div>"
      ],
      "text/plain": [
       "   current_year  next_year  second_year\n",
       "0         27.21     111.28       112.84\n",
       "1         36.30      37.10        37.92\n",
       "2         38.07     111.28       112.84\n",
       "3         43.29     111.28       112.84\n",
       "4         44.10      44.98        45.88"
      ]
     },
     "execution_count": 205,
     "metadata": {},
     "output_type": "execute_result"
    }
   ],
   "source": [
    "nd1.head(5)"
   ]
  },
  {
   "cell_type": "code",
   "execution_count": 206,
   "metadata": {},
   "outputs": [
    {
     "data": {
      "text/plain": [
       "current_year    float64\n",
       "next_year       float64\n",
       "second_year     float64\n",
       "dtype: object"
      ]
     },
     "execution_count": 206,
     "metadata": {},
     "output_type": "execute_result"
    }
   ],
   "source": [
    "nd1.dtypes"
   ]
  },
  {
   "cell_type": "code",
   "execution_count": 207,
   "metadata": {},
   "outputs": [
    {
     "data": {
      "text/html": [
       "<style  type=\"text/css\" >\n",
       "#T_c7751b44_e969_11eb_9a72_acde48001122row0_col0,#T_c7751b44_e969_11eb_9a72_acde48001122row1_col1,#T_c7751b44_e969_11eb_9a72_acde48001122row2_col2{\n",
       "            background-color:  #b40426;\n",
       "            color:  #f1f1f1;\n",
       "        }#T_c7751b44_e969_11eb_9a72_acde48001122row0_col1{\n",
       "            background-color:  #9abbff;\n",
       "            color:  #000000;\n",
       "        }#T_c7751b44_e969_11eb_9a72_acde48001122row0_col2,#T_c7751b44_e969_11eb_9a72_acde48001122row2_col0,#T_c7751b44_e969_11eb_9a72_acde48001122row2_col1{\n",
       "            background-color:  #3b4cc0;\n",
       "            color:  #f1f1f1;\n",
       "        }#T_c7751b44_e969_11eb_9a72_acde48001122row1_col0{\n",
       "            background-color:  #efcfbf;\n",
       "            color:  #000000;\n",
       "        }#T_c7751b44_e969_11eb_9a72_acde48001122row1_col2{\n",
       "            background-color:  #c3d5f4;\n",
       "            color:  #000000;\n",
       "        }</style><table id=\"T_c7751b44_e969_11eb_9a72_acde48001122\" ><thead>    <tr>        <th class=\"blank level0\" ></th>        <th class=\"col_heading level0 col0\" >current_year</th>        <th class=\"col_heading level0 col1\" >next_year</th>        <th class=\"col_heading level0 col2\" >second_year</th>    </tr></thead><tbody>\n",
       "                <tr>\n",
       "                        <th id=\"T_c7751b44_e969_11eb_9a72_acde48001122level0_row0\" class=\"row_heading level0 row0\" >current_year</th>\n",
       "                        <td id=\"T_c7751b44_e969_11eb_9a72_acde48001122row0_col0\" class=\"data row0 col0\" >1.00</td>\n",
       "                        <td id=\"T_c7751b44_e969_11eb_9a72_acde48001122row0_col1\" class=\"data row0 col1\" >0.94</td>\n",
       "                        <td id=\"T_c7751b44_e969_11eb_9a72_acde48001122row0_col2\" class=\"data row0 col2\" >0.87</td>\n",
       "            </tr>\n",
       "            <tr>\n",
       "                        <th id=\"T_c7751b44_e969_11eb_9a72_acde48001122level0_row1\" class=\"row_heading level0 row1\" >next_year</th>\n",
       "                        <td id=\"T_c7751b44_e969_11eb_9a72_acde48001122row1_col0\" class=\"data row1 col0\" >0.94</td>\n",
       "                        <td id=\"T_c7751b44_e969_11eb_9a72_acde48001122row1_col1\" class=\"data row1 col1\" >1.00</td>\n",
       "                        <td id=\"T_c7751b44_e969_11eb_9a72_acde48001122row1_col2\" class=\"data row1 col2\" >0.92</td>\n",
       "            </tr>\n",
       "            <tr>\n",
       "                        <th id=\"T_c7751b44_e969_11eb_9a72_acde48001122level0_row2\" class=\"row_heading level0 row2\" >second_year</th>\n",
       "                        <td id=\"T_c7751b44_e969_11eb_9a72_acde48001122row2_col0\" class=\"data row2 col0\" >0.87</td>\n",
       "                        <td id=\"T_c7751b44_e969_11eb_9a72_acde48001122row2_col1\" class=\"data row2 col1\" >0.92</td>\n",
       "                        <td id=\"T_c7751b44_e969_11eb_9a72_acde48001122row2_col2\" class=\"data row2 col2\" >1.00</td>\n",
       "            </tr>\n",
       "    </tbody></table>"
      ],
      "text/plain": [
       "<pandas.io.formats.style.Styler at 0x1534326a0>"
      ]
     },
     "execution_count": 207,
     "metadata": {},
     "output_type": "execute_result"
    }
   ],
   "source": [
    "corr = nd1.corr()\n",
    "corr.style.background_gradient(cmap='coolwarm').set_precision(2)"
   ]
  },
  {
   "cell_type": "code",
   "execution_count": 208,
   "metadata": {},
   "outputs": [],
   "source": [
    "X1 = nd1['current_year']\n",
    "y1 = nd1['next_year'] \n",
    "X1 = X1.values.reshape(-1,1)\n",
    "y1 = y1.values.reshape(-1,1)"
   ]
  },
  {
   "cell_type": "code",
   "execution_count": 209,
   "metadata": {},
   "outputs": [],
   "source": [
    "np.random.seed(2)\n",
    "X1_train, X1_test, y1_train, y1_test = train_test_split(X1,y1,test_size = 0.3) "
   ]
  },
  {
   "cell_type": "code",
   "execution_count": 210,
   "metadata": {},
   "outputs": [
    {
     "name": "stdout",
     "output_type": "stream",
     "text": [
      "Intercept:  [11.55183454]\n",
      "Coefficients:  [[0.90694511]]\n",
      "RMSE:  12.363740340015319 $/hr\n",
      "MAE 7.17 $/hr\n",
      "accuracy:  94.4 %\n",
      "R-squared:  0.9319135494088913\n"
     ]
    }
   ],
   "source": [
    "lm1 = linear_model.LinearRegression()\n",
    "lm1.fit(X1_train, y1_train)\n",
    "\n",
    "print('Intercept: ', lm1.intercept_)\n",
    "print('Coefficients: ', lm1.coef_)\n",
    "\n",
    "print('RMSE: ', np.sqrt(np.mean((lm1.predict(X1_test) - y1_test)**2)), '$/hr')\n",
    "errors = abs(lm1.predict(X1_test) - y1_test)\n",
    "print('MAE', round(np.mean(errors),2), '$/hr')\n",
    "mape = 100 * (errors / y1_test)\n",
    "\n",
    "accuracy = 100 - np.mean(mape)\n",
    "print('accuracy: ', round(accuracy, 2), '%')\n",
    "print('R-squared: ', lm1.score(X1_test, y1_test))  "
   ]
  },
  {
   "cell_type": "code",
   "execution_count": 211,
   "metadata": {},
   "outputs": [
    {
     "name": "stdout",
     "output_type": "stream",
     "text": [
      "second year: [[105.06251913]] $/hr\n"
     ]
    }
   ],
   "source": [
    "new_input1 = new_output.reshape(-1,1)\n",
    "final_output = lm1.predict(new_input1)\n",
    "print('second year:',final_output, '$/hr')"
   ]
  },
  {
   "cell_type": "code",
   "execution_count": 212,
   "metadata": {},
   "outputs": [],
   "source": [
    "X2 = nd1['second_year']\n",
    "y2 = nd1['next_year'] \n",
    "X2 = X2.values.reshape(-1,1)\n",
    "y2 = y2.values.reshape(-1,1)"
   ]
  },
  {
   "cell_type": "code",
   "execution_count": 213,
   "metadata": {},
   "outputs": [],
   "source": [
    "np.random.seed(2)\n",
    "X2_train, X2_test, y2_train, y2_test = train_test_split(X2,y2,test_size = 0.3) "
   ]
  },
  {
   "cell_type": "code",
   "execution_count": 214,
   "metadata": {},
   "outputs": [
    {
     "name": "stdout",
     "output_type": "stream",
     "text": [
      "Intercept:  [2.13110018]\n",
      "Coefficients:  [[0.97179223]]\n",
      "RMSE:  17.813278750632332 $/hr\n",
      "MAE 6.6 $/hr\n",
      "accuracy:  94.52 %\n",
      "R-squared:  0.8586653422714686\n"
     ]
    }
   ],
   "source": [
    "lm2 = linear_model.LinearRegression()\n",
    "lm2.fit(X2_train, y2_train)\n",
    "\n",
    "print('Intercept: ', lm2.intercept_)\n",
    "print('Coefficients: ', lm2.coef_)\n",
    "\n",
    "print('RMSE: ', np.sqrt(np.mean((lm2.predict(X2_test) - y2_test)**2)), '$/hr')\n",
    "errors = abs(lm2.predict(X2_test) - y2_test)\n",
    "print('MAE', round(np.mean(errors),2), '$/hr')\n",
    "mape = 100 * (errors / y2_test)\n",
    "\n",
    "accuracy = 100 - np.mean(mape)\n",
    "print('accuracy: ', round(accuracy, 2), '%')\n",
    "print('R-squared: ', lm2.score(X2_test, y2_test))  "
   ]
  },
  {
   "cell_type": "code",
   "execution_count": 215,
   "metadata": {
    "scrolled": true
   },
   "outputs": [
    {
     "name": "stdout",
     "output_type": "stream",
     "text": [
      "third year: [[104.23003972]] $/hr\n"
     ]
    }
   ],
   "source": [
    "new_input2 = final_output.reshape(-1,1)\n",
    "final_output1 = lm2.predict(new_input2)\n",
    "print('third year:',final_output1, '$/hr')"
   ]
  },
  {
   "cell_type": "code",
   "execution_count": 216,
   "metadata": {},
   "outputs": [],
   "source": [
    "def linear_model(new_output,X1,y1): \n",
    "    X1 = X1.values.reshape(-1,1)\n",
    "    y1 = y1.values.reshape(-1,1)\n",
    "    np.random.seed(2)\n",
    "    X1_train, X1_test, y1_train, y1_test = train_test_split(X1,y1,test_size = 0.3) \n",
    "    lm = linear_model.LinearRegression()\n",
    "    lm.fit(X_train, y_train)\n",
    "    y_pred = lm.predict(X_test)\n",
    "\n",
    "    print('Intercept: ', lm.intercept_)\n",
    "    print('Coefficients: ', lm.coef_)\n",
    "\n",
    "\n",
    "    print('RMSE: ', np.sqrt(np.mean((lm.predict(X_test) - y_test)**2)), '$/hr')\n",
    "    errors = abs(lm.predict(X_test) - y_test)\n",
    "    print('MAE', round(np.mean(errors),2), '$/hr')\n",
    "    mape = 100 * (errors / y_test)\n",
    "\n",
    "    accuracy = 100 - np.mean(mape)\n",
    "    print('accuracy: ', round(accuracy, 2), '%')\n",
    "    print('R-squared: ', lm.score(X_test, y_test)) \n",
    "    \n",
    "    new_input1 = new_output.reshape(-1,1)\n",
    "    final_output = lm1.predict(new_input1)\n",
    "    print(final_output)\n",
    "    return final_output"
   ]
  },
  {
   "cell_type": "code",
   "execution_count": 217,
   "metadata": {},
   "outputs": [
    {
     "ename": "AttributeError",
     "evalue": "'function' object has no attribute 'LinearRegression'",
     "output_type": "error",
     "traceback": [
      "\u001b[0;31m---------------------------------------------------------------------------\u001b[0m",
      "\u001b[0;31mAttributeError\u001b[0m                            Traceback (most recent call last)",
      "\u001b[0;32m<ipython-input-217-60013c24a08b>\u001b[0m in \u001b[0;36m<module>\u001b[0;34m\u001b[0m\n\u001b[1;32m      1\u001b[0m \u001b[0mXsec\u001b[0m \u001b[0;34m=\u001b[0m \u001b[0mnd1\u001b[0m\u001b[0;34m[\u001b[0m\u001b[0;34m'current_year'\u001b[0m\u001b[0;34m]\u001b[0m\u001b[0;34m\u001b[0m\u001b[0;34m\u001b[0m\u001b[0m\n\u001b[1;32m      2\u001b[0m \u001b[0mysec\u001b[0m \u001b[0;34m=\u001b[0m \u001b[0mnd1\u001b[0m\u001b[0;34m[\u001b[0m\u001b[0;34m'next_year'\u001b[0m\u001b[0;34m]\u001b[0m\u001b[0;34m\u001b[0m\u001b[0;34m\u001b[0m\u001b[0m\n\u001b[0;32m----> 3\u001b[0;31m \u001b[0mlinear_model\u001b[0m\u001b[0;34m(\u001b[0m\u001b[0mnew_output\u001b[0m\u001b[0;34m,\u001b[0m\u001b[0mXsec\u001b[0m\u001b[0;34m,\u001b[0m\u001b[0mysec\u001b[0m\u001b[0;34m)\u001b[0m\u001b[0;34m\u001b[0m\u001b[0;34m\u001b[0m\u001b[0m\n\u001b[0m",
      "\u001b[0;32m<ipython-input-216-4dd6b0a46c2b>\u001b[0m in \u001b[0;36mlinear_model\u001b[0;34m(new_output, X1, y1)\u001b[0m\n\u001b[1;32m      4\u001b[0m     \u001b[0mnp\u001b[0m\u001b[0;34m.\u001b[0m\u001b[0mrandom\u001b[0m\u001b[0;34m.\u001b[0m\u001b[0mseed\u001b[0m\u001b[0;34m(\u001b[0m\u001b[0;36m2\u001b[0m\u001b[0;34m)\u001b[0m\u001b[0;34m\u001b[0m\u001b[0;34m\u001b[0m\u001b[0m\n\u001b[1;32m      5\u001b[0m     \u001b[0mX1_train\u001b[0m\u001b[0;34m,\u001b[0m \u001b[0mX1_test\u001b[0m\u001b[0;34m,\u001b[0m \u001b[0my1_train\u001b[0m\u001b[0;34m,\u001b[0m \u001b[0my1_test\u001b[0m \u001b[0;34m=\u001b[0m \u001b[0mtrain_test_split\u001b[0m\u001b[0;34m(\u001b[0m\u001b[0mX1\u001b[0m\u001b[0;34m,\u001b[0m\u001b[0my1\u001b[0m\u001b[0;34m,\u001b[0m\u001b[0mtest_size\u001b[0m \u001b[0;34m=\u001b[0m \u001b[0;36m0.3\u001b[0m\u001b[0;34m)\u001b[0m\u001b[0;34m\u001b[0m\u001b[0;34m\u001b[0m\u001b[0m\n\u001b[0;32m----> 6\u001b[0;31m     \u001b[0mlm\u001b[0m \u001b[0;34m=\u001b[0m \u001b[0mlinear_model\u001b[0m\u001b[0;34m.\u001b[0m\u001b[0mLinearRegression\u001b[0m\u001b[0;34m(\u001b[0m\u001b[0;34m)\u001b[0m\u001b[0;34m\u001b[0m\u001b[0;34m\u001b[0m\u001b[0m\n\u001b[0m\u001b[1;32m      7\u001b[0m     \u001b[0mlm\u001b[0m\u001b[0;34m.\u001b[0m\u001b[0mfit\u001b[0m\u001b[0;34m(\u001b[0m\u001b[0mX_train\u001b[0m\u001b[0;34m,\u001b[0m \u001b[0my_train\u001b[0m\u001b[0;34m)\u001b[0m\u001b[0;34m\u001b[0m\u001b[0;34m\u001b[0m\u001b[0m\n\u001b[1;32m      8\u001b[0m     \u001b[0my_pred\u001b[0m \u001b[0;34m=\u001b[0m \u001b[0mlm\u001b[0m\u001b[0;34m.\u001b[0m\u001b[0mpredict\u001b[0m\u001b[0;34m(\u001b[0m\u001b[0mX_test\u001b[0m\u001b[0;34m)\u001b[0m\u001b[0;34m\u001b[0m\u001b[0;34m\u001b[0m\u001b[0m\n",
      "\u001b[0;31mAttributeError\u001b[0m: 'function' object has no attribute 'LinearRegression'"
     ]
    }
   ],
   "source": [
    "Xsec = nd1['current_year']\n",
    "ysec = nd1['next_year'] \n",
    "linear_model(new_output,Xsec,ysec)"
   ]
  },
  {
   "cell_type": "code",
   "execution_count": null,
   "metadata": {},
   "outputs": [],
   "source": []
  }
 ],
 "metadata": {
  "kernelspec": {
   "display_name": "Python 3",
   "language": "python",
   "name": "python3"
  },
  "language_info": {
   "codemirror_mode": {
    "name": "ipython",
    "version": 3
   },
   "file_extension": ".py",
   "mimetype": "text/x-python",
   "name": "python",
   "nbconvert_exporter": "python",
   "pygments_lexer": "ipython3",
   "version": "3.8.5"
  }
 },
 "nbformat": 4,
 "nbformat_minor": 4
}
