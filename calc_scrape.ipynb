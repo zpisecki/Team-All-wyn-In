{
 "cells": [
  {
   "cell_type": "code",
   "execution_count": null,
   "id": "c6f8eeb2",
   "metadata": {},
   "outputs": [],
   "source": [
    "# DAEN 690\n",
    "# Team All(wyn) In\n",
    "# program to build dataframe with job price, experience, education, and job description\n",
    "\n",
    "# ORIGINAL FILE 6/6/21 - Jeanine"
   ]
  },
  {
   "cell_type": "code",
   "execution_count": 111,
   "id": "c231e555",
   "metadata": {},
   "outputs": [],
   "source": [
    "import pandas as pd\n",
    "import html5lib\n",
    "import bs4\n",
    "import lxml.html as html\n",
    "from selenium import webdriver\n",
    "import requests\n",
    "import re"
   ]
  },
  {
   "cell_type": "code",
   "execution_count": 83,
   "id": "3876d046",
   "metadata": {},
   "outputs": [],
   "source": [
    "# arbitrary CALC search\n",
    "url = \"https://calc.gsa.gov/?education=BA%2CMA%2CPHD&q=computer%20programmer%2C%20%7C&min_experience=5&max_experience=7\""
   ]
  },
  {
   "cell_type": "code",
   "execution_count": 73,
   "id": "32482055",
   "metadata": {},
   "outputs": [],
   "source": [
    "# Google Chrome driver - may have to change if you don't have Chrome installed\n",
    "driver = webdriver.Chrome(executable_path = \"/Users/Jeanine/Downloads/chromedriver\")\n",
    "driver.implicitly_wait(30)\n",
    "\n",
    "# pull html from page\n",
    "driver.get('https://calc.gsa.gov/?education=BA%2CMA%2CPHD&q=%7C&schedule=736TAPS&min_experience=5&max_experience=7')\n",
    "df=pd.read_html(driver.find_element_by_id(\"results-table\").get_attribute('outerHTML'))[0]"
   ]
  },
  {
   "cell_type": "code",
   "execution_count": 22,
   "id": "a76eacae",
   "metadata": {},
   "outputs": [],
   "source": [
    "# scrape table from page\n",
    "tab = driver.find_element_by_id(\"results-table\")"
   ]
  },
  {
   "cell_type": "code",
   "execution_count": 74,
   "id": "bb1fec7d",
   "metadata": {},
   "outputs": [],
   "source": [
    "tab_html = tab.get_attribute('outerHTML')"
   ]
  },
  {
   "cell_type": "code",
   "execution_count": 75,
   "id": "4a7915df",
   "metadata": {},
   "outputs": [],
   "source": [
    "tab_dfs = pd.read_html(tab_html)"
   ]
  },
  {
   "cell_type": "code",
   "execution_count": 76,
   "id": "77fc5e79",
   "metadata": {},
   "outputs": [],
   "source": [
    "df = tab_dfs[0]"
   ]
  },
  {
   "cell_type": "code",
   "execution_count": 77,
   "id": "43ea96d2",
   "metadata": {},
   "outputs": [
    {
     "data": {
      "text/html": [
       "<div>\n",
       "<style scoped>\n",
       "    .dataframe tbody tr th:only-of-type {\n",
       "        vertical-align: middle;\n",
       "    }\n",
       "\n",
       "    .dataframe tbody tr th {\n",
       "        vertical-align: top;\n",
       "    }\n",
       "\n",
       "    .dataframe thead th {\n",
       "        text-align: right;\n",
       "    }\n",
       "</style>\n",
       "<table border=\"1\" class=\"dataframe\">\n",
       "  <thead>\n",
       "    <tr style=\"text-align: right;\">\n",
       "      <th></th>\n",
       "      <th>Unnamed: 0</th>\n",
       "      <th>Labor category</th>\n",
       "      <th>Price</th>\n",
       "      <th>Education</th>\n",
       "      <th>Keywords</th>\n",
       "      <th>Certifications</th>\n",
       "      <th>Exper.</th>\n",
       "      <th>Vendor / Contract</th>\n",
       "      <th>Contract vehicle</th>\n",
       "    </tr>\n",
       "  </thead>\n",
       "  <tbody>\n",
       "    <tr>\n",
       "      <th>0</th>\n",
       "      <td>×</td>\n",
       "      <td>Claim Analyst</td>\n",
       "      <td>$29.09</td>\n",
       "      <td>Bachelors</td>\n",
       "      <td>NaN</td>\n",
       "      <td>NaN</td>\n",
       "      <td>5 years</td>\n",
       "      <td>SAPTA GLOBAL INC.GS-02F-033GA</td>\n",
       "      <td>736TAPS</td>\n",
       "    </tr>\n",
       "    <tr>\n",
       "      <th>1</th>\n",
       "      <td>×</td>\n",
       "      <td>AP/AR Analyst</td>\n",
       "      <td>$31.85</td>\n",
       "      <td>Bachelors</td>\n",
       "      <td>NaN</td>\n",
       "      <td>NaN</td>\n",
       "      <td>5 years</td>\n",
       "      <td>SAPTA GLOBAL INC.GS-02F-033GA</td>\n",
       "      <td>736TAPS</td>\n",
       "    </tr>\n",
       "    <tr>\n",
       "      <th>2</th>\n",
       "      <td>×</td>\n",
       "      <td>Technical Instructor</td>\n",
       "      <td>$34.31</td>\n",
       "      <td>Bachelors</td>\n",
       "      <td>NaN</td>\n",
       "      <td>NaN</td>\n",
       "      <td>5 years</td>\n",
       "      <td>Continental Design Co., INC.GS-02F-016GA</td>\n",
       "      <td>736TAPS</td>\n",
       "    </tr>\n",
       "    <tr>\n",
       "      <th>3</th>\n",
       "      <td>×</td>\n",
       "      <td>Financial Analyst</td>\n",
       "      <td>$36.86</td>\n",
       "      <td>Bachelors</td>\n",
       "      <td>NaN</td>\n",
       "      <td>NaN</td>\n",
       "      <td>6 years</td>\n",
       "      <td>SAPTA GLOBAL INC.GS-02F-033GA</td>\n",
       "      <td>736TAPS</td>\n",
       "    </tr>\n",
       "    <tr>\n",
       "      <th>4</th>\n",
       "      <td>×</td>\n",
       "      <td>Proofreader</td>\n",
       "      <td>$37.40</td>\n",
       "      <td>Bachelors</td>\n",
       "      <td>NaN</td>\n",
       "      <td>NaN</td>\n",
       "      <td>5 years</td>\n",
       "      <td>Creative Options of District of Columbia, INC....</td>\n",
       "      <td>736TAPS</td>\n",
       "    </tr>\n",
       "    <tr>\n",
       "      <th>5</th>\n",
       "      <td>×</td>\n",
       "      <td>Project Manager I</td>\n",
       "      <td>$38.07</td>\n",
       "      <td>Bachelors</td>\n",
       "      <td>NaN</td>\n",
       "      <td>NaN</td>\n",
       "      <td>7 years</td>\n",
       "      <td>Synergy America, Inc.47QREA18D000T</td>\n",
       "      <td>736TAPS</td>\n",
       "    </tr>\n",
       "    <tr>\n",
       "      <th>6</th>\n",
       "      <td>×</td>\n",
       "      <td>Business Consultant II</td>\n",
       "      <td>$38.91</td>\n",
       "      <td>Bachelors</td>\n",
       "      <td>NaN</td>\n",
       "      <td>NaN</td>\n",
       "      <td>5 years</td>\n",
       "      <td>Synergy America, Inc.47QREA18D000T</td>\n",
       "      <td>736TAPS</td>\n",
       "    </tr>\n",
       "    <tr>\n",
       "      <th>7</th>\n",
       "      <td>×</td>\n",
       "      <td>Air Traffic Controller Specialist, Station</td>\n",
       "      <td>$39.65</td>\n",
       "      <td>Bachelors</td>\n",
       "      <td>NaN</td>\n",
       "      <td>NaN</td>\n",
       "      <td>5 years</td>\n",
       "      <td>Continental Design Co., INC.GS-02F-016GA</td>\n",
       "      <td>736TAPS</td>\n",
       "    </tr>\n",
       "    <tr>\n",
       "      <th>8</th>\n",
       "      <td>×</td>\n",
       "      <td>Editor</td>\n",
       "      <td>$39.90</td>\n",
       "      <td>Bachelors</td>\n",
       "      <td>NaN</td>\n",
       "      <td>NaN</td>\n",
       "      <td>5 years</td>\n",
       "      <td>Creative Options of District of Columbia, INC....</td>\n",
       "      <td>736TAPS</td>\n",
       "    </tr>\n",
       "    <tr>\n",
       "      <th>9</th>\n",
       "      <td>×</td>\n",
       "      <td>Accountant, Staff</td>\n",
       "      <td>$39.93</td>\n",
       "      <td>Bachelors</td>\n",
       "      <td>NaN</td>\n",
       "      <td>NaN</td>\n",
       "      <td>5 years</td>\n",
       "      <td>Corporate Temps INC.GS-07F-0229N</td>\n",
       "      <td>736TAPS</td>\n",
       "    </tr>\n",
       "  </tbody>\n",
       "</table>\n",
       "</div>"
      ],
      "text/plain": [
       "  Unnamed: 0                              Labor category   Price  Education  \\\n",
       "0          ×                               Claim Analyst  $29.09  Bachelors   \n",
       "1          ×                               AP/AR Analyst  $31.85  Bachelors   \n",
       "2          ×                        Technical Instructor  $34.31  Bachelors   \n",
       "3          ×                           Financial Analyst  $36.86  Bachelors   \n",
       "4          ×                                 Proofreader  $37.40  Bachelors   \n",
       "5          ×                           Project Manager I  $38.07  Bachelors   \n",
       "6          ×                      Business Consultant II  $38.91  Bachelors   \n",
       "7          ×  Air Traffic Controller Specialist, Station  $39.65  Bachelors   \n",
       "8          ×                                      Editor  $39.90  Bachelors   \n",
       "9          ×                           Accountant, Staff  $39.93  Bachelors   \n",
       "\n",
       "  Keywords Certifications   Exper.  \\\n",
       "0      NaN            NaN  5 years   \n",
       "1      NaN            NaN  5 years   \n",
       "2      NaN            NaN  5 years   \n",
       "3      NaN            NaN  6 years   \n",
       "4      NaN            NaN  5 years   \n",
       "5      NaN            NaN  7 years   \n",
       "6      NaN            NaN  5 years   \n",
       "7      NaN            NaN  5 years   \n",
       "8      NaN            NaN  5 years   \n",
       "9      NaN            NaN  5 years   \n",
       "\n",
       "                                   Vendor / Contract Contract vehicle  \n",
       "0                      SAPTA GLOBAL INC.GS-02F-033GA          736TAPS  \n",
       "1                      SAPTA GLOBAL INC.GS-02F-033GA          736TAPS  \n",
       "2           Continental Design Co., INC.GS-02F-016GA          736TAPS  \n",
       "3                      SAPTA GLOBAL INC.GS-02F-033GA          736TAPS  \n",
       "4  Creative Options of District of Columbia, INC....          736TAPS  \n",
       "5                 Synergy America, Inc.47QREA18D000T          736TAPS  \n",
       "6                 Synergy America, Inc.47QREA18D000T          736TAPS  \n",
       "7           Continental Design Co., INC.GS-02F-016GA          736TAPS  \n",
       "8  Creative Options of District of Columbia, INC....          736TAPS  \n",
       "9                   Corporate Temps INC.GS-07F-0229N          736TAPS  "
      ]
     },
     "execution_count": 77,
     "metadata": {},
     "output_type": "execute_result"
    }
   ],
   "source": [
    "df.head(10)"
   ]
  },
  {
   "cell_type": "code",
   "execution_count": 97,
   "id": "770cf447",
   "metadata": {},
   "outputs": [],
   "source": [
    "# pull external links from page\n",
    "links = driver.find_elements_by_tag_name('a')"
   ]
  },
  {
   "cell_type": "code",
   "execution_count": 99,
   "id": "a21303cf",
   "metadata": {},
   "outputs": [],
   "source": [
    "# pull actual url from the list of links\n",
    "links_list = []\n",
    "i = 0\n",
    "while i < len(links):\n",
    "    links_list.append(links[i].get_attribute('outerHTML'))\n",
    "    i += 1"
   ]
  },
  {
   "cell_type": "code",
   "execution_count": 127,
   "id": "2a72de03",
   "metadata": {},
   "outputs": [],
   "source": [
    "# turn list of links into a string for searching\n",
    "links_str = ''.join(links_list)"
   ]
  },
  {
   "cell_type": "code",
   "execution_count": 245,
   "id": "e0c5280e",
   "metadata": {},
   "outputs": [],
   "source": [
    "# get only the https://.....etc links and no other html characters\n",
    "href_regex = r'href=[\\'\"]?([^\\'\" >]+)'"
   ]
  },
  {
   "cell_type": "code",
   "execution_count": 130,
   "id": "4c9be756",
   "metadata": {},
   "outputs": [],
   "source": [
    "lo_str = re.findall(href_regex, links_str)"
   ]
  },
  {
   "cell_type": "code",
   "execution_count": 174,
   "id": "e35539e9",
   "metadata": {},
   "outputs": [],
   "source": [
    "# keep only links to PDFs we want - may need to change for other pages if the page format is not exactly the same after searching\n",
    "good_links = lo_str[9:len(lo_str)-7]"
   ]
  },
  {
   "cell_type": "code",
   "execution_count": 172,
   "id": "1cd0c28b",
   "metadata": {},
   "outputs": [],
   "source": [
    "# remove last line (\"return to top\")\n",
    "df = df.drop(128)"
   ]
  },
  {
   "cell_type": "code",
   "execution_count": 176,
   "id": "0a5e8591",
   "metadata": {},
   "outputs": [],
   "source": [
    "# add links list as new column\n",
    "df['gsa_link'] = good_links"
   ]
  },
  {
   "cell_type": "code",
   "execution_count": 177,
   "id": "431d509e",
   "metadata": {},
   "outputs": [
    {
     "data": {
      "text/html": [
       "<div>\n",
       "<style scoped>\n",
       "    .dataframe tbody tr th:only-of-type {\n",
       "        vertical-align: middle;\n",
       "    }\n",
       "\n",
       "    .dataframe tbody tr th {\n",
       "        vertical-align: top;\n",
       "    }\n",
       "\n",
       "    .dataframe thead th {\n",
       "        text-align: right;\n",
       "    }\n",
       "</style>\n",
       "<table border=\"1\" class=\"dataframe\">\n",
       "  <thead>\n",
       "    <tr style=\"text-align: right;\">\n",
       "      <th></th>\n",
       "      <th>Unnamed: 0</th>\n",
       "      <th>Labor category</th>\n",
       "      <th>Price</th>\n",
       "      <th>Education</th>\n",
       "      <th>Keywords</th>\n",
       "      <th>Certifications</th>\n",
       "      <th>Exper.</th>\n",
       "      <th>Vendor / Contract</th>\n",
       "      <th>Contract vehicle</th>\n",
       "      <th>gsa_link</th>\n",
       "    </tr>\n",
       "  </thead>\n",
       "  <tbody>\n",
       "    <tr>\n",
       "      <th>0</th>\n",
       "      <td>×</td>\n",
       "      <td>Claim Analyst</td>\n",
       "      <td>$29.09</td>\n",
       "      <td>Bachelors</td>\n",
       "      <td>NaN</td>\n",
       "      <td>NaN</td>\n",
       "      <td>5 years</td>\n",
       "      <td>SAPTA GLOBAL INC.GS-02F-033GA</td>\n",
       "      <td>736TAPS</td>\n",
       "      <td>https://www.gsaadvantage.gov/ref_text/GS02F033...</td>\n",
       "    </tr>\n",
       "    <tr>\n",
       "      <th>1</th>\n",
       "      <td>×</td>\n",
       "      <td>AP/AR Analyst</td>\n",
       "      <td>$31.85</td>\n",
       "      <td>Bachelors</td>\n",
       "      <td>NaN</td>\n",
       "      <td>NaN</td>\n",
       "      <td>5 years</td>\n",
       "      <td>SAPTA GLOBAL INC.GS-02F-033GA</td>\n",
       "      <td>736TAPS</td>\n",
       "      <td>https://www.gsaadvantage.gov/ref_text/GS02F033...</td>\n",
       "    </tr>\n",
       "    <tr>\n",
       "      <th>2</th>\n",
       "      <td>×</td>\n",
       "      <td>Technical Instructor</td>\n",
       "      <td>$34.31</td>\n",
       "      <td>Bachelors</td>\n",
       "      <td>NaN</td>\n",
       "      <td>NaN</td>\n",
       "      <td>5 years</td>\n",
       "      <td>Continental Design Co., INC.GS-02F-016GA</td>\n",
       "      <td>736TAPS</td>\n",
       "      <td>https://www.gsaadvantage.gov/ref_text/GS02F016...</td>\n",
       "    </tr>\n",
       "    <tr>\n",
       "      <th>3</th>\n",
       "      <td>×</td>\n",
       "      <td>Financial Analyst</td>\n",
       "      <td>$36.86</td>\n",
       "      <td>Bachelors</td>\n",
       "      <td>NaN</td>\n",
       "      <td>NaN</td>\n",
       "      <td>6 years</td>\n",
       "      <td>SAPTA GLOBAL INC.GS-02F-033GA</td>\n",
       "      <td>736TAPS</td>\n",
       "      <td>https://www.gsaadvantage.gov/ref_text/GS02F033...</td>\n",
       "    </tr>\n",
       "    <tr>\n",
       "      <th>4</th>\n",
       "      <td>×</td>\n",
       "      <td>Proofreader</td>\n",
       "      <td>$37.40</td>\n",
       "      <td>Bachelors</td>\n",
       "      <td>NaN</td>\n",
       "      <td>NaN</td>\n",
       "      <td>5 years</td>\n",
       "      <td>Creative Options of District of Columbia, INC....</td>\n",
       "      <td>736TAPS</td>\n",
       "      <td>https://www.gsaadvantage.gov/ref_text/GS07F053...</td>\n",
       "    </tr>\n",
       "    <tr>\n",
       "      <th>...</th>\n",
       "      <td>...</td>\n",
       "      <td>...</td>\n",
       "      <td>...</td>\n",
       "      <td>...</td>\n",
       "      <td>...</td>\n",
       "      <td>...</td>\n",
       "      <td>...</td>\n",
       "      <td>...</td>\n",
       "      <td>...</td>\n",
       "      <td>...</td>\n",
       "    </tr>\n",
       "    <tr>\n",
       "      <th>123</th>\n",
       "      <td>×</td>\n",
       "      <td>Systen Auditor Intermediate-II</td>\n",
       "      <td>$113.34</td>\n",
       "      <td>Bachelors</td>\n",
       "      <td>NaN</td>\n",
       "      <td>NaN</td>\n",
       "      <td>6 years</td>\n",
       "      <td>Wright &amp; Associates, LLCGS-02F-045DA</td>\n",
       "      <td>736TAPS</td>\n",
       "      <td>https://www.gsaadvantage.gov/ref_text/GS02F045...</td>\n",
       "    </tr>\n",
       "    <tr>\n",
       "      <th>124</th>\n",
       "      <td>×</td>\n",
       "      <td>Project Manager</td>\n",
       "      <td>$120.35</td>\n",
       "      <td>Bachelors</td>\n",
       "      <td>NaN</td>\n",
       "      <td>NaN</td>\n",
       "      <td>6 years</td>\n",
       "      <td>Wright &amp; Associates, LLCGS-02F-045DA</td>\n",
       "      <td>736TAPS</td>\n",
       "      <td>https://www.gsaadvantage.gov/ref_text/GS02F045...</td>\n",
       "    </tr>\n",
       "    <tr>\n",
       "      <th>125</th>\n",
       "      <td>×</td>\n",
       "      <td>Manager</td>\n",
       "      <td>$125.94</td>\n",
       "      <td>Bachelors</td>\n",
       "      <td>NaN</td>\n",
       "      <td>NaN</td>\n",
       "      <td>6 years</td>\n",
       "      <td>Wright &amp; Associates, LLCGS-02F-045DA</td>\n",
       "      <td>736TAPS</td>\n",
       "      <td>https://www.gsaadvantage.gov/ref_text/GS02F045...</td>\n",
       "    </tr>\n",
       "    <tr>\n",
       "      <th>126</th>\n",
       "      <td>×</td>\n",
       "      <td>Program Manager</td>\n",
       "      <td>$127.92</td>\n",
       "      <td>Bachelors</td>\n",
       "      <td>NaN</td>\n",
       "      <td>NaN</td>\n",
       "      <td>6 years</td>\n",
       "      <td>Alex - Alternative Experts, LLCGS02F034DA</td>\n",
       "      <td>736TAPS</td>\n",
       "      <td>https://www.gsaadvantage.gov/ref_text/GS02F034...</td>\n",
       "    </tr>\n",
       "    <tr>\n",
       "      <th>127</th>\n",
       "      <td>×</td>\n",
       "      <td>Financial Manager III</td>\n",
       "      <td>$151.13</td>\n",
       "      <td>Bachelors</td>\n",
       "      <td>NaN</td>\n",
       "      <td>NaN</td>\n",
       "      <td>5 years</td>\n",
       "      <td>Champion Business Services, INC.GS-07F-0618N</td>\n",
       "      <td>736TAPS</td>\n",
       "      <td>https://www.gsaadvantage.gov/ref_text/GS07F061...</td>\n",
       "    </tr>\n",
       "  </tbody>\n",
       "</table>\n",
       "<p>128 rows × 10 columns</p>\n",
       "</div>"
      ],
      "text/plain": [
       "    Unnamed: 0                  Labor category    Price  Education Keywords  \\\n",
       "0            ×                   Claim Analyst   $29.09  Bachelors      NaN   \n",
       "1            ×                   AP/AR Analyst   $31.85  Bachelors      NaN   \n",
       "2            ×            Technical Instructor   $34.31  Bachelors      NaN   \n",
       "3            ×               Financial Analyst   $36.86  Bachelors      NaN   \n",
       "4            ×                     Proofreader   $37.40  Bachelors      NaN   \n",
       "..         ...                             ...      ...        ...      ...   \n",
       "123          ×  Systen Auditor Intermediate-II  $113.34  Bachelors      NaN   \n",
       "124          ×                 Project Manager  $120.35  Bachelors      NaN   \n",
       "125          ×                         Manager  $125.94  Bachelors      NaN   \n",
       "126          ×                 Program Manager  $127.92  Bachelors      NaN   \n",
       "127          ×           Financial Manager III  $151.13  Bachelors      NaN   \n",
       "\n",
       "    Certifications   Exper.  \\\n",
       "0              NaN  5 years   \n",
       "1              NaN  5 years   \n",
       "2              NaN  5 years   \n",
       "3              NaN  6 years   \n",
       "4              NaN  5 years   \n",
       "..             ...      ...   \n",
       "123            NaN  6 years   \n",
       "124            NaN  6 years   \n",
       "125            NaN  6 years   \n",
       "126            NaN  6 years   \n",
       "127            NaN  5 years   \n",
       "\n",
       "                                     Vendor / Contract Contract vehicle  \\\n",
       "0                        SAPTA GLOBAL INC.GS-02F-033GA          736TAPS   \n",
       "1                        SAPTA GLOBAL INC.GS-02F-033GA          736TAPS   \n",
       "2             Continental Design Co., INC.GS-02F-016GA          736TAPS   \n",
       "3                        SAPTA GLOBAL INC.GS-02F-033GA          736TAPS   \n",
       "4    Creative Options of District of Columbia, INC....          736TAPS   \n",
       "..                                                 ...              ...   \n",
       "123               Wright & Associates, LLCGS-02F-045DA          736TAPS   \n",
       "124               Wright & Associates, LLCGS-02F-045DA          736TAPS   \n",
       "125               Wright & Associates, LLCGS-02F-045DA          736TAPS   \n",
       "126          Alex - Alternative Experts, LLCGS02F034DA          736TAPS   \n",
       "127       Champion Business Services, INC.GS-07F-0618N          736TAPS   \n",
       "\n",
       "                                              gsa_link  \n",
       "0    https://www.gsaadvantage.gov/ref_text/GS02F033...  \n",
       "1    https://www.gsaadvantage.gov/ref_text/GS02F033...  \n",
       "2    https://www.gsaadvantage.gov/ref_text/GS02F016...  \n",
       "3    https://www.gsaadvantage.gov/ref_text/GS02F033...  \n",
       "4    https://www.gsaadvantage.gov/ref_text/GS07F053...  \n",
       "..                                                 ...  \n",
       "123  https://www.gsaadvantage.gov/ref_text/GS02F045...  \n",
       "124  https://www.gsaadvantage.gov/ref_text/GS02F045...  \n",
       "125  https://www.gsaadvantage.gov/ref_text/GS02F045...  \n",
       "126  https://www.gsaadvantage.gov/ref_text/GS02F034...  \n",
       "127  https://www.gsaadvantage.gov/ref_text/GS07F061...  \n",
       "\n",
       "[128 rows x 10 columns]"
      ]
     },
     "metadata": {},
     "output_type": "display_data"
    }
   ],
   "source": [
    "display(df)"
   ]
  },
  {
   "cell_type": "code",
   "execution_count": null,
   "id": "3afe16b7",
   "metadata": {},
   "outputs": [],
   "source": [
    "# BELOW IS PDF TEXT READING\n",
    "#\n",
    "#\n",
    "#\n",
    "#\n",
    "#"
   ]
  },
  {
   "cell_type": "code",
   "execution_count": 239,
   "id": "b62a9bf3",
   "metadata": {},
   "outputs": [
    {
     "name": "stdout",
     "output_type": "stream",
     "text": [
      "https://www.gsaadvantage.gov/ref_text/GS02F033GA/GS02F033GA_online.htm\n"
     ]
    }
   ],
   "source": [
    "# get pdf url for first dataframe row\n",
    "pdf_url = df[\"gsa_link\"][0]\n",
    "print(pdf_url)"
   ]
  },
  {
   "cell_type": "code",
   "execution_count": 267,
   "id": "f43b858c",
   "metadata": {},
   "outputs": [
    {
     "name": "stdout",
     "output_type": "stream",
     "text": [
      "<!DOCTYPE HTML PUBLIC \"-//W3C//DTD HTML 4.01 Transitional//EN\"><html><head><meta http-equiv=\"refresh\" content=\"0;url=0RNMEV.3IJTAG_GS-02F-033GA_SAPTA736FSSPRICELIST.PDF\"><title></title></head><body></body></html>\n",
      "\n"
     ]
    }
   ],
   "source": [
    "# pull the actual link of PDF - the link redirects after opening, so if we don't do this step, the PDF scrape results in an error\n",
    "from urllib.request import build_opener, HTTPCookieProcessor\n",
    "opener = build_opener(HTTPCookieProcessor())\n",
    "response = opener.open(pdf_url)\n",
    "rep_final = response.read().decode('utf-8')\n",
    "print(rep_final)"
   ]
  },
  {
   "cell_type": "code",
   "execution_count": 275,
   "id": "19e2d41b",
   "metadata": {},
   "outputs": [],
   "source": [
    "# get end of URL that is unique from rep_final string above\n",
    "url_end = rep_final[rep_final.find('url=')+4:rep_final.find('><title')-1]"
   ]
  },
  {
   "cell_type": "code",
   "execution_count": 336,
   "id": "81b57017",
   "metadata": {},
   "outputs": [
    {
     "name": "stdout",
     "output_type": "stream",
     "text": [
      "https://www.gsaadvantage.gov/ref_text/GS02F033GA/GS02F033GA_online.htm\n"
     ]
    }
   ],
   "source": [
    "print(df[\"gsa_link\"][0])"
   ]
  },
  {
   "cell_type": "code",
   "execution_count": 291,
   "id": "a76c455b",
   "metadata": {},
   "outputs": [],
   "source": [
    "# get the front of the URL that does not change after redirect\n",
    "url_split = pdf_url.split(\"/\")[0:5]\n",
    "url_beg = \"/\".join(url_split)"
   ]
  },
  {
   "cell_type": "code",
   "execution_count": 292,
   "id": "1fb2f895",
   "metadata": {},
   "outputs": [
    {
     "name": "stdout",
     "output_type": "stream",
     "text": [
      "https://www.gsaadvantage.gov/ref_text/GS02F033GA\n"
     ]
    }
   ],
   "source": [
    "print(url_beg)"
   ]
  },
  {
   "cell_type": "code",
   "execution_count": 293,
   "id": "bdecc9c3",
   "metadata": {},
   "outputs": [],
   "source": [
    "# combine to form correct URL for PDF scrape\n",
    "url_full = url_beg + \"/\" + url_end"
   ]
  },
  {
   "cell_type": "code",
   "execution_count": 294,
   "id": "8e21337b",
   "metadata": {},
   "outputs": [
    {
     "name": "stdout",
     "output_type": "stream",
     "text": [
      "https://www.gsaadvantage.gov/ref_text/GS02F033GA/0RNMEV.3IJTAG_GS-02F-033GA_SAPTA736FSSPRICELIST.PDF\n"
     ]
    }
   ],
   "source": [
    "print(url_full)"
   ]
  },
  {
   "cell_type": "code",
   "execution_count": 295,
   "id": "0eb9ca36",
   "metadata": {},
   "outputs": [],
   "source": [
    "import PyPDF2"
   ]
  },
  {
   "cell_type": "code",
   "execution_count": 297,
   "id": "4c32394b",
   "metadata": {},
   "outputs": [],
   "source": [
    "# scrape text from PDF\n",
    "req = urllib.request.Request(url_full, headers={'User-Agent' : \"Magic Browser\"})\n",
    "remote_file = urllib.request.urlopen(req).read()\n",
    "remote_file_bytes = io.BytesIO(remote_file)\n",
    "pdfdoc_remote = PyPDF2.PdfFileReader(remote_file_bytes)"
   ]
  },
  {
   "cell_type": "code",
   "execution_count": 337,
   "id": "4f7446e1",
   "metadata": {
    "scrolled": true
   },
   "outputs": [
    {
     "name": "stdout",
     "output_type": "stream",
     "text": [
      " GENERAL SERVICES ADMINISTRATION\n",
      " FEDERAL \n",
      "SUPPLY\n",
      " SERVICE\n",
      " AUTHORIZED FEDERAL SUPPLY SCHEDULE PRICE LIST\n",
      " On-line access to contract ordering information, terms and conditions, up\n",
      "-to-date pricing, and the option to create \n",
      "an electronic delivery order is available through GSA Advantage!, a menu\n",
      "-driven database system. The INTERNET \n",
      "address for GSA Advantage! is \n",
      "http://www.gsaadvantage.gov\n",
      "  Federal Supply Schedule \n",
      "736 TEMPORARY ADMINISTRATIVE AND PROFESSIONAL STAFFING (TAPS)\n",
      "  Special Item No. \n",
      " 736 1 Œ Administrative Support and Clerical Occupations\n",
      "    736 2 Œ Automatic \n",
      "Data Processing Occupations\n",
      "    736 5 Œ Technical and Professional Occupations\n",
      "  CONTRACT NUMBER: \n",
      "GS-02F\n",
      "-033GA\n",
      " CONTRACT PERIOD: \n",
      "May 16, 2017 through May 15, 2022\n",
      " For more information on ordering from this Federal Supply Schedule contract, please visit: \n",
      "www.gsa.gov/schedules\n",
      " CONTRACTOR:\n",
      " SAPTA GLOBAL INC.\n",
      "  267 AMBOY AVE\n",
      "  Woodbridge, NJ 07095\n",
      "  Tel: 732\n",
      "-602-0240\n",
      "  Web: \n",
      "www.saptanet.com\n",
      " CONTRACTOR™S POINT OF CONTACT FOR CONTRACT ADMINISTRATION: \n",
      " Santhipriya Madabushi\n",
      " President\n",
      " 267 AMBOY AVE\n",
      " Woodbridge, NJ 07095\n",
      " Tel: 732\n",
      "-602-0240 x602\n",
      "  E-mail: \n",
      "spriya@saptanet.com\n",
      " BUSINESS SIZE: \n",
      "8(a) Program Partic\n",
      "ipant, Economically Disadvantaged Women\n",
      "-Owned Small Business, S\n",
      " Corporation, Small Disadvantaged Business, Subcontinent Asian (Asian\n",
      "-Indian) American Owned,\n",
      " Women Owned Business, Women\n",
      "-Owned Small Business\n",
      " \n"
     ]
    }
   ],
   "source": [
    "# view scraped first page of doc\n",
    "info = pdfdoc_remote.getDocumentInfo()\n",
    "pages = pdfdoc_remote.getNumPages()\n",
    "page1 = pdfdoc_remote.getPage(0)\n",
    "print(page1.extractText())"
   ]
  },
  {
   "cell_type": "code",
   "execution_count": 300,
   "id": "54a75bc7",
   "metadata": {},
   "outputs": [],
   "source": [
    "# create a list of the text from each page - one element of the list is one page\n",
    "pdf_pages_text = []\n",
    "j = 0\n",
    "while j < pdfdoc_remote.getNumPages():\n",
    "    pdf_pages_text.append(pdfdoc_remote.getPage(j).extractText())\n",
    "    j += 1"
   ]
  },
  {
   "cell_type": "code",
   "execution_count": 305,
   "id": "0ea78881",
   "metadata": {},
   "outputs": [],
   "source": [
    "# search for job title from first row of df - will need to change when automated to be correct job title\n",
    "k = 0\n",
    "finder_list = []\n",
    "while k < pdfdoc_remote.getNumPages():\n",
    "    finder_list.append(df[\"Labor category\"][0] in pdf_pages_text[k])\n",
    "    k += 1"
   ]
  },
  {
   "cell_type": "code",
   "execution_count": 308,
   "id": "3bebc8b3",
   "metadata": {},
   "outputs": [
    {
     "name": "stdout",
     "output_type": "stream",
     "text": [
      "[5, 40]\n"
     ]
    }
   ],
   "source": [
    "# get pages where the job title exists\n",
    "res = [i for i, val in enumerate(finder_list) if val]\n",
    "print(res)"
   ]
  },
  {
   "cell_type": "code",
   "execution_count": null,
   "id": "a7c2c5a9",
   "metadata": {},
   "outputs": [],
   "source": [
    "# NOTE: page with pricing will have \"Labor Category\""
   ]
  },
  {
   "cell_type": "code",
   "execution_count": 341,
   "id": "e710b6dd",
   "metadata": {
    "scrolled": true
   },
   "outputs": [],
   "source": [
    "# lowercase page so we don't need to worry about capitalization for keywords\n",
    "page_text_lower = pdf_pages_text[40].lower()"
   ]
  },
  {
   "cell_type": "code",
   "execution_count": null,
   "id": "eb8f3909",
   "metadata": {},
   "outputs": [],
   "source": [
    "# NOTE: want to get sandwiched text between words like experience, education, years\n",
    "# pull string chunks between those words\n",
    "# get string chunk containing the job title"
   ]
  },
  {
   "cell_type": "code",
   "execution_count": 327,
   "id": "578a53ea",
   "metadata": {},
   "outputs": [],
   "source": [
    "keywords = ['education', 'experience', 'years']"
   ]
  },
  {
   "cell_type": "code",
   "execution_count": 334,
   "id": "60d37a79",
   "metadata": {},
   "outputs": [
    {
     "name": "stdout",
     "output_type": "stream",
     "text": [
      "['education', 'experience']\n"
     ]
    }
   ],
   "source": [
    "# look for specific keywords in the page\n",
    "check = [word for word in keywords if(word in page_text_lower)]\n",
    "print(check)"
   ]
  },
  {
   "cell_type": "code",
   "execution_count": 338,
   "id": "272d13d9",
   "metadata": {},
   "outputs": [],
   "source": [
    "# split the page on \"education\" - will need to change based on the keywords that exist in the page\n",
    "page_text_split = page_text_lower.split(\"education\")"
   ]
  },
  {
   "cell_type": "code",
   "execution_count": 339,
   "id": "98fa8913",
   "metadata": {},
   "outputs": [],
   "source": [
    "# get targeted string of text from split page where the job title exists\n",
    "matching = [s for s in page_text_split if df[\"Labor category\"][0].lower() in s]"
   ]
  },
  {
   "cell_type": "code",
   "execution_count": 343,
   "id": "98ac1348",
   "metadata": {},
   "outputs": [
    {
     "name": "stdout",
     "output_type": "stream",
     "text": [
      "['\\n minimum experience\\n claim analyst\\n bachelor™s degree\\n 5 functional responsibilities:\\n survey review and damage claims processing review survey reports\\n \\n \\n \\n \\nif damage will require further \\n\\ninspection\\n \\n \\n \\n-payment\\n \\nices\\n \\n \\n ']\n"
     ]
    }
   ],
   "source": [
    "print(matching)"
   ]
  },
  {
   "cell_type": "code",
   "execution_count": null,
   "id": "5dc11405",
   "metadata": {},
   "outputs": [],
   "source": []
  }
 ],
 "metadata": {
  "kernelspec": {
   "display_name": "Python 3",
   "language": "python",
   "name": "python3"
  },
  "language_info": {
   "codemirror_mode": {
    "name": "ipython",
    "version": 3
   },
   "file_extension": ".py",
   "mimetype": "text/x-python",
   "name": "python",
   "nbconvert_exporter": "python",
   "pygments_lexer": "ipython3",
   "version": "3.8.10"
  }
 },
 "nbformat": 4,
 "nbformat_minor": 5
}
