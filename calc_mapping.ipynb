{
 "cells": [
  {
   "cell_type": "code",
   "execution_count": 1,
   "id": "619b6c90",
   "metadata": {},
   "outputs": [],
   "source": [
    "import pandas as pd\n",
    "from uszipcode import SearchEngine\n",
    "import math"
   ]
  },
  {
   "cell_type": "code",
   "execution_count": 2,
   "id": "44afeeef",
   "metadata": {},
   "outputs": [],
   "source": [
    "# read in CALC data\n",
    "calc = pd.read_csv(\"/Users/Jeanine/Downloads/CALC_predictive_modeling_withlocation1.csv\", sep = \"|\")"
   ]
  },
  {
   "cell_type": "code",
   "execution_count": 3,
   "id": "42d1d1fb",
   "metadata": {},
   "outputs": [],
   "source": [
    "# zipcode lookup\n",
    "search = SearchEngine(simple_zipcode=True)"
   ]
  },
  {
   "cell_type": "code",
   "execution_count": 4,
   "id": "bfc9f851",
   "metadata": {},
   "outputs": [],
   "source": [
    "lat_list = []\n",
    "lng_list = []\n",
    "city_list = []\n",
    "state_list = []"
   ]
  },
  {
   "cell_type": "code",
   "execution_count": 5,
   "id": "4bd6ce52",
   "metadata": {},
   "outputs": [],
   "source": [
    "# get lat, long, city, and state for each row\n",
    "z = 0\n",
    "while z < len(calc):\n",
    "    try:\n",
    "        zip_return = search.by_zipcode(str(math.trunc(calc['zipcode'][z])))\n",
    "    except ValueError:\n",
    "        z += 1\n",
    "        lat_list.append(\"\")\n",
    "        lng_list.append(\"\")\n",
    "        city_list.append(\"\")\n",
    "        state_list.append(\"\")\n",
    "    lat_list.append(zip_return.lat)\n",
    "    lng_list.append(zip_return.lng)\n",
    "    city_list.append(zip_return.city)\n",
    "    state_list.append(zip_return.state)\n",
    "    z += 1"
   ]
  },
  {
   "cell_type": "code",
   "execution_count": 6,
   "id": "51dd2806",
   "metadata": {},
   "outputs": [],
   "source": [
    "calc['latitude'] = lat_list\n",
    "calc['longitude'] = lng_list\n",
    "calc['city'] = city_list\n",
    "calc['state'] = state_list"
   ]
  },
  {
   "cell_type": "code",
   "execution_count": 7,
   "id": "bba91695",
   "metadata": {},
   "outputs": [
    {
     "data": {
      "text/html": [
       "<div>\n",
       "<style scoped>\n",
       "    .dataframe tbody tr th:only-of-type {\n",
       "        vertical-align: middle;\n",
       "    }\n",
       "\n",
       "    .dataframe tbody tr th {\n",
       "        vertical-align: top;\n",
       "    }\n",
       "\n",
       "    .dataframe thead th {\n",
       "        text-align: right;\n",
       "    }\n",
       "</style>\n",
       "<table border=\"1\" class=\"dataframe\">\n",
       "  <thead>\n",
       "    <tr style=\"text-align: right;\">\n",
       "      <th></th>\n",
       "      <th>Unnamed: 0</th>\n",
       "      <th>c_row_id</th>\n",
       "      <th>c_labor</th>\n",
       "      <th>begin_date</th>\n",
       "      <th>end_date</th>\n",
       "      <th>c_edu_level</th>\n",
       "      <th>c_min_year_exp</th>\n",
       "      <th>c_current_year</th>\n",
       "      <th>c_next_year</th>\n",
       "      <th>c_second_year</th>\n",
       "      <th>jd_matching_allwyn</th>\n",
       "      <th>zipcode</th>\n",
       "      <th>city</th>\n",
       "      <th>state</th>\n",
       "      <th>latitude</th>\n",
       "      <th>longitude</th>\n",
       "    </tr>\n",
       "  </thead>\n",
       "  <tbody>\n",
       "    <tr>\n",
       "      <th>0</th>\n",
       "      <td>0</td>\n",
       "      <td>9</td>\n",
       "      <td>Software Engineer</td>\n",
       "      <td>6/9/17</td>\n",
       "      <td>6/8/22</td>\n",
       "      <td>Bachelors</td>\n",
       "      <td>3</td>\n",
       "      <td>21.11</td>\n",
       "      <td>21.75</td>\n",
       "      <td>22.40</td>\n",
       "      <td>Senior Java Developer</td>\n",
       "      <td>80302.0</td>\n",
       "      <td>Boulder</td>\n",
       "      <td>CO</td>\n",
       "      <td>40.100</td>\n",
       "      <td>-105.400</td>\n",
       "    </tr>\n",
       "    <tr>\n",
       "      <th>1</th>\n",
       "      <td>1</td>\n",
       "      <td>28</td>\n",
       "      <td>Financial Analyst I</td>\n",
       "      <td>8/20/09</td>\n",
       "      <td>8/19/24</td>\n",
       "      <td>Bachelors</td>\n",
       "      <td>0</td>\n",
       "      <td>26.31</td>\n",
       "      <td>26.31</td>\n",
       "      <td>26.31</td>\n",
       "      <td>Senior Security Analyst</td>\n",
       "      <td>80228.0</td>\n",
       "      <td>Denver</td>\n",
       "      <td>CO</td>\n",
       "      <td>39.690</td>\n",
       "      <td>-105.150</td>\n",
       "    </tr>\n",
       "    <tr>\n",
       "      <th>2</th>\n",
       "      <td>2</td>\n",
       "      <td>32</td>\n",
       "      <td>Assistant Project Coordinator</td>\n",
       "      <td>6/7/18</td>\n",
       "      <td>6/6/23</td>\n",
       "      <td>Bachelors</td>\n",
       "      <td>2</td>\n",
       "      <td>27.21</td>\n",
       "      <td>NaN</td>\n",
       "      <td>NaN</td>\n",
       "      <td>IT Project Manager I</td>\n",
       "      <td>30097.0</td>\n",
       "      <td>Duluth</td>\n",
       "      <td>GA</td>\n",
       "      <td>34.020</td>\n",
       "      <td>-84.140</td>\n",
       "    </tr>\n",
       "    <tr>\n",
       "      <th>3</th>\n",
       "      <td>3</td>\n",
       "      <td>34</td>\n",
       "      <td>Marketing Analyst</td>\n",
       "      <td>5/16/17</td>\n",
       "      <td>5/15/22</td>\n",
       "      <td>Bachelors</td>\n",
       "      <td>2</td>\n",
       "      <td>27.64</td>\n",
       "      <td>28.46</td>\n",
       "      <td>29.32</td>\n",
       "      <td>IT Project Manager III</td>\n",
       "      <td>7095.0</td>\n",
       "      <td>Woodbridge</td>\n",
       "      <td>NJ</td>\n",
       "      <td>40.550</td>\n",
       "      <td>-74.280</td>\n",
       "    </tr>\n",
       "    <tr>\n",
       "      <th>4</th>\n",
       "      <td>4</td>\n",
       "      <td>36</td>\n",
       "      <td>Security Manager</td>\n",
       "      <td>6/2/19</td>\n",
       "      <td>6/1/24</td>\n",
       "      <td>Bachelors</td>\n",
       "      <td>1</td>\n",
       "      <td>27.98</td>\n",
       "      <td>NaN</td>\n",
       "      <td>NaN</td>\n",
       "      <td>Senior Security Analyst</td>\n",
       "      <td>10505.0</td>\n",
       "      <td>Baldwin Place</td>\n",
       "      <td>NY</td>\n",
       "      <td>41.341</td>\n",
       "      <td>-73.744</td>\n",
       "    </tr>\n",
       "    <tr>\n",
       "      <th>5</th>\n",
       "      <td>5</td>\n",
       "      <td>42</td>\n",
       "      <td>Test Proctor</td>\n",
       "      <td>12/23/16</td>\n",
       "      <td>12/22/21</td>\n",
       "      <td>Bachelors</td>\n",
       "      <td>1</td>\n",
       "      <td>28.57</td>\n",
       "      <td>NaN</td>\n",
       "      <td>NaN</td>\n",
       "      <td>Test Automation Engineer</td>\n",
       "      <td>NaN</td>\n",
       "      <td></td>\n",
       "      <td></td>\n",
       "      <td>0.000</td>\n",
       "      <td>0.000</td>\n",
       "    </tr>\n",
       "    <tr>\n",
       "      <th>6</th>\n",
       "      <td>6</td>\n",
       "      <td>46</td>\n",
       "      <td>Tax Analyst</td>\n",
       "      <td>5/16/17</td>\n",
       "      <td>5/15/22</td>\n",
       "      <td>Bachelors</td>\n",
       "      <td>1</td>\n",
       "      <td>29.09</td>\n",
       "      <td>29.97</td>\n",
       "      <td>30.87</td>\n",
       "      <td>Senior Java Developer</td>\n",
       "      <td>7095.0</td>\n",
       "      <td>Baldwin Place</td>\n",
       "      <td>NY</td>\n",
       "      <td>41.341</td>\n",
       "      <td>-73.744</td>\n",
       "    </tr>\n",
       "    <tr>\n",
       "      <th>7</th>\n",
       "      <td>7</td>\n",
       "      <td>47</td>\n",
       "      <td>PSI Analyst</td>\n",
       "      <td>5/16/17</td>\n",
       "      <td>5/15/22</td>\n",
       "      <td>Bachelors</td>\n",
       "      <td>1</td>\n",
       "      <td>29.09</td>\n",
       "      <td>29.97</td>\n",
       "      <td>30.87</td>\n",
       "      <td>Senior Java Developer</td>\n",
       "      <td>7095.0</td>\n",
       "      <td>Woodbridge</td>\n",
       "      <td>NJ</td>\n",
       "      <td>40.550</td>\n",
       "      <td>-74.280</td>\n",
       "    </tr>\n",
       "    <tr>\n",
       "      <th>8</th>\n",
       "      <td>8</td>\n",
       "      <td>48</td>\n",
       "      <td>Claim Analyst</td>\n",
       "      <td>5/16/17</td>\n",
       "      <td>5/15/22</td>\n",
       "      <td>Bachelors</td>\n",
       "      <td>5</td>\n",
       "      <td>29.09</td>\n",
       "      <td>29.97</td>\n",
       "      <td>30.87</td>\n",
       "      <td>Senior Java Developer</td>\n",
       "      <td>7095.0</td>\n",
       "      <td>Woodbridge</td>\n",
       "      <td>NJ</td>\n",
       "      <td>40.550</td>\n",
       "      <td>-74.280</td>\n",
       "    </tr>\n",
       "    <tr>\n",
       "      <th>9</th>\n",
       "      <td>9</td>\n",
       "      <td>57</td>\n",
       "      <td>Test Examiner</td>\n",
       "      <td>5/4/18</td>\n",
       "      <td>5/3/23</td>\n",
       "      <td>Bachelors</td>\n",
       "      <td>3</td>\n",
       "      <td>29.92</td>\n",
       "      <td>NaN</td>\n",
       "      <td>NaN</td>\n",
       "      <td>Test Automation Engineer</td>\n",
       "      <td>45315.0</td>\n",
       "      <td>Clayton</td>\n",
       "      <td>OH</td>\n",
       "      <td>39.850</td>\n",
       "      <td>-84.340</td>\n",
       "    </tr>\n",
       "    <tr>\n",
       "      <th>10</th>\n",
       "      <td>10</td>\n",
       "      <td>58</td>\n",
       "      <td>Assistant Project Coordinator</td>\n",
       "      <td>1/22/18</td>\n",
       "      <td>1/21/23</td>\n",
       "      <td>Bachelors</td>\n",
       "      <td>2</td>\n",
       "      <td>30.00</td>\n",
       "      <td>NaN</td>\n",
       "      <td>NaN</td>\n",
       "      <td>IT Project Manager III</td>\n",
       "      <td>30093.0</td>\n",
       "      <td>Norcross</td>\n",
       "      <td>GA</td>\n",
       "      <td>33.910</td>\n",
       "      <td>-84.180</td>\n",
       "    </tr>\n",
       "    <tr>\n",
       "      <th>11</th>\n",
       "      <td>11</td>\n",
       "      <td>59</td>\n",
       "      <td>Customs Specialist I</td>\n",
       "      <td>7/20/18</td>\n",
       "      <td>7/19/23</td>\n",
       "      <td>Bachelors</td>\n",
       "      <td>1</td>\n",
       "      <td>30.10</td>\n",
       "      <td>30.70</td>\n",
       "      <td>31.31</td>\n",
       "      <td>Senior Security Analyst</td>\n",
       "      <td>22314.0</td>\n",
       "      <td>Alexandria</td>\n",
       "      <td>VA</td>\n",
       "      <td>38.810</td>\n",
       "      <td>-77.070</td>\n",
       "    </tr>\n",
       "    <tr>\n",
       "      <th>12</th>\n",
       "      <td>12</td>\n",
       "      <td>82</td>\n",
       "      <td>AP/AR Analyst</td>\n",
       "      <td>5/16/17</td>\n",
       "      <td>5/15/22</td>\n",
       "      <td>Bachelors</td>\n",
       "      <td>5</td>\n",
       "      <td>31.85</td>\n",
       "      <td>32.80</td>\n",
       "      <td>33.79</td>\n",
       "      <td>IT Project Manager III</td>\n",
       "      <td>7095.0</td>\n",
       "      <td>Woodbridge</td>\n",
       "      <td>NJ</td>\n",
       "      <td>40.550</td>\n",
       "      <td>-74.280</td>\n",
       "    </tr>\n",
       "    <tr>\n",
       "      <th>13</th>\n",
       "      <td>13</td>\n",
       "      <td>83</td>\n",
       "      <td>Document Specialist</td>\n",
       "      <td>5/16/17</td>\n",
       "      <td>5/15/22</td>\n",
       "      <td>Bachelors</td>\n",
       "      <td>8</td>\n",
       "      <td>31.85</td>\n",
       "      <td>32.80</td>\n",
       "      <td>33.79</td>\n",
       "      <td>IT Project Manager III</td>\n",
       "      <td>7095.0</td>\n",
       "      <td>Woodbridge</td>\n",
       "      <td>NJ</td>\n",
       "      <td>40.550</td>\n",
       "      <td>-74.280</td>\n",
       "    </tr>\n",
       "    <tr>\n",
       "      <th>14</th>\n",
       "      <td>14</td>\n",
       "      <td>85</td>\n",
       "      <td>Transportation Analyst</td>\n",
       "      <td>5/16/17</td>\n",
       "      <td>5/15/22</td>\n",
       "      <td>Bachelors</td>\n",
       "      <td>3</td>\n",
       "      <td>32.00</td>\n",
       "      <td>32.96</td>\n",
       "      <td>33.95</td>\n",
       "      <td>IT Project Manager III</td>\n",
       "      <td>7095.0</td>\n",
       "      <td>Woodbridge</td>\n",
       "      <td>NJ</td>\n",
       "      <td>40.550</td>\n",
       "      <td>-74.280</td>\n",
       "    </tr>\n",
       "    <tr>\n",
       "      <th>15</th>\n",
       "      <td>15</td>\n",
       "      <td>87</td>\n",
       "      <td>Accounting Specialist</td>\n",
       "      <td>5/16/17</td>\n",
       "      <td>5/15/22</td>\n",
       "      <td>Bachelors</td>\n",
       "      <td>8</td>\n",
       "      <td>32.00</td>\n",
       "      <td>32.96</td>\n",
       "      <td>33.95</td>\n",
       "      <td>IT Project Manager III</td>\n",
       "      <td>7095.0</td>\n",
       "      <td>Woodbridge</td>\n",
       "      <td>NJ</td>\n",
       "      <td>40.550</td>\n",
       "      <td>-74.280</td>\n",
       "    </tr>\n",
       "    <tr>\n",
       "      <th>16</th>\n",
       "      <td>16</td>\n",
       "      <td>93</td>\n",
       "      <td>Index Specialist IV</td>\n",
       "      <td>7/5/18</td>\n",
       "      <td>7/4/23</td>\n",
       "      <td>Bachelors</td>\n",
       "      <td>8</td>\n",
       "      <td>32.44</td>\n",
       "      <td>33.15</td>\n",
       "      <td>33.88</td>\n",
       "      <td>Senior Security Analyst</td>\n",
       "      <td>21550.0</td>\n",
       "      <td>Oakland</td>\n",
       "      <td>MD</td>\n",
       "      <td>39.400</td>\n",
       "      <td>-79.400</td>\n",
       "    </tr>\n",
       "    <tr>\n",
       "      <th>17</th>\n",
       "      <td>17</td>\n",
       "      <td>105</td>\n",
       "      <td>Program Manager I</td>\n",
       "      <td>6/7/18</td>\n",
       "      <td>6/6/23</td>\n",
       "      <td>Bachelors</td>\n",
       "      <td>2</td>\n",
       "      <td>32.90</td>\n",
       "      <td>NaN</td>\n",
       "      <td>NaN</td>\n",
       "      <td>Senior Data Scientist</td>\n",
       "      <td>30097.0</td>\n",
       "      <td>Duluth</td>\n",
       "      <td>GA</td>\n",
       "      <td>34.020</td>\n",
       "      <td>-84.140</td>\n",
       "    </tr>\n",
       "    <tr>\n",
       "      <th>18</th>\n",
       "      <td>18</td>\n",
       "      <td>112</td>\n",
       "      <td>Project Manager I</td>\n",
       "      <td>6/7/17</td>\n",
       "      <td>6/6/22</td>\n",
       "      <td>Bachelors</td>\n",
       "      <td>3</td>\n",
       "      <td>33.50</td>\n",
       "      <td>NaN</td>\n",
       "      <td>NaN</td>\n",
       "      <td>Senior Java Developer</td>\n",
       "      <td>60602.0</td>\n",
       "      <td>Chicago</td>\n",
       "      <td>IL</td>\n",
       "      <td>41.883</td>\n",
       "      <td>-87.628</td>\n",
       "    </tr>\n",
       "    <tr>\n",
       "      <th>19</th>\n",
       "      <td>19</td>\n",
       "      <td>113</td>\n",
       "      <td>QA Specialist Sr</td>\n",
       "      <td>7/28/18</td>\n",
       "      <td>7/27/23</td>\n",
       "      <td>Bachelors</td>\n",
       "      <td>5</td>\n",
       "      <td>33.50</td>\n",
       "      <td>33.50</td>\n",
       "      <td>33.50</td>\n",
       "      <td>User Experience (UX) Developer</td>\n",
       "      <td>64116.0</td>\n",
       "      <td>Kansas City</td>\n",
       "      <td>MO</td>\n",
       "      <td>39.150</td>\n",
       "      <td>-94.570</td>\n",
       "    </tr>\n",
       "    <tr>\n",
       "      <th>20</th>\n",
       "      <td>20</td>\n",
       "      <td>117</td>\n",
       "      <td>Assistant Research Scientist I</td>\n",
       "      <td>12/6/16</td>\n",
       "      <td>12/5/21</td>\n",
       "      <td>Masters</td>\n",
       "      <td>3</td>\n",
       "      <td>33.61</td>\n",
       "      <td>34.18</td>\n",
       "      <td>34.76</td>\n",
       "      <td>IT Project Manager III</td>\n",
       "      <td>77843.0</td>\n",
       "      <td>College Station</td>\n",
       "      <td>TX</td>\n",
       "      <td>0.000</td>\n",
       "      <td>0.000</td>\n",
       "    </tr>\n",
       "    <tr>\n",
       "      <th>21</th>\n",
       "      <td>21</td>\n",
       "      <td>119</td>\n",
       "      <td>Security Support Clerk</td>\n",
       "      <td>7/5/18</td>\n",
       "      <td>7/4/23</td>\n",
       "      <td>Bachelors</td>\n",
       "      <td>3</td>\n",
       "      <td>33.75</td>\n",
       "      <td>34.50</td>\n",
       "      <td>35.26</td>\n",
       "      <td>IT Project Manager III</td>\n",
       "      <td>21550.0</td>\n",
       "      <td>Oakland</td>\n",
       "      <td>MD</td>\n",
       "      <td>39.400</td>\n",
       "      <td>-79.400</td>\n",
       "    </tr>\n",
       "    <tr>\n",
       "      <th>22</th>\n",
       "      <td>22</td>\n",
       "      <td>127</td>\n",
       "      <td>Project Coordinator</td>\n",
       "      <td>5/16/17</td>\n",
       "      <td>5/15/22</td>\n",
       "      <td>Bachelors</td>\n",
       "      <td>8</td>\n",
       "      <td>34.19</td>\n",
       "      <td>35.22</td>\n",
       "      <td>36.27</td>\n",
       "      <td>IT Project Manager III</td>\n",
       "      <td>7095.0</td>\n",
       "      <td>Woodbridge</td>\n",
       "      <td>NJ</td>\n",
       "      <td>40.550</td>\n",
       "      <td>-74.280</td>\n",
       "    </tr>\n",
       "    <tr>\n",
       "      <th>23</th>\n",
       "      <td>23</td>\n",
       "      <td>134</td>\n",
       "      <td>Co-Op Engineer / Scientist</td>\n",
       "      <td>5/24/17</td>\n",
       "      <td>5/23/22</td>\n",
       "      <td>Bachelors</td>\n",
       "      <td>0</td>\n",
       "      <td>34.51</td>\n",
       "      <td>35.20</td>\n",
       "      <td>35.90</td>\n",
       "      <td>Senior Java Developer</td>\n",
       "      <td>35806.0</td>\n",
       "      <td>Huntsville</td>\n",
       "      <td>AL</td>\n",
       "      <td>34.750</td>\n",
       "      <td>-86.680</td>\n",
       "    </tr>\n",
       "    <tr>\n",
       "      <th>24</th>\n",
       "      <td>24</td>\n",
       "      <td>148</td>\n",
       "      <td>PM Analyst</td>\n",
       "      <td>5/16/17</td>\n",
       "      <td>5/15/22</td>\n",
       "      <td>Bachelors</td>\n",
       "      <td>3</td>\n",
       "      <td>34.92</td>\n",
       "      <td>35.97</td>\n",
       "      <td>37.05</td>\n",
       "      <td>IT Project Manager III</td>\n",
       "      <td>7095.0</td>\n",
       "      <td>Woodbridge</td>\n",
       "      <td>NJ</td>\n",
       "      <td>40.550</td>\n",
       "      <td>-74.280</td>\n",
       "    </tr>\n",
       "    <tr>\n",
       "      <th>25</th>\n",
       "      <td>25</td>\n",
       "      <td>153</td>\n",
       "      <td>Sound Engineer</td>\n",
       "      <td>8/29/16</td>\n",
       "      <td>8/28/21</td>\n",
       "      <td>Bachelors</td>\n",
       "      <td>3</td>\n",
       "      <td>35.07</td>\n",
       "      <td>NaN</td>\n",
       "      <td>NaN</td>\n",
       "      <td>User Experience (UX) Developer</td>\n",
       "      <td>23669.0</td>\n",
       "      <td>Hampton</td>\n",
       "      <td>VA</td>\n",
       "      <td>37.050</td>\n",
       "      <td>-76.350</td>\n",
       "    </tr>\n",
       "    <tr>\n",
       "      <th>26</th>\n",
       "      <td>26</td>\n",
       "      <td>156</td>\n",
       "      <td>Research Analyst I</td>\n",
       "      <td>11/3/17</td>\n",
       "      <td>11/2/22</td>\n",
       "      <td>Bachelors</td>\n",
       "      <td>0</td>\n",
       "      <td>35.22</td>\n",
       "      <td>36.10</td>\n",
       "      <td>37.01</td>\n",
       "      <td>Senior Java Developer</td>\n",
       "      <td>22202.0</td>\n",
       "      <td>Arlington</td>\n",
       "      <td>VA</td>\n",
       "      <td>38.860</td>\n",
       "      <td>-77.050</td>\n",
       "    </tr>\n",
       "    <tr>\n",
       "      <th>27</th>\n",
       "      <td>27</td>\n",
       "      <td>162</td>\n",
       "      <td>Scientist I</td>\n",
       "      <td>8/16/17</td>\n",
       "      <td>8/15/22</td>\n",
       "      <td>Bachelors</td>\n",
       "      <td>2</td>\n",
       "      <td>35.73</td>\n",
       "      <td>36.80</td>\n",
       "      <td>37.91</td>\n",
       "      <td>Senior Java Developer</td>\n",
       "      <td>74015.0</td>\n",
       "      <td>Catoosa</td>\n",
       "      <td>OK</td>\n",
       "      <td>36.200</td>\n",
       "      <td>-95.700</td>\n",
       "    </tr>\n",
       "    <tr>\n",
       "      <th>28</th>\n",
       "      <td>28</td>\n",
       "      <td>164</td>\n",
       "      <td>Budget Analyst II</td>\n",
       "      <td>1/22/18</td>\n",
       "      <td>1/21/23</td>\n",
       "      <td>Bachelors</td>\n",
       "      <td>3</td>\n",
       "      <td>35.80</td>\n",
       "      <td>NaN</td>\n",
       "      <td>NaN</td>\n",
       "      <td>Senior Data Scientist</td>\n",
       "      <td>30093.0</td>\n",
       "      <td>Norcross</td>\n",
       "      <td>GA</td>\n",
       "      <td>33.910</td>\n",
       "      <td>-84.180</td>\n",
       "    </tr>\n",
       "    <tr>\n",
       "      <th>29</th>\n",
       "      <td>29</td>\n",
       "      <td>168</td>\n",
       "      <td>Information Security Consultant</td>\n",
       "      <td>5/16/17</td>\n",
       "      <td>5/15/22</td>\n",
       "      <td>Bachelors</td>\n",
       "      <td>8</td>\n",
       "      <td>35.96</td>\n",
       "      <td>37.04</td>\n",
       "      <td>38.15</td>\n",
       "      <td>Senior Security Analyst</td>\n",
       "      <td>7095.0</td>\n",
       "      <td>Woodbridge</td>\n",
       "      <td>NJ</td>\n",
       "      <td>40.550</td>\n",
       "      <td>-74.280</td>\n",
       "    </tr>\n",
       "    <tr>\n",
       "      <th>30</th>\n",
       "      <td>30</td>\n",
       "      <td>176</td>\n",
       "      <td>Financial Analyst I</td>\n",
       "      <td>6/7/18</td>\n",
       "      <td>6/6/23</td>\n",
       "      <td>Bachelors</td>\n",
       "      <td>1</td>\n",
       "      <td>36.22</td>\n",
       "      <td>NaN</td>\n",
       "      <td>NaN</td>\n",
       "      <td>Senior Security Analyst</td>\n",
       "      <td>30097.0</td>\n",
       "      <td>Duluth</td>\n",
       "      <td>GA</td>\n",
       "      <td>34.020</td>\n",
       "      <td>-84.140</td>\n",
       "    </tr>\n",
       "    <tr>\n",
       "      <th>31</th>\n",
       "      <td>31</td>\n",
       "      <td>178</td>\n",
       "      <td>Program Manager I</td>\n",
       "      <td>1/22/18</td>\n",
       "      <td>1/21/23</td>\n",
       "      <td>Bachelors</td>\n",
       "      <td>10</td>\n",
       "      <td>36.27</td>\n",
       "      <td>NaN</td>\n",
       "      <td>NaN</td>\n",
       "      <td>Senior Java Developer</td>\n",
       "      <td>30093.0</td>\n",
       "      <td>Norcross</td>\n",
       "      <td>GA</td>\n",
       "      <td>33.910</td>\n",
       "      <td>-84.180</td>\n",
       "    </tr>\n",
       "    <tr>\n",
       "      <th>32</th>\n",
       "      <td>32</td>\n",
       "      <td>179</td>\n",
       "      <td>Program Manager II</td>\n",
       "      <td>6/7/18</td>\n",
       "      <td>6/6/23</td>\n",
       "      <td>Bachelors</td>\n",
       "      <td>4</td>\n",
       "      <td>36.27</td>\n",
       "      <td>NaN</td>\n",
       "      <td>NaN</td>\n",
       "      <td>Senior Data Scientist</td>\n",
       "      <td>30097.0</td>\n",
       "      <td>Duluth</td>\n",
       "      <td>GA</td>\n",
       "      <td>34.020</td>\n",
       "      <td>-84.140</td>\n",
       "    </tr>\n",
       "    <tr>\n",
       "      <th>33</th>\n",
       "      <td>33</td>\n",
       "      <td>180</td>\n",
       "      <td>GIS Specialist</td>\n",
       "      <td>12/14/18</td>\n",
       "      <td>12/13/23</td>\n",
       "      <td>Bachelors</td>\n",
       "      <td>6</td>\n",
       "      <td>36.29</td>\n",
       "      <td>37.05</td>\n",
       "      <td>37.83</td>\n",
       "      <td>Senior Java Developer</td>\n",
       "      <td>22151.0</td>\n",
       "      <td>Springfield</td>\n",
       "      <td>VA</td>\n",
       "      <td>38.800</td>\n",
       "      <td>-77.210</td>\n",
       "    </tr>\n",
       "    <tr>\n",
       "      <th>34</th>\n",
       "      <td>34</td>\n",
       "      <td>181</td>\n",
       "      <td>Department Manager I</td>\n",
       "      <td>7/5/18</td>\n",
       "      <td>7/4/23</td>\n",
       "      <td>Bachelors</td>\n",
       "      <td>8</td>\n",
       "      <td>36.30</td>\n",
       "      <td>37.10</td>\n",
       "      <td>37.92</td>\n",
       "      <td>IT Project Manager I</td>\n",
       "      <td>21550.0</td>\n",
       "      <td>Oakland</td>\n",
       "      <td>MD</td>\n",
       "      <td>39.400</td>\n",
       "      <td>-79.400</td>\n",
       "    </tr>\n",
       "    <tr>\n",
       "      <th>35</th>\n",
       "      <td>35</td>\n",
       "      <td>183</td>\n",
       "      <td>Logistics Analyst</td>\n",
       "      <td>5/16/17</td>\n",
       "      <td>5/15/22</td>\n",
       "      <td>Bachelors</td>\n",
       "      <td>2</td>\n",
       "      <td>36.37</td>\n",
       "      <td>37.46</td>\n",
       "      <td>38.58</td>\n",
       "      <td>IT Project Manager III</td>\n",
       "      <td>7095.0</td>\n",
       "      <td>Woodbridge</td>\n",
       "      <td>NJ</td>\n",
       "      <td>40.550</td>\n",
       "      <td>-74.280</td>\n",
       "    </tr>\n",
       "    <tr>\n",
       "      <th>36</th>\n",
       "      <td>36</td>\n",
       "      <td>184</td>\n",
       "      <td>Customer Support Analyst</td>\n",
       "      <td>5/16/17</td>\n",
       "      <td>5/15/22</td>\n",
       "      <td>Bachelors</td>\n",
       "      <td>2</td>\n",
       "      <td>36.37</td>\n",
       "      <td>37.46</td>\n",
       "      <td>38.58</td>\n",
       "      <td>IT Project Manager III</td>\n",
       "      <td>7095.0</td>\n",
       "      <td>Woodbridge</td>\n",
       "      <td>NJ</td>\n",
       "      <td>40.550</td>\n",
       "      <td>-74.280</td>\n",
       "    </tr>\n",
       "    <tr>\n",
       "      <th>37</th>\n",
       "      <td>37</td>\n",
       "      <td>194</td>\n",
       "      <td>Audio Visual Engineer I</td>\n",
       "      <td>8/29/16</td>\n",
       "      <td>8/28/21</td>\n",
       "      <td>Bachelors</td>\n",
       "      <td>1</td>\n",
       "      <td>36.60</td>\n",
       "      <td>NaN</td>\n",
       "      <td>NaN</td>\n",
       "      <td>Senior Java Developer</td>\n",
       "      <td>23669.0</td>\n",
       "      <td>Hampton</td>\n",
       "      <td>VA</td>\n",
       "      <td>37.050</td>\n",
       "      <td>-76.350</td>\n",
       "    </tr>\n",
       "    <tr>\n",
       "      <th>38</th>\n",
       "      <td>38</td>\n",
       "      <td>196</td>\n",
       "      <td>Engineering Technician III</td>\n",
       "      <td>10/26/11</td>\n",
       "      <td>10/25/21</td>\n",
       "      <td>Bachelors</td>\n",
       "      <td>2</td>\n",
       "      <td>36.77</td>\n",
       "      <td>NaN</td>\n",
       "      <td>NaN</td>\n",
       "      <td>Senior Java Developer</td>\n",
       "      <td>30076.0</td>\n",
       "      <td>Roswell</td>\n",
       "      <td>GA</td>\n",
       "      <td>34.020</td>\n",
       "      <td>-84.310</td>\n",
       "    </tr>\n",
       "    <tr>\n",
       "      <th>39</th>\n",
       "      <td>39</td>\n",
       "      <td>198</td>\n",
       "      <td>Financial Analyst</td>\n",
       "      <td>5/16/17</td>\n",
       "      <td>5/15/22</td>\n",
       "      <td>Bachelors</td>\n",
       "      <td>6</td>\n",
       "      <td>36.86</td>\n",
       "      <td>37.97</td>\n",
       "      <td>39.11</td>\n",
       "      <td>Senior Java Developer</td>\n",
       "      <td>7095.0</td>\n",
       "      <td>Woodbridge</td>\n",
       "      <td>NJ</td>\n",
       "      <td>40.550</td>\n",
       "      <td>-74.280</td>\n",
       "    </tr>\n",
       "    <tr>\n",
       "      <th>40</th>\n",
       "      <td>40</td>\n",
       "      <td>201</td>\n",
       "      <td>Junior Analyst</td>\n",
       "      <td>5/9/19</td>\n",
       "      <td>5/8/24</td>\n",
       "      <td>Bachelors</td>\n",
       "      <td>1</td>\n",
       "      <td>37.10</td>\n",
       "      <td>37.84</td>\n",
       "      <td>38.60</td>\n",
       "      <td>Senior Java Developer</td>\n",
       "      <td>20001.0</td>\n",
       "      <td>Washington</td>\n",
       "      <td>DC</td>\n",
       "      <td>38.910</td>\n",
       "      <td>-77.020</td>\n",
       "    </tr>\n",
       "    <tr>\n",
       "      <th>41</th>\n",
       "      <td>41</td>\n",
       "      <td>216</td>\n",
       "      <td>Database Manager</td>\n",
       "      <td>3/14/07</td>\n",
       "      <td>3/13/22</td>\n",
       "      <td>Masters</td>\n",
       "      <td>3</td>\n",
       "      <td>37.49</td>\n",
       "      <td>37.49</td>\n",
       "      <td>37.49</td>\n",
       "      <td>IT Project Manager III</td>\n",
       "      <td>20815.0</td>\n",
       "      <td>Chevy Chase</td>\n",
       "      <td>MD</td>\n",
       "      <td>38.980</td>\n",
       "      <td>-77.080</td>\n",
       "    </tr>\n",
       "    <tr>\n",
       "      <th>42</th>\n",
       "      <td>42</td>\n",
       "      <td>223</td>\n",
       "      <td>Geopolitical Analyst II</td>\n",
       "      <td>7/20/18</td>\n",
       "      <td>7/19/23</td>\n",
       "      <td>Bachelors</td>\n",
       "      <td>3</td>\n",
       "      <td>37.62</td>\n",
       "      <td>38.37</td>\n",
       "      <td>39.14</td>\n",
       "      <td>Senior Java Developer</td>\n",
       "      <td>22314.0</td>\n",
       "      <td>Alexandria</td>\n",
       "      <td>VA</td>\n",
       "      <td>38.810</td>\n",
       "      <td>-77.070</td>\n",
       "    </tr>\n",
       "    <tr>\n",
       "      <th>43</th>\n",
       "      <td>43</td>\n",
       "      <td>228</td>\n",
       "      <td>Help Desk Support/Computer User Support Specia...</td>\n",
       "      <td>10/23/20</td>\n",
       "      <td>10/22/25</td>\n",
       "      <td>Bachelors</td>\n",
       "      <td>3</td>\n",
       "      <td>37.71</td>\n",
       "      <td>38.31</td>\n",
       "      <td>38.93</td>\n",
       "      <td>Senior Java Developer</td>\n",
       "      <td>23452.0</td>\n",
       "      <td>Virginia Beach</td>\n",
       "      <td>VA</td>\n",
       "      <td>36.850</td>\n",
       "      <td>-76.100</td>\n",
       "    </tr>\n",
       "    <tr>\n",
       "      <th>44</th>\n",
       "      <td>44</td>\n",
       "      <td>230</td>\n",
       "      <td>Content Manager</td>\n",
       "      <td>6/2/19</td>\n",
       "      <td>6/1/24</td>\n",
       "      <td>Bachelors</td>\n",
       "      <td>2</td>\n",
       "      <td>37.76</td>\n",
       "      <td>NaN</td>\n",
       "      <td>NaN</td>\n",
       "      <td>Senior Computer Security Systems Specialist</td>\n",
       "      <td>10505.0</td>\n",
       "      <td>Baldwin Place</td>\n",
       "      <td>NY</td>\n",
       "      <td>41.341</td>\n",
       "      <td>-73.744</td>\n",
       "    </tr>\n",
       "    <tr>\n",
       "      <th>45</th>\n",
       "      <td>45</td>\n",
       "      <td>232</td>\n",
       "      <td>Management Analyst I</td>\n",
       "      <td>6/7/18</td>\n",
       "      <td>6/6/23</td>\n",
       "      <td>Bachelors</td>\n",
       "      <td>2</td>\n",
       "      <td>37.80</td>\n",
       "      <td>NaN</td>\n",
       "      <td>NaN</td>\n",
       "      <td>Senior Security Analyst</td>\n",
       "      <td>30097.0</td>\n",
       "      <td>Duluth</td>\n",
       "      <td>GA</td>\n",
       "      <td>34.020</td>\n",
       "      <td>-84.140</td>\n",
       "    </tr>\n",
       "    <tr>\n",
       "      <th>46</th>\n",
       "      <td>46</td>\n",
       "      <td>241</td>\n",
       "      <td>IT Tech 8</td>\n",
       "      <td>2/8/17</td>\n",
       "      <td>2/7/22</td>\n",
       "      <td>Bachelors</td>\n",
       "      <td>1</td>\n",
       "      <td>37.93</td>\n",
       "      <td>38.69</td>\n",
       "      <td>39.46</td>\n",
       "      <td>Senior Java Developer</td>\n",
       "      <td>NaN</td>\n",
       "      <td></td>\n",
       "      <td></td>\n",
       "      <td>0.000</td>\n",
       "      <td>0.000</td>\n",
       "    </tr>\n",
       "    <tr>\n",
       "      <th>47</th>\n",
       "      <td>47</td>\n",
       "      <td>243</td>\n",
       "      <td>Logistics Analyst</td>\n",
       "      <td>11/29/17</td>\n",
       "      <td>11/28/22</td>\n",
       "      <td>Bachelors</td>\n",
       "      <td>3</td>\n",
       "      <td>37.96</td>\n",
       "      <td>38.72</td>\n",
       "      <td>39.50</td>\n",
       "      <td>Senior Java Developer</td>\n",
       "      <td>22314.0</td>\n",
       "      <td>Duluth</td>\n",
       "      <td>GA</td>\n",
       "      <td>34.020</td>\n",
       "      <td>-84.140</td>\n",
       "    </tr>\n",
       "    <tr>\n",
       "      <th>48</th>\n",
       "      <td>48</td>\n",
       "      <td>245</td>\n",
       "      <td>Analyst</td>\n",
       "      <td>7/20/18</td>\n",
       "      <td>7/19/23</td>\n",
       "      <td>Bachelors</td>\n",
       "      <td>2</td>\n",
       "      <td>37.99</td>\n",
       "      <td>38.75</td>\n",
       "      <td>39.53</td>\n",
       "      <td>Senior Data Scientist</td>\n",
       "      <td>22314.0</td>\n",
       "      <td>Alexandria</td>\n",
       "      <td>VA</td>\n",
       "      <td>38.810</td>\n",
       "      <td>-77.070</td>\n",
       "    </tr>\n",
       "    <tr>\n",
       "      <th>49</th>\n",
       "      <td>49</td>\n",
       "      <td>247</td>\n",
       "      <td>Project Administrator I</td>\n",
       "      <td>6/7/18</td>\n",
       "      <td>6/6/23</td>\n",
       "      <td>Bachelors</td>\n",
       "      <td>4</td>\n",
       "      <td>38.07</td>\n",
       "      <td>NaN</td>\n",
       "      <td>NaN</td>\n",
       "      <td>IT Project Manager I</td>\n",
       "      <td>30097.0</td>\n",
       "      <td>Duluth</td>\n",
       "      <td>GA</td>\n",
       "      <td>34.020</td>\n",
       "      <td>-84.140</td>\n",
       "    </tr>\n",
       "  </tbody>\n",
       "</table>\n",
       "</div>"
      ],
      "text/plain": [
       "    Unnamed: 0  c_row_id                                            c_labor  \\\n",
       "0            0         9                                  Software Engineer   \n",
       "1            1        28                                Financial Analyst I   \n",
       "2            2        32                      Assistant Project Coordinator   \n",
       "3            3        34                                  Marketing Analyst   \n",
       "4            4        36                                   Security Manager   \n",
       "5            5        42                                       Test Proctor   \n",
       "6            6        46                                        Tax Analyst   \n",
       "7            7        47                                        PSI Analyst   \n",
       "8            8        48                                      Claim Analyst   \n",
       "9            9        57                                      Test Examiner   \n",
       "10          10        58                      Assistant Project Coordinator   \n",
       "11          11        59                               Customs Specialist I   \n",
       "12          12        82                                      AP/AR Analyst   \n",
       "13          13        83                                Document Specialist   \n",
       "14          14        85                             Transportation Analyst   \n",
       "15          15        87                              Accounting Specialist   \n",
       "16          16        93                                Index Specialist IV   \n",
       "17          17       105                                  Program Manager I   \n",
       "18          18       112                                  Project Manager I   \n",
       "19          19       113                                   QA Specialist Sr   \n",
       "20          20       117                     Assistant Research Scientist I   \n",
       "21          21       119                             Security Support Clerk   \n",
       "22          22       127                                Project Coordinator   \n",
       "23          23       134                         Co-Op Engineer / Scientist   \n",
       "24          24       148                                         PM Analyst   \n",
       "25          25       153                                     Sound Engineer   \n",
       "26          26       156                                 Research Analyst I   \n",
       "27          27       162                                        Scientist I   \n",
       "28          28       164                                  Budget Analyst II   \n",
       "29          29       168                    Information Security Consultant   \n",
       "30          30       176                                Financial Analyst I   \n",
       "31          31       178                                  Program Manager I   \n",
       "32          32       179                                 Program Manager II   \n",
       "33          33       180                                     GIS Specialist   \n",
       "34          34       181                               Department Manager I   \n",
       "35          35       183                                  Logistics Analyst   \n",
       "36          36       184                           Customer Support Analyst   \n",
       "37          37       194                            Audio Visual Engineer I   \n",
       "38          38       196                         Engineering Technician III   \n",
       "39          39       198                                  Financial Analyst   \n",
       "40          40       201                                     Junior Analyst   \n",
       "41          41       216                                   Database Manager   \n",
       "42          42       223                            Geopolitical Analyst II   \n",
       "43          43       228  Help Desk Support/Computer User Support Specia...   \n",
       "44          44       230                                    Content Manager   \n",
       "45          45       232                               Management Analyst I   \n",
       "46          46       241                                          IT Tech 8   \n",
       "47          47       243                                  Logistics Analyst   \n",
       "48          48       245                                            Analyst   \n",
       "49          49       247                            Project Administrator I   \n",
       "\n",
       "   begin_date  end_date c_edu_level  c_min_year_exp  c_current_year  \\\n",
       "0      6/9/17    6/8/22   Bachelors               3           21.11   \n",
       "1     8/20/09   8/19/24   Bachelors               0           26.31   \n",
       "2      6/7/18    6/6/23   Bachelors               2           27.21   \n",
       "3     5/16/17   5/15/22   Bachelors               2           27.64   \n",
       "4      6/2/19    6/1/24   Bachelors               1           27.98   \n",
       "5    12/23/16  12/22/21   Bachelors               1           28.57   \n",
       "6     5/16/17   5/15/22   Bachelors               1           29.09   \n",
       "7     5/16/17   5/15/22   Bachelors               1           29.09   \n",
       "8     5/16/17   5/15/22   Bachelors               5           29.09   \n",
       "9      5/4/18    5/3/23   Bachelors               3           29.92   \n",
       "10    1/22/18   1/21/23   Bachelors               2           30.00   \n",
       "11    7/20/18   7/19/23   Bachelors               1           30.10   \n",
       "12    5/16/17   5/15/22   Bachelors               5           31.85   \n",
       "13    5/16/17   5/15/22   Bachelors               8           31.85   \n",
       "14    5/16/17   5/15/22   Bachelors               3           32.00   \n",
       "15    5/16/17   5/15/22   Bachelors               8           32.00   \n",
       "16     7/5/18    7/4/23   Bachelors               8           32.44   \n",
       "17     6/7/18    6/6/23   Bachelors               2           32.90   \n",
       "18     6/7/17    6/6/22   Bachelors               3           33.50   \n",
       "19    7/28/18   7/27/23   Bachelors               5           33.50   \n",
       "20    12/6/16   12/5/21     Masters               3           33.61   \n",
       "21     7/5/18    7/4/23   Bachelors               3           33.75   \n",
       "22    5/16/17   5/15/22   Bachelors               8           34.19   \n",
       "23    5/24/17   5/23/22   Bachelors               0           34.51   \n",
       "24    5/16/17   5/15/22   Bachelors               3           34.92   \n",
       "25    8/29/16   8/28/21   Bachelors               3           35.07   \n",
       "26    11/3/17   11/2/22   Bachelors               0           35.22   \n",
       "27    8/16/17   8/15/22   Bachelors               2           35.73   \n",
       "28    1/22/18   1/21/23   Bachelors               3           35.80   \n",
       "29    5/16/17   5/15/22   Bachelors               8           35.96   \n",
       "30     6/7/18    6/6/23   Bachelors               1           36.22   \n",
       "31    1/22/18   1/21/23   Bachelors              10           36.27   \n",
       "32     6/7/18    6/6/23   Bachelors               4           36.27   \n",
       "33   12/14/18  12/13/23   Bachelors               6           36.29   \n",
       "34     7/5/18    7/4/23   Bachelors               8           36.30   \n",
       "35    5/16/17   5/15/22   Bachelors               2           36.37   \n",
       "36    5/16/17   5/15/22   Bachelors               2           36.37   \n",
       "37    8/29/16   8/28/21   Bachelors               1           36.60   \n",
       "38   10/26/11  10/25/21   Bachelors               2           36.77   \n",
       "39    5/16/17   5/15/22   Bachelors               6           36.86   \n",
       "40     5/9/19    5/8/24   Bachelors               1           37.10   \n",
       "41    3/14/07   3/13/22     Masters               3           37.49   \n",
       "42    7/20/18   7/19/23   Bachelors               3           37.62   \n",
       "43   10/23/20  10/22/25   Bachelors               3           37.71   \n",
       "44     6/2/19    6/1/24   Bachelors               2           37.76   \n",
       "45     6/7/18    6/6/23   Bachelors               2           37.80   \n",
       "46     2/8/17    2/7/22   Bachelors               1           37.93   \n",
       "47   11/29/17  11/28/22   Bachelors               3           37.96   \n",
       "48    7/20/18   7/19/23   Bachelors               2           37.99   \n",
       "49     6/7/18    6/6/23   Bachelors               4           38.07   \n",
       "\n",
       "    c_next_year  c_second_year                           jd_matching_allwyn  \\\n",
       "0         21.75          22.40                        Senior Java Developer   \n",
       "1         26.31          26.31                      Senior Security Analyst   \n",
       "2           NaN            NaN                         IT Project Manager I   \n",
       "3         28.46          29.32                       IT Project Manager III   \n",
       "4           NaN            NaN                      Senior Security Analyst   \n",
       "5           NaN            NaN                    Test Automation Engineer    \n",
       "6         29.97          30.87                        Senior Java Developer   \n",
       "7         29.97          30.87                        Senior Java Developer   \n",
       "8         29.97          30.87                        Senior Java Developer   \n",
       "9           NaN            NaN                    Test Automation Engineer    \n",
       "10          NaN            NaN                       IT Project Manager III   \n",
       "11        30.70          31.31                      Senior Security Analyst   \n",
       "12        32.80          33.79                       IT Project Manager III   \n",
       "13        32.80          33.79                       IT Project Manager III   \n",
       "14        32.96          33.95                       IT Project Manager III   \n",
       "15        32.96          33.95                       IT Project Manager III   \n",
       "16        33.15          33.88                      Senior Security Analyst   \n",
       "17          NaN            NaN                        Senior Data Scientist   \n",
       "18          NaN            NaN                        Senior Java Developer   \n",
       "19        33.50          33.50               User Experience (UX) Developer   \n",
       "20        34.18          34.76                       IT Project Manager III   \n",
       "21        34.50          35.26                       IT Project Manager III   \n",
       "22        35.22          36.27                       IT Project Manager III   \n",
       "23        35.20          35.90                        Senior Java Developer   \n",
       "24        35.97          37.05                       IT Project Manager III   \n",
       "25          NaN            NaN               User Experience (UX) Developer   \n",
       "26        36.10          37.01                        Senior Java Developer   \n",
       "27        36.80          37.91                        Senior Java Developer   \n",
       "28          NaN            NaN                        Senior Data Scientist   \n",
       "29        37.04          38.15                      Senior Security Analyst   \n",
       "30          NaN            NaN                      Senior Security Analyst   \n",
       "31          NaN            NaN                        Senior Java Developer   \n",
       "32          NaN            NaN                        Senior Data Scientist   \n",
       "33        37.05          37.83                        Senior Java Developer   \n",
       "34        37.10          37.92                         IT Project Manager I   \n",
       "35        37.46          38.58                       IT Project Manager III   \n",
       "36        37.46          38.58                       IT Project Manager III   \n",
       "37          NaN            NaN                        Senior Java Developer   \n",
       "38          NaN            NaN                        Senior Java Developer   \n",
       "39        37.97          39.11                        Senior Java Developer   \n",
       "40        37.84          38.60                        Senior Java Developer   \n",
       "41        37.49          37.49                       IT Project Manager III   \n",
       "42        38.37          39.14                        Senior Java Developer   \n",
       "43        38.31          38.93                        Senior Java Developer   \n",
       "44          NaN            NaN  Senior Computer Security Systems Specialist   \n",
       "45          NaN            NaN                      Senior Security Analyst   \n",
       "46        38.69          39.46                        Senior Java Developer   \n",
       "47        38.72          39.50                        Senior Java Developer   \n",
       "48        38.75          39.53                        Senior Data Scientist   \n",
       "49          NaN            NaN                         IT Project Manager I   \n",
       "\n",
       "    zipcode             city state  latitude  longitude  \n",
       "0   80302.0          Boulder    CO    40.100   -105.400  \n",
       "1   80228.0           Denver    CO    39.690   -105.150  \n",
       "2   30097.0           Duluth    GA    34.020    -84.140  \n",
       "3    7095.0       Woodbridge    NJ    40.550    -74.280  \n",
       "4   10505.0    Baldwin Place    NY    41.341    -73.744  \n",
       "5       NaN                            0.000      0.000  \n",
       "6    7095.0    Baldwin Place    NY    41.341    -73.744  \n",
       "7    7095.0       Woodbridge    NJ    40.550    -74.280  \n",
       "8    7095.0       Woodbridge    NJ    40.550    -74.280  \n",
       "9   45315.0          Clayton    OH    39.850    -84.340  \n",
       "10  30093.0         Norcross    GA    33.910    -84.180  \n",
       "11  22314.0       Alexandria    VA    38.810    -77.070  \n",
       "12   7095.0       Woodbridge    NJ    40.550    -74.280  \n",
       "13   7095.0       Woodbridge    NJ    40.550    -74.280  \n",
       "14   7095.0       Woodbridge    NJ    40.550    -74.280  \n",
       "15   7095.0       Woodbridge    NJ    40.550    -74.280  \n",
       "16  21550.0          Oakland    MD    39.400    -79.400  \n",
       "17  30097.0           Duluth    GA    34.020    -84.140  \n",
       "18  60602.0          Chicago    IL    41.883    -87.628  \n",
       "19  64116.0      Kansas City    MO    39.150    -94.570  \n",
       "20  77843.0  College Station    TX     0.000      0.000  \n",
       "21  21550.0          Oakland    MD    39.400    -79.400  \n",
       "22   7095.0       Woodbridge    NJ    40.550    -74.280  \n",
       "23  35806.0       Huntsville    AL    34.750    -86.680  \n",
       "24   7095.0       Woodbridge    NJ    40.550    -74.280  \n",
       "25  23669.0          Hampton    VA    37.050    -76.350  \n",
       "26  22202.0        Arlington    VA    38.860    -77.050  \n",
       "27  74015.0          Catoosa    OK    36.200    -95.700  \n",
       "28  30093.0         Norcross    GA    33.910    -84.180  \n",
       "29   7095.0       Woodbridge    NJ    40.550    -74.280  \n",
       "30  30097.0           Duluth    GA    34.020    -84.140  \n",
       "31  30093.0         Norcross    GA    33.910    -84.180  \n",
       "32  30097.0           Duluth    GA    34.020    -84.140  \n",
       "33  22151.0      Springfield    VA    38.800    -77.210  \n",
       "34  21550.0          Oakland    MD    39.400    -79.400  \n",
       "35   7095.0       Woodbridge    NJ    40.550    -74.280  \n",
       "36   7095.0       Woodbridge    NJ    40.550    -74.280  \n",
       "37  23669.0          Hampton    VA    37.050    -76.350  \n",
       "38  30076.0          Roswell    GA    34.020    -84.310  \n",
       "39   7095.0       Woodbridge    NJ    40.550    -74.280  \n",
       "40  20001.0       Washington    DC    38.910    -77.020  \n",
       "41  20815.0      Chevy Chase    MD    38.980    -77.080  \n",
       "42  22314.0       Alexandria    VA    38.810    -77.070  \n",
       "43  23452.0   Virginia Beach    VA    36.850    -76.100  \n",
       "44  10505.0    Baldwin Place    NY    41.341    -73.744  \n",
       "45  30097.0           Duluth    GA    34.020    -84.140  \n",
       "46      NaN                            0.000      0.000  \n",
       "47  22314.0           Duluth    GA    34.020    -84.140  \n",
       "48  22314.0       Alexandria    VA    38.810    -77.070  \n",
       "49  30097.0           Duluth    GA    34.020    -84.140  "
      ]
     },
     "execution_count": 7,
     "metadata": {},
     "output_type": "execute_result"
    }
   ],
   "source": [
    "calc['latitude'].replace(['', 'None'], 0, inplace=True)\n",
    "calc['latitude'] = calc['latitude'].fillna(0)\n",
    "calc['longitude'].replace(['', 'None'], 0, inplace=True)\n",
    "calc['longitude'] = calc['longitude'].fillna(0)\n",
    "calc.head(50)"
   ]
  },
  {
   "cell_type": "code",
   "execution_count": 23,
   "id": "07e2cd37",
   "metadata": {},
   "outputs": [],
   "source": [
    "# create list of locations that match bls clustering"
   ]
  },
  {
   "cell_type": "code",
   "execution_count": 8,
   "id": "263edb27",
   "metadata": {},
   "outputs": [],
   "source": [
    "# read in csv with BLS areas and their zipcode\n",
    "bls_areas = pd.read_csv(\"/Users/Jeanine/Documents/DAEN690/bls_areas.csv\")"
   ]
  },
  {
   "cell_type": "code",
   "execution_count": 9,
   "id": "5b82e220",
   "metadata": {},
   "outputs": [],
   "source": [
    "# get lat and long for BLS areas\n",
    "lat_list = []\n",
    "lng_list = []\n",
    "\n",
    "z = 0\n",
    "while z < len(bls_areas):\n",
    "    try:\n",
    "        zip_return = search.by_zipcode(str(bls_areas['zipcode'][z]))\n",
    "    except ValueError:\n",
    "        z += 1\n",
    "        lat_list.append(\"\")\n",
    "        lng_list.append(\"\")\n",
    "    lat_list.append(zip_return.lat)\n",
    "    lng_list.append(zip_return.lng)\n",
    "    z += 1\n",
    "\n",
    "bls_areas['latitude'] = lat_list\n",
    "bls_areas['longitude'] = lng_list"
   ]
  },
  {
   "cell_type": "code",
   "execution_count": 10,
   "id": "1866e349",
   "metadata": {},
   "outputs": [
    {
     "data": {
      "text/html": [
       "<div>\n",
       "<style scoped>\n",
       "    .dataframe tbody tr th:only-of-type {\n",
       "        vertical-align: middle;\n",
       "    }\n",
       "\n",
       "    .dataframe tbody tr th {\n",
       "        vertical-align: top;\n",
       "    }\n",
       "\n",
       "    .dataframe thead th {\n",
       "        text-align: right;\n",
       "    }\n",
       "</style>\n",
       "<table border=\"1\" class=\"dataframe\">\n",
       "  <thead>\n",
       "    <tr style=\"text-align: right;\">\n",
       "      <th></th>\n",
       "      <th>region</th>\n",
       "      <th>zipcode</th>\n",
       "      <th>latitude</th>\n",
       "      <th>longitude</th>\n",
       "    </tr>\n",
       "  </thead>\n",
       "  <tbody>\n",
       "    <tr>\n",
       "      <th>0</th>\n",
       "      <td>Washington-Arlington-Alexandria, DC-VA-MD-WV M...</td>\n",
       "      <td>20001</td>\n",
       "      <td>38.910</td>\n",
       "      <td>-77.020</td>\n",
       "    </tr>\n",
       "    <tr>\n",
       "      <th>1</th>\n",
       "      <td>Oakland-Hayward-Berkeley, CA Metropolitan Divi...</td>\n",
       "      <td>94501</td>\n",
       "      <td>37.770</td>\n",
       "      <td>-122.280</td>\n",
       "    </tr>\n",
       "    <tr>\n",
       "      <th>2</th>\n",
       "      <td>Los Angeles-Long Beach-Glendale, CA Metropolit...</td>\n",
       "      <td>90001</td>\n",
       "      <td>33.970</td>\n",
       "      <td>-118.250</td>\n",
       "    </tr>\n",
       "    <tr>\n",
       "      <th>3</th>\n",
       "      <td>Newark, NJ-PA Metropolitan Division</td>\n",
       "      <td>7102</td>\n",
       "      <td>40.740</td>\n",
       "      <td>-74.170</td>\n",
       "    </tr>\n",
       "    <tr>\n",
       "      <th>4</th>\n",
       "      <td>Seattle-Bellevue-Everett, WA Metropolitan Divi...</td>\n",
       "      <td>98101</td>\n",
       "      <td>47.610</td>\n",
       "      <td>-122.330</td>\n",
       "    </tr>\n",
       "    <tr>\n",
       "      <th>5</th>\n",
       "      <td>Boston-Cambridge-Newton, MA NECTA Division</td>\n",
       "      <td>2108</td>\n",
       "      <td>42.358</td>\n",
       "      <td>-71.064</td>\n",
       "    </tr>\n",
       "    <tr>\n",
       "      <th>6</th>\n",
       "      <td>San Francisco-Redwood City-South San Francisco...</td>\n",
       "      <td>94102</td>\n",
       "      <td>37.780</td>\n",
       "      <td>-122.420</td>\n",
       "    </tr>\n",
       "    <tr>\n",
       "      <th>7</th>\n",
       "      <td>New York-Jersey City-White Plains, NY-NJ Metro...</td>\n",
       "      <td>10001</td>\n",
       "      <td>40.750</td>\n",
       "      <td>-73.990</td>\n",
       "    </tr>\n",
       "    <tr>\n",
       "      <th>8</th>\n",
       "      <td>Framingham, MA NECTA Division</td>\n",
       "      <td>1701</td>\n",
       "      <td>42.320</td>\n",
       "      <td>-71.430</td>\n",
       "    </tr>\n",
       "    <tr>\n",
       "      <th>9</th>\n",
       "      <td>Silver Spring-Frederick-Rockville, MD Metropol...</td>\n",
       "      <td>20901</td>\n",
       "      <td>39.020</td>\n",
       "      <td>-77.010</td>\n",
       "    </tr>\n",
       "    <tr>\n",
       "      <th>10</th>\n",
       "      <td>Lowell-Billerica-Chelmsford, MA-NH NECTA Division</td>\n",
       "      <td>1850</td>\n",
       "      <td>42.660</td>\n",
       "      <td>-71.300</td>\n",
       "    </tr>\n",
       "    <tr>\n",
       "      <th>11</th>\n",
       "      <td>Dallas-Plano-Irving, TX Metropolitan Division</td>\n",
       "      <td>75001</td>\n",
       "      <td>32.960</td>\n",
       "      <td>-96.840</td>\n",
       "    </tr>\n",
       "    <tr>\n",
       "      <th>12</th>\n",
       "      <td>Anaheim-Santa Ana-Irvine, CA Metropolitan Divi...</td>\n",
       "      <td>92801</td>\n",
       "      <td>33.850</td>\n",
       "      <td>-117.960</td>\n",
       "    </tr>\n",
       "    <tr>\n",
       "      <th>13</th>\n",
       "      <td>Montgomery County-Bucks County-Chester County,...</td>\n",
       "      <td>19406</td>\n",
       "      <td>40.090</td>\n",
       "      <td>-75.390</td>\n",
       "    </tr>\n",
       "    <tr>\n",
       "      <th>14</th>\n",
       "      <td>San Rafael, CA Metropolitan Division</td>\n",
       "      <td>94901</td>\n",
       "      <td>37.970</td>\n",
       "      <td>-122.500</td>\n",
       "    </tr>\n",
       "    <tr>\n",
       "      <th>15</th>\n",
       "      <td>Nassau County-Suffolk County, NY Metropolitan ...</td>\n",
       "      <td>11101</td>\n",
       "      <td>40.740</td>\n",
       "      <td>-73.940</td>\n",
       "    </tr>\n",
       "    <tr>\n",
       "      <th>16</th>\n",
       "      <td>Wilmington, DE-MD-NJ Metropolitan Division</td>\n",
       "      <td>19801</td>\n",
       "      <td>39.730</td>\n",
       "      <td>-75.550</td>\n",
       "    </tr>\n",
       "    <tr>\n",
       "      <th>17</th>\n",
       "      <td>Taunton-Middleborough-Norton, MA NECTA Division</td>\n",
       "      <td>2718</td>\n",
       "      <td>41.870</td>\n",
       "      <td>-71.020</td>\n",
       "    </tr>\n",
       "    <tr>\n",
       "      <th>18</th>\n",
       "      <td>Philadelphia, PA Metropolitan Division</td>\n",
       "      <td>19106</td>\n",
       "      <td>39.950</td>\n",
       "      <td>-75.150</td>\n",
       "    </tr>\n",
       "    <tr>\n",
       "      <th>19</th>\n",
       "      <td>Nashua, NH-MA NECTA Division</td>\n",
       "      <td>3060</td>\n",
       "      <td>42.730</td>\n",
       "      <td>-71.460</td>\n",
       "    </tr>\n",
       "    <tr>\n",
       "      <th>20</th>\n",
       "      <td>Lake County-Kenosha County, IL-WI Metropolitan...</td>\n",
       "      <td>53140</td>\n",
       "      <td>42.620</td>\n",
       "      <td>-87.830</td>\n",
       "    </tr>\n",
       "    <tr>\n",
       "      <th>21</th>\n",
       "      <td>Fort Worth-Arlington, TX Metropolitan Division</td>\n",
       "      <td>76006</td>\n",
       "      <td>32.780</td>\n",
       "      <td>-97.100</td>\n",
       "    </tr>\n",
       "    <tr>\n",
       "      <th>22</th>\n",
       "      <td>Chicago-Naperville-Arlington Heights, IL Metro...</td>\n",
       "      <td>60007</td>\n",
       "      <td>42.010</td>\n",
       "      <td>-87.990</td>\n",
       "    </tr>\n",
       "    <tr>\n",
       "      <th>23</th>\n",
       "      <td>Elgin, IL Metropolitan Division</td>\n",
       "      <td>60120</td>\n",
       "      <td>42.020</td>\n",
       "      <td>-88.250</td>\n",
       "    </tr>\n",
       "    <tr>\n",
       "      <th>24</th>\n",
       "      <td>Southwest Montana nonmetropolitan area</td>\n",
       "      <td>59701</td>\n",
       "      <td>46.100</td>\n",
       "      <td>-112.400</td>\n",
       "    </tr>\n",
       "    <tr>\n",
       "      <th>25</th>\n",
       "      <td>North Texas Region of Texas nonmetropolitan area</td>\n",
       "      <td>79101</td>\n",
       "      <td>35.200</td>\n",
       "      <td>-101.840</td>\n",
       "    </tr>\n",
       "    <tr>\n",
       "      <th>26</th>\n",
       "      <td>Lawrence-Methuen Town-Salem, MA-NH NECTA Division</td>\n",
       "      <td>1840</td>\n",
       "      <td>42.710</td>\n",
       "      <td>-71.160</td>\n",
       "    </tr>\n",
       "    <tr>\n",
       "      <th>27</th>\n",
       "      <td>Peabody-Salem-Beverly, MA NECTA Division</td>\n",
       "      <td>1960</td>\n",
       "      <td>42.530</td>\n",
       "      <td>-70.970</td>\n",
       "    </tr>\n",
       "    <tr>\n",
       "      <th>28</th>\n",
       "      <td>Brockton-Bridgewater-Easton, MA NECTA Division</td>\n",
       "      <td>2324</td>\n",
       "      <td>41.970</td>\n",
       "      <td>-70.980</td>\n",
       "    </tr>\n",
       "    <tr>\n",
       "      <th>29</th>\n",
       "      <td>Fort Lauderdale-Pompano Beach-Deerfield Beach,...</td>\n",
       "      <td>33301</td>\n",
       "      <td>26.120</td>\n",
       "      <td>-80.130</td>\n",
       "    </tr>\n",
       "    <tr>\n",
       "      <th>30</th>\n",
       "      <td>Northern Mountains Region of California nonmet...</td>\n",
       "      <td>96001</td>\n",
       "      <td>40.600</td>\n",
       "      <td>-122.500</td>\n",
       "    </tr>\n",
       "    <tr>\n",
       "      <th>31</th>\n",
       "      <td>East Kentucky nonmetropolitan area</td>\n",
       "      <td>41339</td>\n",
       "      <td>37.500</td>\n",
       "      <td>-83.300</td>\n",
       "    </tr>\n",
       "    <tr>\n",
       "      <th>32</th>\n",
       "      <td>Central Nebraska nonmetropolitan area</td>\n",
       "      <td>68822</td>\n",
       "      <td>41.500</td>\n",
       "      <td>-99.500</td>\n",
       "    </tr>\n",
       "    <tr>\n",
       "      <th>33</th>\n",
       "      <td>Northeast Florida nonmetropolitan area</td>\n",
       "      <td>32034</td>\n",
       "      <td>30.600</td>\n",
       "      <td>-81.500</td>\n",
       "    </tr>\n",
       "    <tr>\n",
       "      <th>34</th>\n",
       "      <td>Western Pennsylvania nonmetropolitan area</td>\n",
       "      <td>15106</td>\n",
       "      <td>40.410</td>\n",
       "      <td>-80.110</td>\n",
       "    </tr>\n",
       "    <tr>\n",
       "      <th>35</th>\n",
       "      <td>Low Country South Carolina nonmetropolitan area</td>\n",
       "      <td>29401</td>\n",
       "      <td>32.780</td>\n",
       "      <td>-79.930</td>\n",
       "    </tr>\n",
       "    <tr>\n",
       "      <th>36</th>\n",
       "      <td>Northern Vermont nonmetropolitan area</td>\n",
       "      <td>5602</td>\n",
       "      <td>44.300</td>\n",
       "      <td>-72.600</td>\n",
       "    </tr>\n",
       "    <tr>\n",
       "      <th>37</th>\n",
       "      <td>Haverhill-Newburyport-Amesbury Town, MA-NH NEC...</td>\n",
       "      <td>1830</td>\n",
       "      <td>42.800</td>\n",
       "      <td>-71.060</td>\n",
       "    </tr>\n",
       "    <tr>\n",
       "      <th>38</th>\n",
       "      <td>Balance of Alaska nonmetropolitan area</td>\n",
       "      <td>99703</td>\n",
       "      <td>64.600</td>\n",
       "      <td>-147.200</td>\n",
       "    </tr>\n",
       "    <tr>\n",
       "      <th>39</th>\n",
       "      <td>Los Alamos County, New Mexico nonmetropolitan ...</td>\n",
       "      <td>87544</td>\n",
       "      <td>35.900</td>\n",
       "      <td>-106.300</td>\n",
       "    </tr>\n",
       "    <tr>\n",
       "      <th>40</th>\n",
       "      <td>Camden, NJ Metropolitan Division</td>\n",
       "      <td>8030</td>\n",
       "      <td>39.890</td>\n",
       "      <td>-75.120</td>\n",
       "    </tr>\n",
       "    <tr>\n",
       "      <th>41</th>\n",
       "      <td>Warren-Troy-Farmington Hills, MI Metropolitan ...</td>\n",
       "      <td>48085</td>\n",
       "      <td>42.600</td>\n",
       "      <td>-83.120</td>\n",
       "    </tr>\n",
       "    <tr>\n",
       "      <th>42</th>\n",
       "      <td>Northwest Washington nonmetropolitan area</td>\n",
       "      <td>98225</td>\n",
       "      <td>48.740</td>\n",
       "      <td>-122.530</td>\n",
       "    </tr>\n",
       "    <tr>\n",
       "      <th>43</th>\n",
       "      <td>Southwest Missouri nonmetropolitan area</td>\n",
       "      <td>65619</td>\n",
       "      <td>37.120</td>\n",
       "      <td>-93.400</td>\n",
       "    </tr>\n",
       "    <tr>\n",
       "      <th>44</th>\n",
       "      <td>Mother Lode Region of California nonmetropolit...</td>\n",
       "      <td>96107</td>\n",
       "      <td>38.200</td>\n",
       "      <td>-119.200</td>\n",
       "    </tr>\n",
       "    <tr>\n",
       "      <th>45</th>\n",
       "      <td>West Palm Beach-Boca Raton-Delray Beach, FL Me...</td>\n",
       "      <td>33401</td>\n",
       "      <td>26.720</td>\n",
       "      <td>-80.070</td>\n",
       "    </tr>\n",
       "    <tr>\n",
       "      <th>46</th>\n",
       "      <td>Northern Pennsylvania nonmetropolitan area</td>\n",
       "      <td>17745</td>\n",
       "      <td>41.300</td>\n",
       "      <td>-77.400</td>\n",
       "    </tr>\n",
       "    <tr>\n",
       "      <th>47</th>\n",
       "      <td>Gary, IN Metropolitan Division</td>\n",
       "      <td>46402</td>\n",
       "      <td>41.590</td>\n",
       "      <td>-87.320</td>\n",
       "    </tr>\n",
       "    <tr>\n",
       "      <th>48</th>\n",
       "      <td>Detroit-Dearborn-Livonia, MI Metropolitan Divi...</td>\n",
       "      <td>48127</td>\n",
       "      <td>42.330</td>\n",
       "      <td>-83.270</td>\n",
       "    </tr>\n",
       "    <tr>\n",
       "      <th>49</th>\n",
       "      <td>North Valley Region of California nonmetropoli...</td>\n",
       "      <td>95926</td>\n",
       "      <td>39.740</td>\n",
       "      <td>-121.840</td>\n",
       "    </tr>\n",
       "    <tr>\n",
       "      <th>50</th>\n",
       "      <td>Central Oregon nonmetropolitan area</td>\n",
       "      <td>97701</td>\n",
       "      <td>44.000</td>\n",
       "      <td>-121.300</td>\n",
       "    </tr>\n",
       "    <tr>\n",
       "      <th>51</th>\n",
       "      <td>Southwest Washington nonmetropolitan area</td>\n",
       "      <td>98837</td>\n",
       "      <td>47.200</td>\n",
       "      <td>-119.300</td>\n",
       "    </tr>\n",
       "    <tr>\n",
       "      <th>52</th>\n",
       "      <td>Southeast Alaska nonmetropolitan area</td>\n",
       "      <td>99801</td>\n",
       "      <td>58.000</td>\n",
       "      <td>-134.000</td>\n",
       "    </tr>\n",
       "    <tr>\n",
       "      <th>53</th>\n",
       "      <td>West Central New Hampshire nonmetropolitan area</td>\n",
       "      <td>3222</td>\n",
       "      <td>43.600</td>\n",
       "      <td>-71.800</td>\n",
       "    </tr>\n",
       "    <tr>\n",
       "      <th>54</th>\n",
       "      <td>Far West North Dakota nonmetropolitan area</td>\n",
       "      <td>58601</td>\n",
       "      <td>46.900</td>\n",
       "      <td>-102.800</td>\n",
       "    </tr>\n",
       "    <tr>\n",
       "      <th>55</th>\n",
       "      <td>Southwest New Hampshire nonmetropolitan area</td>\n",
       "      <td>3431</td>\n",
       "      <td>43.000</td>\n",
       "      <td>-72.300</td>\n",
       "    </tr>\n",
       "    <tr>\n",
       "      <th>56</th>\n",
       "      <td>Lynn-Saugus-Marblehead, MA NECTA Division</td>\n",
       "      <td>1901</td>\n",
       "      <td>42.462</td>\n",
       "      <td>-70.946</td>\n",
       "    </tr>\n",
       "    <tr>\n",
       "      <th>57</th>\n",
       "      <td>Tacoma-Lakewood, WA Metropolitan Division</td>\n",
       "      <td>98402</td>\n",
       "      <td>47.270</td>\n",
       "      <td>-122.470</td>\n",
       "    </tr>\n",
       "    <tr>\n",
       "      <th>58</th>\n",
       "      <td>West Texas Region of Texas nonmetropolitan area</td>\n",
       "      <td>79701</td>\n",
       "      <td>31.990</td>\n",
       "      <td>-102.080</td>\n",
       "    </tr>\n",
       "    <tr>\n",
       "      <th>59</th>\n",
       "      <td>Dutchess County-Putnam County, NY Metropolitan...</td>\n",
       "      <td>12601</td>\n",
       "      <td>41.700</td>\n",
       "      <td>-73.900</td>\n",
       "    </tr>\n",
       "  </tbody>\n",
       "</table>\n",
       "</div>"
      ],
      "text/plain": [
       "                                               region  zipcode  latitude  \\\n",
       "0   Washington-Arlington-Alexandria, DC-VA-MD-WV M...    20001    38.910   \n",
       "1   Oakland-Hayward-Berkeley, CA Metropolitan Divi...    94501    37.770   \n",
       "2   Los Angeles-Long Beach-Glendale, CA Metropolit...    90001    33.970   \n",
       "3                 Newark, NJ-PA Metropolitan Division     7102    40.740   \n",
       "4   Seattle-Bellevue-Everett, WA Metropolitan Divi...    98101    47.610   \n",
       "5          Boston-Cambridge-Newton, MA NECTA Division     2108    42.358   \n",
       "6   San Francisco-Redwood City-South San Francisco...    94102    37.780   \n",
       "7   New York-Jersey City-White Plains, NY-NJ Metro...    10001    40.750   \n",
       "8                       Framingham, MA NECTA Division     1701    42.320   \n",
       "9   Silver Spring-Frederick-Rockville, MD Metropol...    20901    39.020   \n",
       "10  Lowell-Billerica-Chelmsford, MA-NH NECTA Division     1850    42.660   \n",
       "11      Dallas-Plano-Irving, TX Metropolitan Division    75001    32.960   \n",
       "12  Anaheim-Santa Ana-Irvine, CA Metropolitan Divi...    92801    33.850   \n",
       "13  Montgomery County-Bucks County-Chester County,...    19406    40.090   \n",
       "14               San Rafael, CA Metropolitan Division    94901    37.970   \n",
       "15  Nassau County-Suffolk County, NY Metropolitan ...    11101    40.740   \n",
       "16         Wilmington, DE-MD-NJ Metropolitan Division    19801    39.730   \n",
       "17    Taunton-Middleborough-Norton, MA NECTA Division     2718    41.870   \n",
       "18             Philadelphia, PA Metropolitan Division    19106    39.950   \n",
       "19                       Nashua, NH-MA NECTA Division     3060    42.730   \n",
       "20  Lake County-Kenosha County, IL-WI Metropolitan...    53140    42.620   \n",
       "21     Fort Worth-Arlington, TX Metropolitan Division    76006    32.780   \n",
       "22  Chicago-Naperville-Arlington Heights, IL Metro...    60007    42.010   \n",
       "23                    Elgin, IL Metropolitan Division    60120    42.020   \n",
       "24             Southwest Montana nonmetropolitan area    59701    46.100   \n",
       "25   North Texas Region of Texas nonmetropolitan area    79101    35.200   \n",
       "26  Lawrence-Methuen Town-Salem, MA-NH NECTA Division     1840    42.710   \n",
       "27           Peabody-Salem-Beverly, MA NECTA Division     1960    42.530   \n",
       "28     Brockton-Bridgewater-Easton, MA NECTA Division     2324    41.970   \n",
       "29  Fort Lauderdale-Pompano Beach-Deerfield Beach,...    33301    26.120   \n",
       "30  Northern Mountains Region of California nonmet...    96001    40.600   \n",
       "31                 East Kentucky nonmetropolitan area    41339    37.500   \n",
       "32              Central Nebraska nonmetropolitan area    68822    41.500   \n",
       "33             Northeast Florida nonmetropolitan area    32034    30.600   \n",
       "34          Western Pennsylvania nonmetropolitan area    15106    40.410   \n",
       "35    Low Country South Carolina nonmetropolitan area    29401    32.780   \n",
       "36              Northern Vermont nonmetropolitan area     5602    44.300   \n",
       "37  Haverhill-Newburyport-Amesbury Town, MA-NH NEC...     1830    42.800   \n",
       "38             Balance of Alaska nonmetropolitan area    99703    64.600   \n",
       "39  Los Alamos County, New Mexico nonmetropolitan ...    87544    35.900   \n",
       "40                   Camden, NJ Metropolitan Division     8030    39.890   \n",
       "41  Warren-Troy-Farmington Hills, MI Metropolitan ...    48085    42.600   \n",
       "42          Northwest Washington nonmetropolitan area    98225    48.740   \n",
       "43            Southwest Missouri nonmetropolitan area    65619    37.120   \n",
       "44  Mother Lode Region of California nonmetropolit...    96107    38.200   \n",
       "45  West Palm Beach-Boca Raton-Delray Beach, FL Me...    33401    26.720   \n",
       "46         Northern Pennsylvania nonmetropolitan area    17745    41.300   \n",
       "47                     Gary, IN Metropolitan Division    46402    41.590   \n",
       "48  Detroit-Dearborn-Livonia, MI Metropolitan Divi...    48127    42.330   \n",
       "49  North Valley Region of California nonmetropoli...    95926    39.740   \n",
       "50                Central Oregon nonmetropolitan area    97701    44.000   \n",
       "51          Southwest Washington nonmetropolitan area    98837    47.200   \n",
       "52              Southeast Alaska nonmetropolitan area    99801    58.000   \n",
       "53    West Central New Hampshire nonmetropolitan area     3222    43.600   \n",
       "54         Far West North Dakota nonmetropolitan area    58601    46.900   \n",
       "55       Southwest New Hampshire nonmetropolitan area     3431    43.000   \n",
       "56          Lynn-Saugus-Marblehead, MA NECTA Division     1901    42.462   \n",
       "57          Tacoma-Lakewood, WA Metropolitan Division    98402    47.270   \n",
       "58    West Texas Region of Texas nonmetropolitan area    79701    31.990   \n",
       "59  Dutchess County-Putnam County, NY Metropolitan...    12601    41.700   \n",
       "\n",
       "    longitude  \n",
       "0     -77.020  \n",
       "1    -122.280  \n",
       "2    -118.250  \n",
       "3     -74.170  \n",
       "4    -122.330  \n",
       "5     -71.064  \n",
       "6    -122.420  \n",
       "7     -73.990  \n",
       "8     -71.430  \n",
       "9     -77.010  \n",
       "10    -71.300  \n",
       "11    -96.840  \n",
       "12   -117.960  \n",
       "13    -75.390  \n",
       "14   -122.500  \n",
       "15    -73.940  \n",
       "16    -75.550  \n",
       "17    -71.020  \n",
       "18    -75.150  \n",
       "19    -71.460  \n",
       "20    -87.830  \n",
       "21    -97.100  \n",
       "22    -87.990  \n",
       "23    -88.250  \n",
       "24   -112.400  \n",
       "25   -101.840  \n",
       "26    -71.160  \n",
       "27    -70.970  \n",
       "28    -70.980  \n",
       "29    -80.130  \n",
       "30   -122.500  \n",
       "31    -83.300  \n",
       "32    -99.500  \n",
       "33    -81.500  \n",
       "34    -80.110  \n",
       "35    -79.930  \n",
       "36    -72.600  \n",
       "37    -71.060  \n",
       "38   -147.200  \n",
       "39   -106.300  \n",
       "40    -75.120  \n",
       "41    -83.120  \n",
       "42   -122.530  \n",
       "43    -93.400  \n",
       "44   -119.200  \n",
       "45    -80.070  \n",
       "46    -77.400  \n",
       "47    -87.320  \n",
       "48    -83.270  \n",
       "49   -121.840  \n",
       "50   -121.300  \n",
       "51   -119.300  \n",
       "52   -134.000  \n",
       "53    -71.800  \n",
       "54   -102.800  \n",
       "55    -72.300  \n",
       "56    -70.946  \n",
       "57   -122.470  \n",
       "58   -102.080  \n",
       "59    -73.900  "
      ]
     },
     "execution_count": 10,
     "metadata": {},
     "output_type": "execute_result"
    }
   ],
   "source": [
    "bls_areas"
   ]
  },
  {
   "cell_type": "code",
   "execution_count": 11,
   "id": "b00ccc9a",
   "metadata": {},
   "outputs": [],
   "source": [
    "# calculate the distance between two locations\n",
    "from math import radians, cos, sin, asin, sqrt\n",
    "def dist(lat1, long1, lat2, long2):\n",
    "    # convert decimal degrees to radians \n",
    "    lat1, long1, lat2, long2 = map(radians, [lat1, long1, lat2, long2])\n",
    "    # haversine formula \n",
    "    dlon = long2 - long1 \n",
    "    dlat = lat2 - lat1 \n",
    "    a = sin(dlat/2)**2 + cos(lat1) * cos(lat2) * sin(dlon/2)**2\n",
    "    c = 2 * asin(sqrt(a)) \n",
    "    # Radius of earth in kilometers is 6371\n",
    "    km = 6371* c\n",
    "    return km"
   ]
  },
  {
   "cell_type": "code",
   "execution_count": 12,
   "id": "6bcc82c7",
   "metadata": {},
   "outputs": [],
   "source": [
    "# determine shortest distance\n",
    "def find_nearest(lat, long):\n",
    "    distances = bls_areas.apply(\n",
    "        lambda row: dist(lat, long, row['latitude'], row['longitude']), \n",
    "        axis=1)\n",
    "    return bls_areas.loc[distances.idxmin(), 'region']"
   ]
  },
  {
   "cell_type": "code",
   "execution_count": 13,
   "id": "988aa0b4",
   "metadata": {},
   "outputs": [],
   "source": [
    "# add nearest BLS location to each CALC row\n",
    "calc['nearest_loc'] = calc.apply(\n",
    "    lambda row: find_nearest(row['latitude'], row['longitude']), \n",
    "    axis=1)"
   ]
  },
  {
   "cell_type": "code",
   "execution_count": 121,
   "id": "b9519cb0",
   "metadata": {},
   "outputs": [],
   "source": [
    "# export CALC location date\n",
    "calc.to_csv(\"/Users/Jeanine/Documents/DAEN690/calc_scrape_w_locbins.csv\", sep = \"|\")"
   ]
  },
  {
   "cell_type": "code",
   "execution_count": 14,
   "id": "f82b630e",
   "metadata": {},
   "outputs": [],
   "source": [
    "# create df with the occurrences of each state in CALC dataset\n",
    "from collections import Counter\n",
    "state_ct = Counter(calc['state'])\n",
    "dfstate = pd.DataFrame.from_dict(state_ct, orient='index').reset_index()"
   ]
  },
  {
   "cell_type": "code",
   "execution_count": 15,
   "id": "d5b8ca3b",
   "metadata": {},
   "outputs": [],
   "source": [
    "# rename the columns\n",
    "dfstate = dfstate.rename(columns={\"index\": \"state\", 0: \"count\"})"
   ]
  },
  {
   "cell_type": "code",
   "execution_count": 16,
   "id": "e838e138",
   "metadata": {},
   "outputs": [],
   "source": [
    "# get the FIPS value for each state\n",
    "df_sample = pd.read_csv('https://raw.githubusercontent.com/plotly/datasets/master/laucnty16.csv')"
   ]
  },
  {
   "cell_type": "code",
   "execution_count": 18,
   "id": "8f24b640",
   "metadata": {},
   "outputs": [],
   "source": [
    "# get only the state code from FIPS dataset\n",
    "dfsampsplit = []\n",
    "s = 0\n",
    "while s < len(df_sample):\n",
    "    dfsampsplit.append(df_sample['County Name/State Abbreviation'][s].split(\", \")[-1])\n",
    "    s+=1\n",
    "df_sample['state'] = dfsampsplit\n",
    "dic = {'District of Columbia': 'DC'}\n",
    "df_sample = df_sample.replace(dic)"
   ]
  },
  {
   "cell_type": "code",
   "execution_count": 19,
   "id": "4a04a835",
   "metadata": {},
   "outputs": [],
   "source": [
    "# create a df of just the state codes and FIPS based on above result\n",
    "(df_sample['state'].append(df_sample['State FIPS Code'])).unique()\n",
    "data = {'state':['AL', 'AK', 'AZ', 'AR', 'CA', 'CO', 'CT', 'DE', 'DC', 'FL', 'GA',\n",
    "       'HI', 'ID', 'IL', 'IN', 'IA', 'KS', 'KY', 'LA', 'ME', 'MD', 'MA',\n",
    "       'MI', 'MN', 'MS', 'MO', 'MT', 'NE', 'NV', 'NH', 'NJ', 'NM', 'NY',\n",
    "       'NC', 'ND', 'OH', 'OK', 'OR', 'PA', 'RI', 'SC', 'SD', 'TN', 'TX',\n",
    "       'UT', 'VT', 'VA', 'WA', 'WV', 'WI', 'WY', 'PR'],\n",
    "        'fips':[1, 2, 4, 5, 6, 8,\n",
    "       9, 10, 11, 12, 13, 15, 16, 17, 18, 19, 20, 21, 22, 23, 24, 25, 26,\n",
    "       27, 28, 29, 30, 31, 32, 33, 34, 35, 36, 37, 38, 39, 40, 41, 42, 44,\n",
    "       45, 46, 47, 48, 49, 50, 51, 53, 54, 55, 56, 72]}\n",
    "statefips = pd.DataFrame(data)"
   ]
  },
  {
   "cell_type": "code",
   "execution_count": 20,
   "id": "6866f2f2",
   "metadata": {},
   "outputs": [],
   "source": [
    "# merge with the CALC counts\n",
    "dfstate = dfstate.merge(statefips, how='left', on='state')"
   ]
  },
  {
   "cell_type": "code",
   "execution_count": 64,
   "id": "97275614",
   "metadata": {},
   "outputs": [],
   "source": [
    "# remove blanks and NA counts\n",
    "dfstate = dfstate.drop(dfstate.index[[4, 18]])"
   ]
  },
  {
   "cell_type": "code",
   "execution_count": 65,
   "id": "367b361f",
   "metadata": {},
   "outputs": [],
   "source": [
    "dfstate['count'] = pd.to_numeric(dfstate['count'])"
   ]
  },
  {
   "cell_type": "code",
   "execution_count": 63,
   "id": "927f8c8a",
   "metadata": {},
   "outputs": [
    {
     "data": {
      "application/vnd.plotly.v1+json": {
       "config": {
        "plotlyServerURL": "https://plot.ly"
       },
       "data": [
        {
         "coloraxis": "coloraxis",
         "geo": "geo",
         "hovertemplate": "state=%{location}<br>count=%{z}<extra></extra>",
         "locationmode": "USA-states",
         "locations": [
          "CO",
          "GA",
          "NJ",
          "NY",
          "OH",
          "VA",
          "MD",
          "IL",
          "MO",
          "TX",
          "AL",
          "OK",
          "DC",
          "FL",
          "AK",
          "WA",
          "WI",
          "MI",
          "AZ",
          "UT",
          "CA",
          "IN",
          "NC",
          "TN",
          "PA",
          "KY",
          "SC",
          "ID",
          "OR",
          "MA",
          "SD",
          "NH",
          "HI",
          "CT",
          "MT",
          "NV",
          "WV",
          "NM",
          "KS",
          "MN",
          "LA",
          "ME",
          "IA",
          "PR",
          "NE",
          "MS",
          "DE"
         ],
         "name": "",
         "type": "choropleth",
         "z": [
          151,
          204,
          98,
          472,
          139,
          1739,
          949,
          30,
          86,
          191,
          685,
          76,
          447,
          285,
          125,
          27,
          308,
          64,
          69,
          30,
          299,
          54,
          94,
          150,
          161,
          18,
          22,
          2,
          101,
          107,
          39,
          28,
          16,
          15,
          42,
          30,
          26,
          47,
          10,
          18,
          5,
          7,
          8,
          2,
          9,
          1,
          1
         ]
        }
       ],
       "layout": {
        "coloraxis": {
         "cmax": 1739,
         "cmin": 0,
         "colorbar": {
          "len": 350,
          "lenmode": "pixels",
          "thickness": 50,
          "thicknessmode": "pixels",
          "ticks": "outside",
          "title": {
           "text": "Total Number of Contracts"
          },
          "y": 1,
          "yanchor": "top"
         },
         "colorscale": [
          [
           0,
           "rgb(243, 224, 247)"
          ],
          [
           0.16666666666666666,
           "rgb(228, 199, 241)"
          ],
          [
           0.3333333333333333,
           "rgb(209, 175, 232)"
          ],
          [
           0.5,
           "rgb(185, 152, 221)"
          ],
          [
           0.6666666666666666,
           "rgb(159, 130, 206)"
          ],
          [
           0.8333333333333334,
           "rgb(130, 109, 186)"
          ],
          [
           1,
           "rgb(99, 88, 159)"
          ]
         ]
        },
        "geo": {
         "center": {},
         "domain": {
          "x": [
           0,
           1
          ],
          "y": [
           0,
           1
          ]
         },
         "scope": "usa"
        },
        "legend": {
         "tracegroupgap": 0
        },
        "template": {
         "data": {
          "bar": [
           {
            "error_x": {
             "color": "#2a3f5f"
            },
            "error_y": {
             "color": "#2a3f5f"
            },
            "marker": {
             "line": {
              "color": "#E5ECF6",
              "width": 0.5
             },
             "pattern": {
              "fillmode": "overlay",
              "size": 10,
              "solidity": 0.2
             }
            },
            "type": "bar"
           }
          ],
          "barpolar": [
           {
            "marker": {
             "line": {
              "color": "#E5ECF6",
              "width": 0.5
             },
             "pattern": {
              "fillmode": "overlay",
              "size": 10,
              "solidity": 0.2
             }
            },
            "type": "barpolar"
           }
          ],
          "carpet": [
           {
            "aaxis": {
             "endlinecolor": "#2a3f5f",
             "gridcolor": "white",
             "linecolor": "white",
             "minorgridcolor": "white",
             "startlinecolor": "#2a3f5f"
            },
            "baxis": {
             "endlinecolor": "#2a3f5f",
             "gridcolor": "white",
             "linecolor": "white",
             "minorgridcolor": "white",
             "startlinecolor": "#2a3f5f"
            },
            "type": "carpet"
           }
          ],
          "choropleth": [
           {
            "colorbar": {
             "outlinewidth": 0,
             "ticks": ""
            },
            "type": "choropleth"
           }
          ],
          "contour": [
           {
            "colorbar": {
             "outlinewidth": 0,
             "ticks": ""
            },
            "colorscale": [
             [
              0,
              "#0d0887"
             ],
             [
              0.1111111111111111,
              "#46039f"
             ],
             [
              0.2222222222222222,
              "#7201a8"
             ],
             [
              0.3333333333333333,
              "#9c179e"
             ],
             [
              0.4444444444444444,
              "#bd3786"
             ],
             [
              0.5555555555555556,
              "#d8576b"
             ],
             [
              0.6666666666666666,
              "#ed7953"
             ],
             [
              0.7777777777777778,
              "#fb9f3a"
             ],
             [
              0.8888888888888888,
              "#fdca26"
             ],
             [
              1,
              "#f0f921"
             ]
            ],
            "type": "contour"
           }
          ],
          "contourcarpet": [
           {
            "colorbar": {
             "outlinewidth": 0,
             "ticks": ""
            },
            "type": "contourcarpet"
           }
          ],
          "heatmap": [
           {
            "colorbar": {
             "outlinewidth": 0,
             "ticks": ""
            },
            "colorscale": [
             [
              0,
              "#0d0887"
             ],
             [
              0.1111111111111111,
              "#46039f"
             ],
             [
              0.2222222222222222,
              "#7201a8"
             ],
             [
              0.3333333333333333,
              "#9c179e"
             ],
             [
              0.4444444444444444,
              "#bd3786"
             ],
             [
              0.5555555555555556,
              "#d8576b"
             ],
             [
              0.6666666666666666,
              "#ed7953"
             ],
             [
              0.7777777777777778,
              "#fb9f3a"
             ],
             [
              0.8888888888888888,
              "#fdca26"
             ],
             [
              1,
              "#f0f921"
             ]
            ],
            "type": "heatmap"
           }
          ],
          "heatmapgl": [
           {
            "colorbar": {
             "outlinewidth": 0,
             "ticks": ""
            },
            "colorscale": [
             [
              0,
              "#0d0887"
             ],
             [
              0.1111111111111111,
              "#46039f"
             ],
             [
              0.2222222222222222,
              "#7201a8"
             ],
             [
              0.3333333333333333,
              "#9c179e"
             ],
             [
              0.4444444444444444,
              "#bd3786"
             ],
             [
              0.5555555555555556,
              "#d8576b"
             ],
             [
              0.6666666666666666,
              "#ed7953"
             ],
             [
              0.7777777777777778,
              "#fb9f3a"
             ],
             [
              0.8888888888888888,
              "#fdca26"
             ],
             [
              1,
              "#f0f921"
             ]
            ],
            "type": "heatmapgl"
           }
          ],
          "histogram": [
           {
            "marker": {
             "pattern": {
              "fillmode": "overlay",
              "size": 10,
              "solidity": 0.2
             }
            },
            "type": "histogram"
           }
          ],
          "histogram2d": [
           {
            "colorbar": {
             "outlinewidth": 0,
             "ticks": ""
            },
            "colorscale": [
             [
              0,
              "#0d0887"
             ],
             [
              0.1111111111111111,
              "#46039f"
             ],
             [
              0.2222222222222222,
              "#7201a8"
             ],
             [
              0.3333333333333333,
              "#9c179e"
             ],
             [
              0.4444444444444444,
              "#bd3786"
             ],
             [
              0.5555555555555556,
              "#d8576b"
             ],
             [
              0.6666666666666666,
              "#ed7953"
             ],
             [
              0.7777777777777778,
              "#fb9f3a"
             ],
             [
              0.8888888888888888,
              "#fdca26"
             ],
             [
              1,
              "#f0f921"
             ]
            ],
            "type": "histogram2d"
           }
          ],
          "histogram2dcontour": [
           {
            "colorbar": {
             "outlinewidth": 0,
             "ticks": ""
            },
            "colorscale": [
             [
              0,
              "#0d0887"
             ],
             [
              0.1111111111111111,
              "#46039f"
             ],
             [
              0.2222222222222222,
              "#7201a8"
             ],
             [
              0.3333333333333333,
              "#9c179e"
             ],
             [
              0.4444444444444444,
              "#bd3786"
             ],
             [
              0.5555555555555556,
              "#d8576b"
             ],
             [
              0.6666666666666666,
              "#ed7953"
             ],
             [
              0.7777777777777778,
              "#fb9f3a"
             ],
             [
              0.8888888888888888,
              "#fdca26"
             ],
             [
              1,
              "#f0f921"
             ]
            ],
            "type": "histogram2dcontour"
           }
          ],
          "mesh3d": [
           {
            "colorbar": {
             "outlinewidth": 0,
             "ticks": ""
            },
            "type": "mesh3d"
           }
          ],
          "parcoords": [
           {
            "line": {
             "colorbar": {
              "outlinewidth": 0,
              "ticks": ""
             }
            },
            "type": "parcoords"
           }
          ],
          "pie": [
           {
            "automargin": true,
            "type": "pie"
           }
          ],
          "scatter": [
           {
            "marker": {
             "colorbar": {
              "outlinewidth": 0,
              "ticks": ""
             }
            },
            "type": "scatter"
           }
          ],
          "scatter3d": [
           {
            "line": {
             "colorbar": {
              "outlinewidth": 0,
              "ticks": ""
             }
            },
            "marker": {
             "colorbar": {
              "outlinewidth": 0,
              "ticks": ""
             }
            },
            "type": "scatter3d"
           }
          ],
          "scattercarpet": [
           {
            "marker": {
             "colorbar": {
              "outlinewidth": 0,
              "ticks": ""
             }
            },
            "type": "scattercarpet"
           }
          ],
          "scattergeo": [
           {
            "marker": {
             "colorbar": {
              "outlinewidth": 0,
              "ticks": ""
             }
            },
            "type": "scattergeo"
           }
          ],
          "scattergl": [
           {
            "marker": {
             "colorbar": {
              "outlinewidth": 0,
              "ticks": ""
             }
            },
            "type": "scattergl"
           }
          ],
          "scattermapbox": [
           {
            "marker": {
             "colorbar": {
              "outlinewidth": 0,
              "ticks": ""
             }
            },
            "type": "scattermapbox"
           }
          ],
          "scatterpolar": [
           {
            "marker": {
             "colorbar": {
              "outlinewidth": 0,
              "ticks": ""
             }
            },
            "type": "scatterpolar"
           }
          ],
          "scatterpolargl": [
           {
            "marker": {
             "colorbar": {
              "outlinewidth": 0,
              "ticks": ""
             }
            },
            "type": "scatterpolargl"
           }
          ],
          "scatterternary": [
           {
            "marker": {
             "colorbar": {
              "outlinewidth": 0,
              "ticks": ""
             }
            },
            "type": "scatterternary"
           }
          ],
          "surface": [
           {
            "colorbar": {
             "outlinewidth": 0,
             "ticks": ""
            },
            "colorscale": [
             [
              0,
              "#0d0887"
             ],
             [
              0.1111111111111111,
              "#46039f"
             ],
             [
              0.2222222222222222,
              "#7201a8"
             ],
             [
              0.3333333333333333,
              "#9c179e"
             ],
             [
              0.4444444444444444,
              "#bd3786"
             ],
             [
              0.5555555555555556,
              "#d8576b"
             ],
             [
              0.6666666666666666,
              "#ed7953"
             ],
             [
              0.7777777777777778,
              "#fb9f3a"
             ],
             [
              0.8888888888888888,
              "#fdca26"
             ],
             [
              1,
              "#f0f921"
             ]
            ],
            "type": "surface"
           }
          ],
          "table": [
           {
            "cells": {
             "fill": {
              "color": "#EBF0F8"
             },
             "line": {
              "color": "white"
             }
            },
            "header": {
             "fill": {
              "color": "#C8D4E3"
             },
             "line": {
              "color": "white"
             }
            },
            "type": "table"
           }
          ]
         },
         "layout": {
          "annotationdefaults": {
           "arrowcolor": "#2a3f5f",
           "arrowhead": 0,
           "arrowwidth": 1
          },
          "autotypenumbers": "strict",
          "coloraxis": {
           "colorbar": {
            "outlinewidth": 0,
            "ticks": ""
           }
          },
          "colorscale": {
           "diverging": [
            [
             0,
             "#8e0152"
            ],
            [
             0.1,
             "#c51b7d"
            ],
            [
             0.2,
             "#de77ae"
            ],
            [
             0.3,
             "#f1b6da"
            ],
            [
             0.4,
             "#fde0ef"
            ],
            [
             0.5,
             "#f7f7f7"
            ],
            [
             0.6,
             "#e6f5d0"
            ],
            [
             0.7,
             "#b8e186"
            ],
            [
             0.8,
             "#7fbc41"
            ],
            [
             0.9,
             "#4d9221"
            ],
            [
             1,
             "#276419"
            ]
           ],
           "sequential": [
            [
             0,
             "#0d0887"
            ],
            [
             0.1111111111111111,
             "#46039f"
            ],
            [
             0.2222222222222222,
             "#7201a8"
            ],
            [
             0.3333333333333333,
             "#9c179e"
            ],
            [
             0.4444444444444444,
             "#bd3786"
            ],
            [
             0.5555555555555556,
             "#d8576b"
            ],
            [
             0.6666666666666666,
             "#ed7953"
            ],
            [
             0.7777777777777778,
             "#fb9f3a"
            ],
            [
             0.8888888888888888,
             "#fdca26"
            ],
            [
             1,
             "#f0f921"
            ]
           ],
           "sequentialminus": [
            [
             0,
             "#0d0887"
            ],
            [
             0.1111111111111111,
             "#46039f"
            ],
            [
             0.2222222222222222,
             "#7201a8"
            ],
            [
             0.3333333333333333,
             "#9c179e"
            ],
            [
             0.4444444444444444,
             "#bd3786"
            ],
            [
             0.5555555555555556,
             "#d8576b"
            ],
            [
             0.6666666666666666,
             "#ed7953"
            ],
            [
             0.7777777777777778,
             "#fb9f3a"
            ],
            [
             0.8888888888888888,
             "#fdca26"
            ],
            [
             1,
             "#f0f921"
            ]
           ]
          },
          "colorway": [
           "#636efa",
           "#EF553B",
           "#00cc96",
           "#ab63fa",
           "#FFA15A",
           "#19d3f3",
           "#FF6692",
           "#B6E880",
           "#FF97FF",
           "#FECB52"
          ],
          "font": {
           "color": "#2a3f5f"
          },
          "geo": {
           "bgcolor": "white",
           "lakecolor": "white",
           "landcolor": "#E5ECF6",
           "showlakes": true,
           "showland": true,
           "subunitcolor": "white"
          },
          "hoverlabel": {
           "align": "left"
          },
          "hovermode": "closest",
          "mapbox": {
           "style": "light"
          },
          "paper_bgcolor": "white",
          "plot_bgcolor": "#E5ECF6",
          "polar": {
           "angularaxis": {
            "gridcolor": "white",
            "linecolor": "white",
            "ticks": ""
           },
           "bgcolor": "#E5ECF6",
           "radialaxis": {
            "gridcolor": "white",
            "linecolor": "white",
            "ticks": ""
           }
          },
          "scene": {
           "xaxis": {
            "backgroundcolor": "#E5ECF6",
            "gridcolor": "white",
            "gridwidth": 2,
            "linecolor": "white",
            "showbackground": true,
            "ticks": "",
            "zerolinecolor": "white"
           },
           "yaxis": {
            "backgroundcolor": "#E5ECF6",
            "gridcolor": "white",
            "gridwidth": 2,
            "linecolor": "white",
            "showbackground": true,
            "ticks": "",
            "zerolinecolor": "white"
           },
           "zaxis": {
            "backgroundcolor": "#E5ECF6",
            "gridcolor": "white",
            "gridwidth": 2,
            "linecolor": "white",
            "showbackground": true,
            "ticks": "",
            "zerolinecolor": "white"
           }
          },
          "shapedefaults": {
           "line": {
            "color": "#2a3f5f"
           }
          },
          "ternary": {
           "aaxis": {
            "gridcolor": "white",
            "linecolor": "white",
            "ticks": ""
           },
           "baxis": {
            "gridcolor": "white",
            "linecolor": "white",
            "ticks": ""
           },
           "bgcolor": "#E5ECF6",
           "caxis": {
            "gridcolor": "white",
            "linecolor": "white",
            "ticks": ""
           }
          },
          "title": {
           "x": 0.05
          },
          "xaxis": {
           "automargin": true,
           "gridcolor": "white",
           "linecolor": "white",
           "ticks": "",
           "title": {
            "standoff": 15
           },
           "zerolinecolor": "white",
           "zerolinewidth": 2
          },
          "yaxis": {
           "automargin": true,
           "gridcolor": "white",
           "linecolor": "white",
           "ticks": "",
           "title": {
            "standoff": 15
           },
           "zerolinecolor": "white",
           "zerolinewidth": 2
          }
         }
        },
        "title": {
         "text": "GSA CALC Contracts by State"
        }
       }
      },
      "text/html": [
       "<div>                            <div id=\"a090c3d9-efc0-4e2d-a73f-2a8a6503718e\" class=\"plotly-graph-div\" style=\"height:525px; width:100%;\"></div>            <script type=\"text/javascript\">                require([\"plotly\"], function(Plotly) {                    window.PLOTLYENV=window.PLOTLYENV || {};                                    if (document.getElementById(\"a090c3d9-efc0-4e2d-a73f-2a8a6503718e\")) {                    Plotly.newPlot(                        \"a090c3d9-efc0-4e2d-a73f-2a8a6503718e\",                        [{\"coloraxis\":\"coloraxis\",\"geo\":\"geo\",\"hovertemplate\":\"state=%{location}<br>count=%{z}<extra></extra>\",\"locationmode\":\"USA-states\",\"locations\":[\"CO\",\"GA\",\"NJ\",\"NY\",\"OH\",\"VA\",\"MD\",\"IL\",\"MO\",\"TX\",\"AL\",\"OK\",\"DC\",\"FL\",\"AK\",\"WA\",\"WI\",\"MI\",\"AZ\",\"UT\",\"CA\",\"IN\",\"NC\",\"TN\",\"PA\",\"KY\",\"SC\",\"ID\",\"OR\",\"MA\",\"SD\",\"NH\",\"HI\",\"CT\",\"MT\",\"NV\",\"WV\",\"NM\",\"KS\",\"MN\",\"LA\",\"ME\",\"IA\",\"PR\",\"NE\",\"MS\",\"DE\"],\"name\":\"\",\"type\":\"choropleth\",\"z\":[151,204,98,472,139,1739,949,30,86,191,685,76,447,285,125,27,308,64,69,30,299,54,94,150,161,18,22,2,101,107,39,28,16,15,42,30,26,47,10,18,5,7,8,2,9,1,1]}],                        {\"coloraxis\":{\"cmax\":1739,\"cmin\":0,\"colorbar\":{\"len\":350,\"lenmode\":\"pixels\",\"thickness\":50,\"thicknessmode\":\"pixels\",\"ticks\":\"outside\",\"title\":{\"text\":\"Total Number of Contracts\"},\"y\":1,\"yanchor\":\"top\"},\"colorscale\":[[0.0,\"rgb(243, 224, 247)\"],[0.16666666666666666,\"rgb(228, 199, 241)\"],[0.3333333333333333,\"rgb(209, 175, 232)\"],[0.5,\"rgb(185, 152, 221)\"],[0.6666666666666666,\"rgb(159, 130, 206)\"],[0.8333333333333334,\"rgb(130, 109, 186)\"],[1.0,\"rgb(99, 88, 159)\"]]},\"geo\":{\"center\":{},\"domain\":{\"x\":[0.0,1.0],\"y\":[0.0,1.0]},\"scope\":\"usa\"},\"legend\":{\"tracegroupgap\":0},\"template\":{\"data\":{\"bar\":[{\"error_x\":{\"color\":\"#2a3f5f\"},\"error_y\":{\"color\":\"#2a3f5f\"},\"marker\":{\"line\":{\"color\":\"#E5ECF6\",\"width\":0.5},\"pattern\":{\"fillmode\":\"overlay\",\"size\":10,\"solidity\":0.2}},\"type\":\"bar\"}],\"barpolar\":[{\"marker\":{\"line\":{\"color\":\"#E5ECF6\",\"width\":0.5},\"pattern\":{\"fillmode\":\"overlay\",\"size\":10,\"solidity\":0.2}},\"type\":\"barpolar\"}],\"carpet\":[{\"aaxis\":{\"endlinecolor\":\"#2a3f5f\",\"gridcolor\":\"white\",\"linecolor\":\"white\",\"minorgridcolor\":\"white\",\"startlinecolor\":\"#2a3f5f\"},\"baxis\":{\"endlinecolor\":\"#2a3f5f\",\"gridcolor\":\"white\",\"linecolor\":\"white\",\"minorgridcolor\":\"white\",\"startlinecolor\":\"#2a3f5f\"},\"type\":\"carpet\"}],\"choropleth\":[{\"colorbar\":{\"outlinewidth\":0,\"ticks\":\"\"},\"type\":\"choropleth\"}],\"contour\":[{\"colorbar\":{\"outlinewidth\":0,\"ticks\":\"\"},\"colorscale\":[[0.0,\"#0d0887\"],[0.1111111111111111,\"#46039f\"],[0.2222222222222222,\"#7201a8\"],[0.3333333333333333,\"#9c179e\"],[0.4444444444444444,\"#bd3786\"],[0.5555555555555556,\"#d8576b\"],[0.6666666666666666,\"#ed7953\"],[0.7777777777777778,\"#fb9f3a\"],[0.8888888888888888,\"#fdca26\"],[1.0,\"#f0f921\"]],\"type\":\"contour\"}],\"contourcarpet\":[{\"colorbar\":{\"outlinewidth\":0,\"ticks\":\"\"},\"type\":\"contourcarpet\"}],\"heatmap\":[{\"colorbar\":{\"outlinewidth\":0,\"ticks\":\"\"},\"colorscale\":[[0.0,\"#0d0887\"],[0.1111111111111111,\"#46039f\"],[0.2222222222222222,\"#7201a8\"],[0.3333333333333333,\"#9c179e\"],[0.4444444444444444,\"#bd3786\"],[0.5555555555555556,\"#d8576b\"],[0.6666666666666666,\"#ed7953\"],[0.7777777777777778,\"#fb9f3a\"],[0.8888888888888888,\"#fdca26\"],[1.0,\"#f0f921\"]],\"type\":\"heatmap\"}],\"heatmapgl\":[{\"colorbar\":{\"outlinewidth\":0,\"ticks\":\"\"},\"colorscale\":[[0.0,\"#0d0887\"],[0.1111111111111111,\"#46039f\"],[0.2222222222222222,\"#7201a8\"],[0.3333333333333333,\"#9c179e\"],[0.4444444444444444,\"#bd3786\"],[0.5555555555555556,\"#d8576b\"],[0.6666666666666666,\"#ed7953\"],[0.7777777777777778,\"#fb9f3a\"],[0.8888888888888888,\"#fdca26\"],[1.0,\"#f0f921\"]],\"type\":\"heatmapgl\"}],\"histogram\":[{\"marker\":{\"pattern\":{\"fillmode\":\"overlay\",\"size\":10,\"solidity\":0.2}},\"type\":\"histogram\"}],\"histogram2d\":[{\"colorbar\":{\"outlinewidth\":0,\"ticks\":\"\"},\"colorscale\":[[0.0,\"#0d0887\"],[0.1111111111111111,\"#46039f\"],[0.2222222222222222,\"#7201a8\"],[0.3333333333333333,\"#9c179e\"],[0.4444444444444444,\"#bd3786\"],[0.5555555555555556,\"#d8576b\"],[0.6666666666666666,\"#ed7953\"],[0.7777777777777778,\"#fb9f3a\"],[0.8888888888888888,\"#fdca26\"],[1.0,\"#f0f921\"]],\"type\":\"histogram2d\"}],\"histogram2dcontour\":[{\"colorbar\":{\"outlinewidth\":0,\"ticks\":\"\"},\"colorscale\":[[0.0,\"#0d0887\"],[0.1111111111111111,\"#46039f\"],[0.2222222222222222,\"#7201a8\"],[0.3333333333333333,\"#9c179e\"],[0.4444444444444444,\"#bd3786\"],[0.5555555555555556,\"#d8576b\"],[0.6666666666666666,\"#ed7953\"],[0.7777777777777778,\"#fb9f3a\"],[0.8888888888888888,\"#fdca26\"],[1.0,\"#f0f921\"]],\"type\":\"histogram2dcontour\"}],\"mesh3d\":[{\"colorbar\":{\"outlinewidth\":0,\"ticks\":\"\"},\"type\":\"mesh3d\"}],\"parcoords\":[{\"line\":{\"colorbar\":{\"outlinewidth\":0,\"ticks\":\"\"}},\"type\":\"parcoords\"}],\"pie\":[{\"automargin\":true,\"type\":\"pie\"}],\"scatter\":[{\"marker\":{\"colorbar\":{\"outlinewidth\":0,\"ticks\":\"\"}},\"type\":\"scatter\"}],\"scatter3d\":[{\"line\":{\"colorbar\":{\"outlinewidth\":0,\"ticks\":\"\"}},\"marker\":{\"colorbar\":{\"outlinewidth\":0,\"ticks\":\"\"}},\"type\":\"scatter3d\"}],\"scattercarpet\":[{\"marker\":{\"colorbar\":{\"outlinewidth\":0,\"ticks\":\"\"}},\"type\":\"scattercarpet\"}],\"scattergeo\":[{\"marker\":{\"colorbar\":{\"outlinewidth\":0,\"ticks\":\"\"}},\"type\":\"scattergeo\"}],\"scattergl\":[{\"marker\":{\"colorbar\":{\"outlinewidth\":0,\"ticks\":\"\"}},\"type\":\"scattergl\"}],\"scattermapbox\":[{\"marker\":{\"colorbar\":{\"outlinewidth\":0,\"ticks\":\"\"}},\"type\":\"scattermapbox\"}],\"scatterpolar\":[{\"marker\":{\"colorbar\":{\"outlinewidth\":0,\"ticks\":\"\"}},\"type\":\"scatterpolar\"}],\"scatterpolargl\":[{\"marker\":{\"colorbar\":{\"outlinewidth\":0,\"ticks\":\"\"}},\"type\":\"scatterpolargl\"}],\"scatterternary\":[{\"marker\":{\"colorbar\":{\"outlinewidth\":0,\"ticks\":\"\"}},\"type\":\"scatterternary\"}],\"surface\":[{\"colorbar\":{\"outlinewidth\":0,\"ticks\":\"\"},\"colorscale\":[[0.0,\"#0d0887\"],[0.1111111111111111,\"#46039f\"],[0.2222222222222222,\"#7201a8\"],[0.3333333333333333,\"#9c179e\"],[0.4444444444444444,\"#bd3786\"],[0.5555555555555556,\"#d8576b\"],[0.6666666666666666,\"#ed7953\"],[0.7777777777777778,\"#fb9f3a\"],[0.8888888888888888,\"#fdca26\"],[1.0,\"#f0f921\"]],\"type\":\"surface\"}],\"table\":[{\"cells\":{\"fill\":{\"color\":\"#EBF0F8\"},\"line\":{\"color\":\"white\"}},\"header\":{\"fill\":{\"color\":\"#C8D4E3\"},\"line\":{\"color\":\"white\"}},\"type\":\"table\"}]},\"layout\":{\"annotationdefaults\":{\"arrowcolor\":\"#2a3f5f\",\"arrowhead\":0,\"arrowwidth\":1},\"autotypenumbers\":\"strict\",\"coloraxis\":{\"colorbar\":{\"outlinewidth\":0,\"ticks\":\"\"}},\"colorscale\":{\"diverging\":[[0,\"#8e0152\"],[0.1,\"#c51b7d\"],[0.2,\"#de77ae\"],[0.3,\"#f1b6da\"],[0.4,\"#fde0ef\"],[0.5,\"#f7f7f7\"],[0.6,\"#e6f5d0\"],[0.7,\"#b8e186\"],[0.8,\"#7fbc41\"],[0.9,\"#4d9221\"],[1,\"#276419\"]],\"sequential\":[[0.0,\"#0d0887\"],[0.1111111111111111,\"#46039f\"],[0.2222222222222222,\"#7201a8\"],[0.3333333333333333,\"#9c179e\"],[0.4444444444444444,\"#bd3786\"],[0.5555555555555556,\"#d8576b\"],[0.6666666666666666,\"#ed7953\"],[0.7777777777777778,\"#fb9f3a\"],[0.8888888888888888,\"#fdca26\"],[1.0,\"#f0f921\"]],\"sequentialminus\":[[0.0,\"#0d0887\"],[0.1111111111111111,\"#46039f\"],[0.2222222222222222,\"#7201a8\"],[0.3333333333333333,\"#9c179e\"],[0.4444444444444444,\"#bd3786\"],[0.5555555555555556,\"#d8576b\"],[0.6666666666666666,\"#ed7953\"],[0.7777777777777778,\"#fb9f3a\"],[0.8888888888888888,\"#fdca26\"],[1.0,\"#f0f921\"]]},\"colorway\":[\"#636efa\",\"#EF553B\",\"#00cc96\",\"#ab63fa\",\"#FFA15A\",\"#19d3f3\",\"#FF6692\",\"#B6E880\",\"#FF97FF\",\"#FECB52\"],\"font\":{\"color\":\"#2a3f5f\"},\"geo\":{\"bgcolor\":\"white\",\"lakecolor\":\"white\",\"landcolor\":\"#E5ECF6\",\"showlakes\":true,\"showland\":true,\"subunitcolor\":\"white\"},\"hoverlabel\":{\"align\":\"left\"},\"hovermode\":\"closest\",\"mapbox\":{\"style\":\"light\"},\"paper_bgcolor\":\"white\",\"plot_bgcolor\":\"#E5ECF6\",\"polar\":{\"angularaxis\":{\"gridcolor\":\"white\",\"linecolor\":\"white\",\"ticks\":\"\"},\"bgcolor\":\"#E5ECF6\",\"radialaxis\":{\"gridcolor\":\"white\",\"linecolor\":\"white\",\"ticks\":\"\"}},\"scene\":{\"xaxis\":{\"backgroundcolor\":\"#E5ECF6\",\"gridcolor\":\"white\",\"gridwidth\":2,\"linecolor\":\"white\",\"showbackground\":true,\"ticks\":\"\",\"zerolinecolor\":\"white\"},\"yaxis\":{\"backgroundcolor\":\"#E5ECF6\",\"gridcolor\":\"white\",\"gridwidth\":2,\"linecolor\":\"white\",\"showbackground\":true,\"ticks\":\"\",\"zerolinecolor\":\"white\"},\"zaxis\":{\"backgroundcolor\":\"#E5ECF6\",\"gridcolor\":\"white\",\"gridwidth\":2,\"linecolor\":\"white\",\"showbackground\":true,\"ticks\":\"\",\"zerolinecolor\":\"white\"}},\"shapedefaults\":{\"line\":{\"color\":\"#2a3f5f\"}},\"ternary\":{\"aaxis\":{\"gridcolor\":\"white\",\"linecolor\":\"white\",\"ticks\":\"\"},\"baxis\":{\"gridcolor\":\"white\",\"linecolor\":\"white\",\"ticks\":\"\"},\"bgcolor\":\"#E5ECF6\",\"caxis\":{\"gridcolor\":\"white\",\"linecolor\":\"white\",\"ticks\":\"\"}},\"title\":{\"x\":0.05},\"xaxis\":{\"automargin\":true,\"gridcolor\":\"white\",\"linecolor\":\"white\",\"ticks\":\"\",\"title\":{\"standoff\":15},\"zerolinecolor\":\"white\",\"zerolinewidth\":2},\"yaxis\":{\"automargin\":true,\"gridcolor\":\"white\",\"linecolor\":\"white\",\"ticks\":\"\",\"title\":{\"standoff\":15},\"zerolinecolor\":\"white\",\"zerolinewidth\":2}}},\"title\":{\"text\":\"GSA CALC Contracts by State\"}},                        {\"responsive\": true}                    ).then(function(){\n",
       "                            \n",
       "var gd = document.getElementById('a090c3d9-efc0-4e2d-a73f-2a8a6503718e');\n",
       "var x = new MutationObserver(function (mutations, observer) {{\n",
       "        var display = window.getComputedStyle(gd).display;\n",
       "        if (!display || display === 'none') {{\n",
       "            console.log([gd, 'removed!']);\n",
       "            Plotly.purge(gd);\n",
       "            observer.disconnect();\n",
       "        }}\n",
       "}});\n",
       "\n",
       "// Listen for the removal of the full notebook cells\n",
       "var notebookContainer = gd.closest('#notebook-container');\n",
       "if (notebookContainer) {{\n",
       "    x.observe(notebookContainer, {childList: true});\n",
       "}}\n",
       "\n",
       "// Listen for the clearing of the current output cell\n",
       "var outputEl = gd.closest('.output');\n",
       "if (outputEl) {{\n",
       "    x.observe(outputEl, {childList: true});\n",
       "}}\n",
       "\n",
       "                        })                };                });            </script>        </div>"
      ]
     },
     "metadata": {},
     "output_type": "display_data"
    }
   ],
   "source": [
    "# plot state counts from CALC data\n",
    "import plotly.express as px\n",
    "\n",
    "fig = px.choropleth(dfstate, locations=\"state\", color=\"count\", \n",
    "                    locationmode=\"USA-states\",\n",
    "                    scope=\"usa\",\n",
    "                    color_continuous_scale=px.colors.sequential.Purp,\n",
    "                    range_color=(0,dfstate['count'].max()),\n",
    "                    title=\"GSA CALC Contracts by State\")\n",
    "fig.update_layout(coloraxis_colorbar=dict(\n",
    "    title=\"Total Number of Contracts\",\n",
    "    thicknessmode=\"pixels\", thickness=50,\n",
    "    lenmode=\"pixels\", len=350,\n",
    "    yanchor=\"top\", y=1,\n",
    "    ticks=\"outside\"\n",
    "))\n",
    "fig.show()"
   ]
  }
 ],
 "metadata": {
  "kernelspec": {
   "display_name": "Python 3",
   "language": "python",
   "name": "python3"
  },
  "language_info": {
   "codemirror_mode": {
    "name": "ipython",
    "version": 3
   },
   "file_extension": ".py",
   "mimetype": "text/x-python",
   "name": "python",
   "nbconvert_exporter": "python",
   "pygments_lexer": "ipython3",
   "version": "3.8.10"
  }
 },
 "nbformat": 4,
 "nbformat_minor": 5
}
