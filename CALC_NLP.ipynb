{
 "cells": [
  {
   "cell_type": "markdown",
   "metadata": {},
   "source": [
    "Import packages "
   ]
  },
  {
   "cell_type": "code",
   "execution_count": 16,
   "metadata": {},
   "outputs": [],
   "source": [
    "import re \n",
    "import sys\n",
    "import string\n",
    "import csv \n",
    "import sqlite3\n",
    "import tqdm \n",
    "import pandas as pd\n",
    "from sklearn.feature_extraction.text import CountVectorizer,TfidfVectorizer,TfidfTransformer\n",
    "from sklearn.naive_bayes import MultinomialNB\n",
    "from sklearn.base import TransformerMixin\n",
    "from sklearn.pipeline import Pipeline\n",
    "from sklearn.metrics.pairwise import linear_kernel,cosine_similarity\n",
    "import nltk \n",
    "from nltk.corpus import stopwords \n",
    "import numpy as np\n",
    "from uszipcode import SearchEngine, SimpleZipcode, Zipcode"
   ]
  },
  {
   "cell_type": "markdown",
   "metadata": {},
   "source": [
    "Increase CSV field size limit to maximim possible"
   ]
  },
  {
   "cell_type": "code",
   "execution_count": 17,
   "metadata": {},
   "outputs": [],
   "source": [
    "field_size_limit = sys.maxsize\n",
    "while True:\n",
    "    try:\n",
    "        csv.field_size_limit(field_size_limit)\n",
    "        break\n",
    "    except OverflowError:\n",
    "        field_size_limit = int(field_size_limit / 10)"
   ]
  },
  {
   "cell_type": "markdown",
   "metadata": {},
   "source": [
    "Read in data and create SQL database to store data "
   ]
  },
  {
   "cell_type": "code",
   "execution_count": 18,
   "metadata": {},
   "outputs": [
    {
     "name": "stdout",
     "output_type": "stream",
     "text": [
      "<generator object <genexpr> at 0x13814e820>\n"
     ]
    }
   ],
   "source": [
    "# Read Data \n",
    "calc_data = []\n",
    "with open ('calc_scrape070421.csv') as df: \n",
    "    jd = csv.reader(df)    \n",
    "    next(jd)\n",
    "    for i in jd: \n",
    "        calc_data.append((int(i[0]),i[15],i[2],i[3],i[4],i[5],i[6],i[7],i[8],i[9],i[10],int(i[11]),float(i[12]),i[13],i[14],i[16],i[17],i[18]))\n",
    "\n",
    "\n",
    "sql_string1 = \"\"\"\n",
    "    CREATE TABLE IF NOT EXISTS calc(\n",
    "        c_row_id                     INTEGER, \n",
    "        contract_id                  TEXT,  \n",
    "        business_size                TEXT,\n",
    "        schedule                     TEXT, \n",
    "        site                         TEXT, \n",
    "        begin_date                   TEXT, \n",
    "        end_date                     TEXT, \n",
    "        SIN                          TEXT, \n",
    "        vendor_name                  TEXT, \n",
    "        c_labor category             TEXT, \n",
    "        c_edu_level                  TEXT, \n",
    "        c_min_year_exp               INTEGER, \n",
    "        c_current_year               REAL, \n",
    "        c_next_year                  TEXT, \n",
    "        c_second_year                TEXT, \n",
    "        pdf_url                      TEXT, \n",
    "        c_jd                         TEXT, \n",
    "        zip_code                     INTEGER \n",
    "        ); \n",
    "    \"\"\" \n",
    "\n",
    "allwyn_data = []\n",
    "with open('Allwyn Initial Job Description Input.csv') as df: \n",
    "    a_jd = csv.reader(df)\n",
    "    next(a_jd)\n",
    "    for i in a_jd: \n",
    "        allwyn_data.append((int(i[0]),i[1],int(i[3]),i[4],i[6]))\n",
    "\n",
    "print(i[4] for i in allwyn_data)    \n",
    "\n",
    "sql_string2 = \"\"\"\n",
    "    CREATE TABLE IF NOT EXISTS allwyn(\n",
    "        a_row_id                    INTEGER, \n",
    "        a_labor category            TEXT, \n",
    "        a_year_exp                  INTEGER, \n",
    "        a_edu_level                 TEXT, \n",
    "        a_jd                        TEXT  \n",
    "        ); \n",
    "    \"\"\"\n",
    "\n",
    "# create database \n",
    "calc_con = sqlite3.Connection('calc.db')\n",
    "c = calc_con.cursor()\n",
    "\n",
    "c.execute(\"DROP TABLE IF EXISTS calc\")\n",
    "c.execute(sql_string1)\n",
    "c.executemany(\"INSERT INTO calc VALUES(?,?,?,?,?,?,?,?,?,?,?,?,?,?,?,?,?,?);\", calc_data)\n",
    "calc_con.commit()  \n",
    "\n",
    "c.execute(\"DROP TABLE IF EXISTS allwyn\")\n",
    "c.execute(sql_string2)\n",
    "c.executemany(\"INSERT INTO allwyn VALUES(?,?,?,?,?);\", allwyn_data)\n",
    "calc_con.commit()"
   ]
  },
  {
   "cell_type": "markdown",
   "metadata": {},
   "source": [
    "Create pendas dataframe for NLP "
   ]
  },
  {
   "cell_type": "code",
   "execution_count": 19,
   "metadata": {},
   "outputs": [],
   "source": [
    "rd = c.execute(\"SELECT c_row_id, c_labor category, c_jd, c_min_year_exp FROM calc;\").fetchall()\n",
    "c_jd_nlp = [(x[0],x[1],x[2],x[3]) for x in rd]\n",
    "\n",
    "rd = c.execute(\"SELECT a_labor category, a_jd FROM allwyn;\").fetchall()\n",
    "a_jd_nlp = [(x[0],x[1]) for x in rd]\n",
    "\n",
    "c_df = pd.DataFrame(c_jd_nlp, columns=['c_id','c_title','c_jd','c_min_year'])\n",
    "a_df = pd.DataFrame(a_jd_nlp, columns=['a_title','a_jd'])\n",
    "\n",
    "# Drop rows without calc_jd\n",
    "c_df.replace('', np.nan, inplace=True) \n",
    "c_df = c_df.dropna(subset = ['c_jd'])"
   ]
  },
  {
   "cell_type": "markdown",
   "metadata": {},
   "source": [
    "# NLP "
   ]
  },
  {
   "cell_type": "markdown",
   "metadata": {},
   "source": [
    "Job title matching "
   ]
  },
  {
   "cell_type": "code",
   "execution_count": 20,
   "metadata": {},
   "outputs": [
    {
     "name": "stdout",
     "output_type": "stream",
     "text": [
      "0.5773502691896257\n"
     ]
    },
    {
     "data": {
      "text/plain": [
       "Pipeline(steps=[('vect', CountVectorizer()), ('tfidf', TfidfTransformer()),\n",
       "                ('clf', MultinomialNB())])"
      ]
     },
     "execution_count": 20,
     "metadata": {},
     "output_type": "execute_result"
    }
   ],
   "source": [
    "count_vect = CountVectorizer()\n",
    "X_train_counts_title = count_vect.fit_transform(a_df['a_title'])\n",
    "X_train_counts_title.shape\n",
    "count_vect.vocabulary_.get(u'algorithm')\n",
    "\n",
    "index_title = count_vect.get_feature_names() \n",
    "\n",
    "tfidf_transformer = TfidfTransformer()\n",
    "X_train_tfidf_title = tfidf_transformer.fit_transform(X_train_counts_title)\n",
    "X_train_tfidf_title.shape\n",
    "\n",
    "a_tfidf_title = X_train_tfidf_title.toarray() \n",
    "\n",
    "clf_title = MultinomialNB().fit(X_train_tfidf_title, a_df['a_title'])\n",
    "\n",
    "docs_new_title = c_df['c_title']\n",
    "X_new_counts_title = count_vect.transform(docs_new_title)\n",
    "X_new_tfidf_title = tfidf_transformer.transform(X_new_counts_title)\n",
    "\n",
    "c_tfidf_title = X_new_tfidf_title.toarray()\n",
    "\n",
    "# cosine similarity score\n",
    "sc_score_title = cosine_similarity(c_tfidf_title,a_tfidf_title)\n",
    "print(max(sc_score_title[11])) \n",
    "\n",
    "predicted_title = clf_title.predict(X_new_tfidf_title)\n",
    "\n",
    "text_clf_title = Pipeline([('vect', CountVectorizer()),('tfidf', TfidfTransformer()),\n",
    "                     ('clf', MultinomialNB()),])\n",
    "text_clf_title.fit(a_df['a_jd'], a_df['a_title'])"
   ]
  },
  {
   "cell_type": "markdown",
   "metadata": {},
   "source": [
    "Job title matching NLP result "
   ]
  },
  {
   "cell_type": "code",
   "execution_count": 21,
   "metadata": {},
   "outputs": [],
   "source": [
    "c_l = range(len(predicted_title)) \n",
    "sc_score_list_title = []\n",
    "for i in c_l: \n",
    "    sc_score_list_title.append(max(sc_score_title[i]))\n",
    "nlp_output_title = list(zip(c_l,sc_score_list_title,predicted_title))\n",
    "\n",
    "c_df['title_matching_similarity'] = sc_score_list_title \n",
    "c_df['title_matching_allwyn'] = predicted_title"
   ]
  },
  {
   "cell_type": "markdown",
   "metadata": {},
   "source": [
    "Drop title matching score <= 0.4"
   ]
  },
  {
   "cell_type": "code",
   "execution_count": 22,
   "metadata": {},
   "outputs": [],
   "source": [
    "c_df = c_df.drop(c_df[c_df.title_matching_similarity < 0.4].index)"
   ]
  },
  {
   "cell_type": "markdown",
   "metadata": {},
   "source": [
    "Job discription matching "
   ]
  },
  {
   "cell_type": "code",
   "execution_count": 23,
   "metadata": {},
   "outputs": [
    {
     "name": "stdout",
     "output_type": "stream",
     "text": [
      "0.40549334318705804\n"
     ]
    },
    {
     "data": {
      "text/plain": [
       "Pipeline(steps=[('vect', CountVectorizer()), ('tfidf', TfidfTransformer()),\n",
       "                ('clf', MultinomialNB())])"
      ]
     },
     "execution_count": 23,
     "metadata": {},
     "output_type": "execute_result"
    }
   ],
   "source": [
    "count_vect = CountVectorizer()\n",
    "X_train_counts = count_vect.fit_transform(a_df['a_jd'])\n",
    "X_train_counts.shape\n",
    "count_vect.vocabulary_.get(u'algorithm')\n",
    "\n",
    "index = count_vect.get_feature_names()\n",
    "\n",
    "tfidf_transformer = TfidfTransformer()\n",
    "X_train_tfidf = tfidf_transformer.fit_transform(X_train_counts)\n",
    "X_train_tfidf.shape\n",
    "\n",
    "a_tfidf = X_train_tfidf.toarray()\n",
    "\n",
    "clf = MultinomialNB().fit(X_train_tfidf, a_df['a_title'])\n",
    "\n",
    "docs_new = c_df['c_jd']\n",
    "X_new_counts = count_vect.transform(docs_new)\n",
    "X_new_tfidf = tfidf_transformer.transform(X_new_counts)\n",
    "\n",
    "c_tfidf = X_new_tfidf.toarray()\n",
    "\n",
    "# cosine similarity score\n",
    "sc_score = cosine_similarity(c_tfidf,a_tfidf)\n",
    "print(max(sc_score[11])) \n",
    "\n",
    "predicted = clf.predict(X_new_tfidf)\n",
    "\n",
    "text_clf = Pipeline([('vect', CountVectorizer()),('tfidf', TfidfTransformer()),\n",
    "                     ('clf', MultinomialNB()),])\n",
    "text_clf.fit(c_df['c_jd'], c_df['c_title'])"
   ]
  },
  {
   "cell_type": "markdown",
   "metadata": {},
   "source": [
    "Convert numpy module into regular list "
   ]
  },
  {
   "cell_type": "code",
   "execution_count": 24,
   "metadata": {},
   "outputs": [],
   "source": [
    "output = predicted.tolist()\n",
    "c_l = range(len(output)) \n",
    "sc_score_list = []\n",
    "for i in c_l: \n",
    "    sc_score_list.append(max(sc_score[i]))\n",
    "nlp_output = list(zip(sc_score_list,output))\n",
    "\n",
    "c_df['jd_matching_similarity'] = sc_score_list \n",
    "c_df['jd_matched_allwyn_title'] = output "
   ]
  },
  {
   "cell_type": "markdown",
   "metadata": {},
   "source": [
    "Drop title matching score < 0.1 "
   ]
  },
  {
   "cell_type": "code",
   "execution_count": 25,
   "metadata": {},
   "outputs": [],
   "source": [
    "c_df = c_df.drop(c_df[c_df.jd_matching_similarity < 0.1].index) "
   ]
  },
  {
   "cell_type": "markdown",
   "metadata": {},
   "source": [
    "Consider min years of experience for software developer III "
   ]
  },
  {
   "cell_type": "code",
   "execution_count": 26,
   "metadata": {},
   "outputs": [
    {
     "name": "stderr",
     "output_type": "stream",
     "text": [
      "<ipython-input-26-730d1838e305>:2: SettingWithCopyWarning: \n",
      "A value is trying to be set on a copy of a slice from a DataFrame\n",
      "\n",
      "See the caveats in the documentation: https://pandas.pydata.org/pandas-docs/stable/user_guide/indexing.html#returning-a-view-versus-a-copy\n",
      "  c_df['jd_matched_allwyn_title'][mask] = 'Software Developer III'\n"
     ]
    }
   ],
   "source": [
    "mask = (c_df['c_min_year'] >5) & (c_df['jd_matched_allwyn_title'] == 'Software Developer I')\n",
    "c_df['jd_matched_allwyn_title'][mask] = 'Software Developer III' "
   ]
  },
  {
   "cell_type": "markdown",
   "metadata": {},
   "source": [
    "Convert pandas df into list with index and calculate average cosine similarity score "
   ]
  },
  {
   "cell_type": "code",
   "execution_count": 27,
   "metadata": {},
   "outputs": [
    {
     "name": "stdout",
     "output_type": "stream",
     "text": [
      "average title matching score = 0.40727175161407825 average jd matching score = 0.34771955921646724\n"
     ]
    }
   ],
   "source": [
    "c_df_final = c_df.values.tolist()\n",
    "c_df_final = [(x[0],x[4],x[5],x[6],x[7]) for x in c_df_final]\n",
    "\n",
    "def Average(lst):\n",
    "    return sum(lst) / len(lst)\n",
    "  \n",
    "title_avg = Average(sc_score_list_title)\n",
    "jd_avg = Average(sc_score_list)\n",
    "print(\"average title matching score =\", title_avg, \"average jd matching score =\", jd_avg) "
   ]
  },
  {
   "cell_type": "markdown",
   "metadata": {},
   "source": [
    "Merge NLP output with original calc data set into database "
   ]
  },
  {
   "cell_type": "code",
   "execution_count": 28,
   "metadata": {},
   "outputs": [],
   "source": [
    "sql_string3 = \"\"\"\n",
    "    CREATE TABLE IF NOT EXISTS c_temp(\n",
    "        c_row_id                        INTEGER, \n",
    "        title_cosine_similarity         REAL,\n",
    "        title_matching_allwyn           TEXT,\n",
    "        jd_cosine_similarity            REAL, \n",
    "        jd_matching_allwyn              TEXT\n",
    "        ); \n",
    "    \"\"\" \n",
    "\n",
    "c.execute(\"DROP TABLE IF EXISTS c_temp\")\n",
    "c.execute(sql_string3)\n",
    "c.executemany(\"INSERT INTO c_temp VALUES(?,?,?,?,?);\", c_df_final)\n",
    "calc_con.commit()  \n",
    "\n",
    "sql_string4 = \"\"\"\n",
    "    CREATE TABLE IF NOT EXISTS calc_final AS     \n",
    "    SELECT calc.*, c.title_cosine_similarity, c.title_matching_allwyn, c.jd_cosine_similarity, c.jd_matching_allwyn\n",
    "    FROM calc \n",
    "    INNER JOIN c_temp c\n",
    "    ON calc.c_row_id = c.c_row_id;      \n",
    "    \"\"\"\n",
    "c.execute(\"DROP TABLE IF EXISTS calc_final\")\n",
    "c.execute(sql_string4).fetchall()\n",
    "calc_con.commit() "
   ]
  },
  {
   "cell_type": "code",
   "execution_count": 29,
   "metadata": {},
   "outputs": [],
   "source": [
    "sql_string6 = \"\"\"\n",
    "    CREATE TABLE IF NOT EXISTS predictive_modeling_tbl AS \n",
    "    SELECT c.c_row_id, c.c_labor, c.begin_date, c.end_date, c.c_edu_level, c.c_min_year_exp, c.c_current_year, c.c_next_year, c.c_second_year, ct.jd_matching_allwyn\n",
    "    FROM CALC c\n",
    "    INNER JOIN c_temp ct ON c.c_row_id = ct.c_row_id; \n",
    "    \"\"\"\n",
    "    \n",
    "c.execute(\"DROP TABLE IF EXISTS predictive_modeling_tbl\")\n",
    "c.execute(sql_string6)\n",
    "\n",
    "c.close()"
   ]
  }
 ],
 "metadata": {
  "kernelspec": {
   "display_name": "Python 3",
   "language": "python",
   "name": "python3"
  },
  "language_info": {
   "codemirror_mode": {
    "name": "ipython",
    "version": 3
   },
   "file_extension": ".py",
   "mimetype": "text/x-python",
   "name": "python",
   "nbconvert_exporter": "python",
   "pygments_lexer": "ipython3",
   "version": "3.8.5"
  }
 },
 "nbformat": 4,
 "nbformat_minor": 4
}
